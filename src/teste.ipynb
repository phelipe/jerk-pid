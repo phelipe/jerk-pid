{
 "cells": [
  {
   "cell_type": "code",
   "execution_count": 1,
   "metadata": {
    "ExecuteTime": {
     "end_time": "2018-04-16T17:38:19.637000-03:00",
     "start_time": "2018-04-16T20:38:12.452Z"
    }
   },
   "outputs": [],
   "source": [
    "using SymPy"
   ]
  },
  {
   "cell_type": "code",
   "execution_count": 6,
   "metadata": {
    "ExecuteTime": {
     "end_time": "2018-04-16T17:38:52.023000-03:00",
     "start_time": "2018-04-16T20:38:51.750Z"
    }
   },
   "outputs": [
    {
     "data": {
      "text/plain": [
       "(q11, q12, q21, q22, dq11, dq12, dq21, dq22)"
      ]
     },
     "execution_count": 6,
     "metadata": {},
     "output_type": "execute_result"
    }
   ],
   "source": [
    "@vars q11 q12 q21 q22 dq11 dq12 dq21 dq22\n"
   ]
  },
  {
   "cell_type": "markdown",
   "metadata": {
    "heading_collapsed": true
   },
   "source": [
    "# Variáveis conforme código antigo"
   ]
  },
  {
   "cell_type": "code",
   "execution_count": 12,
   "metadata": {
    "ExecuteTime": {
     "end_time": "2018-04-16T17:42:12.736000-03:00",
     "start_time": "2018-04-16T20:42:12.708Z"
    },
    "hidden": true,
    "scrolled": true
   },
   "outputs": [],
   "source": [
    "D11 = (103109*cos(q12))/200000000 + (217704077823*sin(q12)^2)/(82656250000000*sin(q11 + q12 - q21 - q22)^2) - ((sin(q11 + q12 - q21 - q22) + (4*sin(q11 - q21 - q22))/5)*((103109*cos(q12))/400000000 - (2479099*(sin(q11 + q12 - q21 - q22)/8 + sin(q11 - q21 - q22)/10))/(1500000000*sin(q11 + q12 - q21 - q22)) + 2371507/16000000000))/sin(q11 + q12 - q21 - q22) - (8*(sin(q11 + q12 - q21 - q22)/8 + sin(q11 - q21 - q22)/10)*((103109*cos(q12))/400000000 + 2371507/16000000000))/sin(q11 + q12 - q21 - q22) + 2177040973243/3000000000000000;"
   ]
  },
  {
   "cell_type": "code",
   "execution_count": 13,
   "metadata": {
    "ExecuteTime": {
     "end_time": "2018-04-16T17:42:19.063000-03:00",
     "start_time": "2018-04-16T20:42:19.032Z"
    },
    "hidden": true
   },
   "outputs": [],
   "source": [
    "D12 = (20*sin(q12)*((176952321*cos(q22))/62500000000 + 756825076917/250000000000000))/(23*sin(q11 + q12 - q21 - q22)) - (16*sin(q22)*((103109*cos(q12))/400000000 - (2479099*(sin(q11 + q12 - q21 - q22)/8 + sin(q11 - q21 - q22)/10))/(1500000000*sin(q11 + q12 - q21 - q22)) + 2371507/16000000000))/(25*sin(q11 + q12 - q21 - q22)) - (217704077823*sin(q12)*(23*sin(q11 + q12 - q21 - q22) + 16*sin(q11 + q12 - q21)))/(1653125000000000*sin(q11 + q12 - q21 - q22)^2);"
   ]
  },
  {
   "cell_type": "code",
   "execution_count": 14,
   "metadata": {
    "ExecuteTime": {
     "end_time": "2018-04-16T17:42:34.860000-03:00",
     "start_time": "2018-04-16T20:42:34.830Z"
    },
    "hidden": true
   },
   "outputs": [],
   "source": [
    "D21 = (20*sin(q12)*((176952321*cos(q22))/62500000000 - (217704077823*((23*sin(q11 + q12 - q21 - q22))/200 + (2*sin(q11 + q12 - q21))/25))/(7187500000000*sin(q11 + q12 - q21 - q22)) + 756825076917/250000000000000))/(23*sin(q11 + q12 - q21 - q22)) - (16*sin(q22)*((103109*cos(q12))/400000000 + 2371507/16000000000))/(25*sin(q11 + q12 - q21 - q22)) + (2479099*sin(q22)*(sin(q11 + q12 - q21 - q22) + (4*sin(q11 - q21 - q22))/5))/(18750000000*sin(q11 + q12 - q21 - q22)^2);"
   ]
  },
  {
   "cell_type": "code",
   "execution_count": 15,
   "metadata": {
    "ExecuteTime": {
     "end_time": "2018-04-16T17:42:47.437000-03:00",
     "start_time": "2018-04-16T20:42:47.408Z"
    },
    "hidden": true
   },
   "outputs": [],
   "source": [
    "D22 = (176952321*cos(q22))/31250000000 + (2479099*sin(q22)^2)/(29296875000*sin(q11 + q12 - q21 - q22)^2) - (200*((176952321*cos(q22))/62500000000 + 756825076917/250000000000000)*((23*sin(q11 + q12 - q21 - q22))/200 + (2*sin(q11 + q12 - q21))/25))/(23*sin(q11 + q12 - q21 - q22)) - ((23*sin(q11 + q12 - q21 - q22) + 16*sin(q11 + q12 - q21))*((176952321*cos(q22))/62500000000 - (217704077823*((23*sin(q11 + q12 - q21 - q22))/200 + (2*sin(q11 + q12 - q21))/25))/(7187500000000*sin(q11 + q12 - q21 - q22)) + 756825076917/250000000000000))/(23*sin(q11 + q12 - q21 - q22)) + 89825638637/15625000000000;"
   ]
  },
  {
   "cell_type": "code",
   "execution_count": 16,
   "metadata": {
    "ExecuteTime": {
     "end_time": "2018-04-16T17:43:09.066000-03:00",
     "start_time": "2018-04-16T20:43:08.936Z"
    },
    "hidden": true
   },
   "outputs": [],
   "source": [
    "C11 = (103109*dq12*sin(q12)*(sin(q11 + q12 - q21 - q22) + (4*sin(q11 - q21 - q22))/5))/(400000000*sin(q11 + q12 - q21 - q22)) - ((103109*cos(q12))/400000000 - (2479099*(sin(q11 + q12 - q21 - q22)/8 + sin(q11 - q21 - q22)/10))/(1500000000*sin(q11 + q12 - q21 - q22)) + 2371507/16000000000)*((8*sin(q21 + q22)*((sin(q11 + q12)*(dq11 + dq12))/8 + (dq11*sin(q11))/10))/sin(q11 + q12 - q21 - q22) + (8*cos(q21 + q22)*((cos(q11 + q12)*(dq11 + dq12))/8 + (dq11*cos(q11))/10))/sin(q11 + q12 - q21 - q22) - (20*sin(q12)*((23*cos(q21 + q22)^2*(dq21 + dq22))/(25*sin(q11 + q12 - q21 - q22)) + (23*sin(q21 + q22)^2*(dq21 + dq22))/(25*sin(q11 + q12 - q21 - q22))))/(23*sin(q11 + q12 - q21 - q22)) - (8*(sin(q11 + q12 - q21 - q22)/8 + sin(q11 - q21 - q22)/10)*((cos(q11 + q12)*cos(q21 + q22)*(dq11 + dq12))/sin(q11 + q12 - q21 - q22) + (sin(q11 + q12)*sin(q21 + q22)*(dq11 + dq12))/sin(q11 + q12 - q21 - q22)))/sin(q11 + q12 - q21 - q22)) - (217704077823*sin(q12)*((200*sin(q11 + q12)*((sin(q11 + q12)*(dq11 + dq12))/8 + (dq11*sin(q11))/10))/(23*sin(q11 + q12 - q21 - q22)) - (8*(sin(q11 + q12 - q21 - q22)/8 + sin(q11 - q21 - q22)/10)*((25*cos(q11 + q12)^2*(dq11 + dq12))/(23*sin(q11 + q12 - q21 - q22)) + (25*sin(q11 + q12)^2*(dq11 + dq12))/(23*sin(q11 + q12 - q21 - q22))))/sin(q11 + q12 - q21 - q22) - (20*sin(q12)*((cos(q11 + q12)*cos(q21 + q22)*(dq21 + dq22))/sin(q11 + q12 - q21 - q22) + (sin(q11 + q12)*sin(q21 + q22)*(dq21 + dq22))/sin(q11 + q12 - q21 - q22)))/(23*sin(q11 + q12 - q21 - q22)) + (200*cos(q11 + q12)*((cos(q11 + q12)*(dq11 + dq12))/8 + (dq11*cos(q11))/10))/(23*sin(q11 + q12 - q21 - q22))))/(71875000000000*sin(q11 + q12 - q21 - q22)) - (103109*dq12*sin(q12))/200000000 - (103109*dq11*sin(q12)*(sin(q11 + q12 - q21 - q22)/8 + sin(q11 - q21 - q22)/10))/(50000000*sin(q11 + q12 - q21 - q22));"
   ]
  },
  {
   "cell_type": "code",
   "execution_count": 17,
   "metadata": {
    "ExecuteTime": {
     "end_time": "2018-04-16T17:43:23.614000-03:00",
     "start_time": "2018-04-16T20:43:23.492Z"
    },
    "hidden": true
   },
   "outputs": [],
   "source": [
    "C12 = ((103109*cos(q12))/400000000 - (2479099*(sin(q11 + q12 - q21 - q22)/8 + sin(q11 - q21 - q22)/10))/(1500000000*sin(q11 + q12 - q21 - q22)) + 2371507/16000000000)*((8*sin(q21 + q22)*((23*sin(q21 + q22)*(dq21 + dq22))/200 + (2*dq21*sin(q21))/25))/sin(q11 + q12 - q21 - q22) - (200*((23*cos(q21 + q22)^2*(dq21 + dq22))/(25*sin(q11 + q12 - q21 - q22)) + (23*sin(q21 + q22)^2*(dq21 + dq22))/(25*sin(q11 + q12 - q21 - q22)))*((23*sin(q11 + q12 - q21 - q22))/200 + (2*sin(q11 + q12 - q21))/25))/(23*sin(q11 + q12 - q21 - q22)) + (16*sin(q22)*((cos(q11 + q12)*cos(q21 + q22)*(dq11 + dq12))/sin(q11 + q12 - q21 - q22) + (sin(q11 + q12)*sin(q21 + q22)*(dq11 + dq12))/sin(q11 + q12 - q21 - q22)))/(25*sin(q11 + q12 - q21 - q22)) + (8*cos(q21 + q22)*((23*cos(q21 + q22)*(dq21 + dq22))/200 + (2*dq21*cos(q21))/25))/sin(q11 + q12 - q21 - q22)) + (217704077823*sin(q12)*((200*sin(q11 + q12)*((23*sin(q21 + q22)*(dq21 + dq22))/200 + (2*dq21*sin(q21))/25))/(23*sin(q11 + q12 - q21 - q22)) - (200*((cos(q11 + q12)*cos(q21 + q22)*(dq21 + dq22))/sin(q11 + q12 - q21 - q22) + (sin(q11 + q12)*sin(q21 + q22)*(dq21 + dq22))/sin(q11 + q12 - q21 - q22))*((23*sin(q11 + q12 - q21 - q22))/200 + (2*sin(q11 + q12 - q21))/25))/(23*sin(q11 + q12 - q21 - q22)) + (200*cos(q11 + q12)*((23*cos(q21 + q22)*(dq21 + dq22))/200 + (2*dq21*cos(q21))/25))/(23*sin(q11 + q12 - q21 - q22)) + (16*sin(q22)*((25*cos(q11 + q12)^2*(dq11 + dq12))/(23*sin(q11 + q12 - q21 - q22)) + (25*sin(q11 + q12)^2*(dq11 + dq12))/(23*sin(q11 + q12 - q21 - q22))))/(25*sin(q11 + q12 - q21 - q22))))/(71875000000000*sin(q11 + q12 - q21 - q22)) + (103109*dq12*sin(q12)*sin(q22))/(625000000*sin(q11 + q12 - q21 - q22)) + (176952321*dq21*sin(q12)*sin(q22))/(71875000000*sin(q11 + q12 - q21 - q22));"
   ]
  },
  {
   "cell_type": "code",
   "execution_count": 18,
   "metadata": {
    "ExecuteTime": {
     "end_time": "2018-04-16T17:43:36.809000-03:00",
     "start_time": "2018-04-16T20:43:36.750Z"
    },
    "hidden": true
   },
   "outputs": [],
   "source": [
    "C21 = (2479099*sin(q22)*((8*sin(q21 + q22)*((sin(q11 + q12)*(dq11 + dq12))/8 + (dq11*sin(q11))/10))/sin(q11 + q12 - q21 - q22) + (8*cos(q21 + q22)*((cos(q11 + q12)*(dq11 + dq12))/8 + (dq11*cos(q11))/10))/sin(q11 + q12 - q21 - q22) - (20*sin(q12)*((23*cos(q21 + q22)^2*(dq21 + dq22))/(25*sin(q11 + q12 - q21 - q22)) + (23*sin(q21 + q22)^2*(dq21 + dq22))/(25*sin(q11 + q12 - q21 - q22))))/(23*sin(q11 + q12 - q21 - q22)) - (8*(sin(q11 + q12 - q21 - q22)/8 + sin(q11 - q21 - q22)/10)*((cos(q11 + q12)*cos(q21 + q22)*(dq11 + dq12))/sin(q11 + q12 - q21 - q22) + (sin(q11 + q12)*sin(q21 + q22)*(dq11 + dq12))/sin(q11 + q12 - q21 - q22)))/sin(q11 + q12 - q21 - q22)))/(18750000000*sin(q11 + q12 - q21 - q22)) - ((176952321*cos(q22))/62500000000 - (217704077823*((23*sin(q11 + q12 - q21 - q22))/200 + (2*sin(q11 + q12 - q21))/25))/(7187500000000*sin(q11 + q12 - q21 - q22)) + 756825076917/250000000000000)*((200*sin(q11 + q12)*((sin(q11 + q12)*(dq11 + dq12))/8 + (dq11*sin(q11))/10))/(23*sin(q11 + q12 - q21 - q22)) - (8*(sin(q11 + q12 - q21 - q22)/8 + sin(q11 - q21 - q22)/10)*((25*cos(q11 + q12)^2*(dq11 + dq12))/(23*sin(q11 + q12 - q21 - q22)) + (25*sin(q11 + q12)^2*(dq11 + dq12))/(23*sin(q11 + q12 - q21 - q22))))/sin(q11 + q12 - q21 - q22) - (20*sin(q12)*((cos(q11 + q12)*cos(q21 + q22)*(dq21 + dq22))/sin(q11 + q12 - q21 - q22) + (sin(q11 + q12)*sin(q21 + q22)*(dq21 + dq22))/sin(q11 + q12 - q21 - q22)))/(23*sin(q11 + q12 - q21 - q22)) + (200*cos(q11 + q12)*((cos(q11 + q12)*(dq11 + dq12))/8 + (dq11*cos(q11))/10))/(23*sin(q11 + q12 - q21 - q22))) - (103109*dq11*sin(q12)*sin(q22))/(625000000*sin(q11 + q12 - q21 - q22)) - (176952321*dq22*sin(q12)*sin(q22))/(71875000000*sin(q11 + q12 - q21 - q22));"
   ]
  },
  {
   "cell_type": "code",
   "execution_count": 19,
   "metadata": {
    "ExecuteTime": {
     "end_time": "2018-04-16T17:43:48.781000-03:00",
     "start_time": "2018-04-16T20:43:48.716Z"
    },
    "hidden": true
   },
   "outputs": [],
   "source": [
    "C22 = ((176952321*cos(q22))/62500000000 - (217704077823*((23*sin(q11 + q12 - q21 - q22))/200 + (2*sin(q11 + q12 - q21))/25))/(7187500000000*sin(q11 + q12 - q21 - q22)) + 756825076917/250000000000000)*((200*sin(q11 + q12)*((23*sin(q21 + q22)*(dq21 + dq22))/200 + (2*dq21*sin(q21))/25))/(23*sin(q11 + q12 - q21 - q22)) - (200*((cos(q11 + q12)*cos(q21 + q22)*(dq21 + dq22))/sin(q11 + q12 - q21 - q22) + (sin(q11 + q12)*sin(q21 + q22)*(dq21 + dq22))/sin(q11 + q12 - q21 - q22))*((23*sin(q11 + q12 - q21 - q22))/200 + (2*sin(q11 + q12 - q21))/25))/(23*sin(q11 + q12 - q21 - q22)) + (200*cos(q11 + q12)*((23*cos(q21 + q22)*(dq21 + dq22))/200 + (2*dq21*cos(q21))/25))/(23*sin(q11 + q12 - q21 - q22)) + (16*sin(q22)*((25*cos(q11 + q12)^2*(dq11 + dq12))/(23*sin(q11 + q12 - q21 - q22)) + (25*sin(q11 + q12)^2*(dq11 + dq12))/(23*sin(q11 + q12 - q21 - q22))))/(25*sin(q11 + q12 - q21 - q22))) - (176952321*dq22*sin(q22))/31250000000 - (2479099*sin(q22)*((8*sin(q21 + q22)*((23*sin(q21 + q22)*(dq21 + dq22))/200 + (2*dq21*sin(q21))/25))/sin(q11 + q12 - q21 - q22) - (200*((23*cos(q21 + q22)^2*(dq21 + dq22))/(25*sin(q11 + q12 - q21 - q22)) + (23*sin(q21 + q22)^2*(dq21 + dq22))/(25*sin(q11 + q12 - q21 - q22)))*((23*sin(q11 + q12 - q21 - q22))/200 + (2*sin(q11 + q12 - q21))/25))/(23*sin(q11 + q12 - q21 - q22)) + (16*sin(q22)*((cos(q11 + q12)*cos(q21 + q22)*(dq11 + dq12))/sin(q11 + q12 - q21 - q22) + (sin(q11 + q12)*sin(q21 + q22)*(dq11 + dq12))/sin(q11 + q12 - q21 - q22)))/(25*sin(q11 + q12 - q21 - q22)) + (8*cos(q21 + q22)*((23*cos(q21 + q22)*(dq21 + dq22))/200 + (2*dq21*cos(q21))/25))/sin(q11 + q12 - q21 - q22)))/(18750000000*sin(q11 + q12 - q21 - q22)) + (176952321*dq22*sin(q22)*(23*sin(q11 + q12 - q21 - q22) + 16*sin(q11 + q12 - q21)))/(1437500000000*sin(q11 + q12 - q21 - q22)) - (176952321*dq21*sin(q22)*((23*sin(q11 + q12 - q21 - q22))/200 + (2*sin(q11 + q12 - q21))/25))/(7187500000*sin(q11 + q12 - q21 - q22));"
   ]
  },
  {
   "cell_type": "markdown",
   "metadata": {},
   "source": [
    "# Variáveis simplificadas"
   ]
  },
  {
   "cell_type": "code",
   "execution_count": 20,
   "metadata": {
    "ExecuteTime": {
     "end_time": "2018-04-16T17:44:36.163000-03:00",
     "start_time": "2018-04-16T20:44:19.964Z"
    }
   },
   "outputs": [
    {
     "data": {
      "text/latex": [
       "$$\\frac{2.52047889098929 \\cdot 10^{-16}}{\\sin^{2}{\\left (q_{11} + q_{12} - q_{21} - q_{22} \\right )}} \\left(10449795735504.0 \\sin^{2}{\\left (q_{12} \\right )} + 524577348400.0 \\sin^{2}{\\left (- q_{11} + q_{21} + q_{22} \\right )} + 1636339830000.0 \\sin{\\left (- q_{11} + q_{21} + q_{22} \\right )} \\sin{\\left (q_{11} + q_{12} - q_{21} - q_{22} \\right )} \\cos{\\left (q_{12} \\right )} - 370547968750.0 \\sin{\\left (- q_{11} + q_{21} + q_{22} \\right )} \\sin{\\left (q_{11} + q_{12} - q_{21} - q_{22} \\right )} + 2522669541176.37 \\sin^{2}{\\left (q_{11} + q_{12} - q_{21} - q_{22} \\right )}\\right)$$"
      ],
      "text/plain": [
       "                     ⎛                    2                          2        \n",
       "2.52047889098929e-16⋅⎝10449795735504.0⋅sin (q₁₂) + 524577348400.0⋅sin (-q₁₁ + \n",
       "──────────────────────────────────────────────────────────────────────────────\n",
       "                                                                              \n",
       "                                                                              \n",
       "\n",
       "                                                                              \n",
       "q₂₁ + q₂₂) + 1636339830000.0⋅sin(-q₁₁ + q₂₁ + q₂₂)⋅sin(q₁₁ + q₁₂ - q₂₁ - q₂₂)⋅\n",
       "──────────────────────────────────────────────────────────────────────────────\n",
       "                                                  2                           \n",
       "                                               sin (q₁₁ + q₁₂ - q₂₁ - q₂₂)    \n",
       "\n",
       "                                                                              \n",
       "cos(q₁₂) - 370547968750.0⋅sin(-q₁₁ + q₂₁ + q₂₂)⋅sin(q₁₁ + q₁₂ - q₂₁ - q₂₂) + 2\n",
       "──────────────────────────────────────────────────────────────────────────────\n",
       "                                                                              \n",
       "                                                                              \n",
       "\n",
       "                   2                       ⎞\n",
       "522669541176.37⋅sin (q₁₁ + q₁₂ - q₂₁ - q₂₂)⎠\n",
       "────────────────────────────────────────────\n",
       "                                            \n",
       "                                            "
      ]
     },
     "execution_count": 20,
     "metadata": {},
     "output_type": "execute_result"
    }
   ],
   "source": [
    "simplify(D11)"
   ]
  },
  {
   "cell_type": "code",
   "execution_count": 21,
   "metadata": {
    "ExecuteTime": {
     "end_time": "2018-04-16T17:45:29.755000-03:00",
     "start_time": "2018-04-16T20:45:25.728Z"
    }
   },
   "outputs": [
    {
     "data": {
      "text/latex": [
       "$$\\frac{1}{4959375000000000 \\sin^{2}{\\left (q_{11} + q_{12} - q_{21} - q_{22} \\right )}} \\left(- 653112233469 \\left(16 \\sin{\\left (q_{11} + q_{12} - q_{21} \\right )} + 23 \\sin{\\left (q_{11} + q_{12} - q_{21} - q_{22} \\right )}\\right) \\sin{\\left (q_{12} \\right )} + 69000 \\left(176952321 \\cos{\\left (q_{22} \\right )} + 189206269.22925\\right) \\sin{\\left (q_{12} \\right )} \\sin{\\left (q_{11} + q_{12} - q_{21} - q_{22} \\right )} - 52900 \\left(9916396.0 \\sin{\\left (- q_{11} + q_{21} + q_{22} \\right )} + 15466350.0 \\sin{\\left (q_{11} + q_{12} - q_{21} - q_{22} \\right )} \\cos{\\left (q_{12} \\right )} - 3502343.75 \\sin{\\left (q_{11} + q_{12} - q_{21} - q_{22} \\right )}\\right) \\sin{\\left (q_{22} \\right )}\\right)$$"
      ],
      "text/plain": [
       "-653112233469⋅(16⋅sin(q₁₁ + q₁₂ - q₂₁) + 23⋅sin(q₁₁ + q₁₂ - q₂₁ - q₂₂))⋅sin(q₁\n",
       "──────────────────────────────────────────────────────────────────────────────\n",
       "                                                                              \n",
       "                                                                              \n",
       "\n",
       "₂) + 69000⋅(176952321⋅cos(q₂₂) + 189206269.22925)⋅sin(q₁₂)⋅sin(q₁₁ + q₁₂ - q₂₁\n",
       "──────────────────────────────────────────────────────────────────────────────\n",
       "                                                                        2     \n",
       "                                                    4959375000000000⋅sin (q₁₁ \n",
       "\n",
       " - q₂₂) - 52900⋅(9916396.0⋅sin(-q₁₁ + q₂₁ + q₂₂) + 15466350.0⋅sin(q₁₁ + q₁₂ - \n",
       "──────────────────────────────────────────────────────────────────────────────\n",
       "                                                                              \n",
       "+ q₁₂ - q₂₁ - q₂₂)                                                            \n",
       "\n",
       "q₂₁ - q₂₂)⋅cos(q₁₂) - 3502343.75⋅sin(q₁₁ + q₁₂ - q₂₁ - q₂₂))⋅sin(q₂₂)\n",
       "─────────────────────────────────────────────────────────────────────\n",
       "                                                                     \n",
       "                                                                     "
      ]
     },
     "execution_count": 21,
     "metadata": {},
     "output_type": "execute_result"
    }
   ],
   "source": [
    "simplify(D12)"
   ]
  },
  {
   "cell_type": "code",
   "execution_count": 22,
   "metadata": {
    "ExecuteTime": {
     "end_time": "2018-04-16T17:45:39.067000-03:00",
     "start_time": "2018-04-16T20:45:35.388Z"
    }
   },
   "outputs": [
    {
     "data": {
      "text/latex": [
       "$$\\frac{1}{4959375000000000 \\sin^{2}{\\left (q_{11} + q_{12} - q_{21} - q_{22} \\right )}} \\left(- 131144337100 \\left(4 \\sin{\\left (- q_{11} + q_{21} + q_{22} \\right )} - 5 \\sin{\\left (q_{11} + q_{12} - q_{21} - q_{22} \\right )}\\right) \\sin{\\left (q_{22} \\right )} - 7935000 \\left(103109 \\cos{\\left (q_{12} \\right )} + 59287.675\\right) \\sin{\\left (q_{22} \\right )} \\sin{\\left (q_{11} + q_{12} - q_{21} - q_{22} \\right )} + 3 \\left(- 3483265245168.0 \\sin{\\left (q_{11} + q_{12} - q_{21} \\right )} + 4069903383000.0 \\sin{\\left (q_{11} + q_{12} - q_{21} - q_{22} \\right )} \\cos{\\left (q_{22} \\right )} - 655449597656.25 \\sin{\\left (q_{11} + q_{12} - q_{21} - q_{22} \\right )}\\right) \\sin{\\left (q_{12} \\right )}\\right)$$"
      ],
      "text/plain": [
       "-131144337100⋅(4⋅sin(-q₁₁ + q₂₁ + q₂₂) - 5⋅sin(q₁₁ + q₁₂ - q₂₁ - q₂₂))⋅sin(q₂₂\n",
       "──────────────────────────────────────────────────────────────────────────────\n",
       "                                                                              \n",
       "                                                                              \n",
       "\n",
       ") - 7935000⋅(103109⋅cos(q₁₂) + 59287.675)⋅sin(q₂₂)⋅sin(q₁₁ + q₁₂ - q₂₁ - q₂₂) \n",
       "──────────────────────────────────────────────────────────────────────────────\n",
       "                                                                          2   \n",
       "                                                      4959375000000000⋅sin (q₁\n",
       "\n",
       "+ 3⋅(-3483265245168.0⋅sin(q₁₁ + q₁₂ - q₂₁) + 4069903383000.0⋅sin(q₁₁ + q₁₂ - q\n",
       "──────────────────────────────────────────────────────────────────────────────\n",
       "                                                                              \n",
       "₁ + q₁₂ - q₂₁ - q₂₂)                                                          \n",
       "\n",
       "₂₁ - q₂₂)⋅cos(q₂₂) - 655449597656.25⋅sin(q₁₁ + q₁₂ - q₂₁ - q₂₂))⋅sin(q₁₂)\n",
       "─────────────────────────────────────────────────────────────────────────\n",
       "                                                                         \n",
       "                                                                         "
      ]
     },
     "execution_count": 22,
     "metadata": {},
     "output_type": "execute_result"
    }
   ],
   "source": [
    "simplify(D21)"
   ]
  },
  {
   "cell_type": "code",
   "execution_count": 23,
   "metadata": {
    "ExecuteTime": {
     "end_time": "2018-04-16T17:45:56.388000-03:00",
     "start_time": "2018-04-16T20:45:44.734Z"
    }
   },
   "outputs": [
    {
     "data": {
      "text/latex": [
       "$$\\frac{1}{- \\cos{\\left (2 q_{11} + 2 q_{12} - 2 q_{21} - 2 q_{22} \\right )} + 1} \\left(0.000634386 \\cos{\\left (q_{22} \\right )} - 0.00205417618105507 \\cos{\\left (2 q_{22} \\right )} + 0.000283892936266526 \\cos{\\left (2 q_{11} + 2 q_{12} - 2 q_{21} \\right )} - 0.00120794923407826 \\cos{\\left (2 q_{11} + 2 q_{12} - 2 q_{21} - 2 q_{22} \\right )} - 0.000634386 \\cos{\\left (2 q_{11} + 2 q_{12} - 2 q_{21} - q_{22} \\right )} + 0.00297823247886681\\right)$$"
      ],
      "text/plain": [
       "0.000634386⋅cos(q₂₂) - 0.00205417618105507⋅cos(2⋅q₂₂) + 0.000283892936266526⋅c\n",
       "──────────────────────────────────────────────────────────────────────────────\n",
       "                                                                              \n",
       "\n",
       "os(2⋅q₁₁ + 2⋅q₁₂ - 2⋅q₂₁) - 0.00120794923407826⋅cos(2⋅q₁₁ + 2⋅q₁₂ - 2⋅q₂₁ - 2⋅\n",
       "──────────────────────────────────────────────────────────────────────────────\n",
       "                 -cos(2⋅q₁₁ + 2⋅q₁₂ - 2⋅q₂₁ - 2⋅q₂₂) + 1                      \n",
       "\n",
       "q₂₂) - 0.000634386⋅cos(2⋅q₁₁ + 2⋅q₁₂ - 2⋅q₂₁ - q₂₂) + 0.00297823247886681\n",
       "─────────────────────────────────────────────────────────────────────────\n",
       "                                                                         "
      ]
     },
     "execution_count": 23,
     "metadata": {},
     "output_type": "execute_result"
    }
   ],
   "source": [
    "simplify(D22)"
   ]
  },
  {
   "cell_type": "code",
   "execution_count": null,
   "metadata": {
    "ExecuteTime": {
     "start_time": "2018-04-16T20:46:06.382Z"
    }
   },
   "outputs": [],
   "source": [
    "simplify(C11)"
   ]
  },
  {
   "cell_type": "code",
   "execution_count": null,
   "metadata": {},
   "outputs": [],
   "source": [
    "simplify(C12)"
   ]
  }
 ],
 "metadata": {
  "kernelspec": {
   "display_name": "Julia 0.6.2",
   "language": "julia",
   "name": "julia-0.6"
  },
  "language_info": {
   "file_extension": ".jl",
   "mimetype": "application/julia",
   "name": "julia",
   "version": "0.6.2"
  },
  "toc": {
   "nav_menu": {},
   "number_sections": true,
   "sideBar": true,
   "skip_h1_title": false,
   "title_cell": "Table of Contents",
   "title_sidebar": "Contents",
   "toc_cell": false,
   "toc_position": {},
   "toc_section_display": true,
   "toc_window_display": false
  },
  "varInspector": {
   "cols": {
    "lenName": 16,
    "lenType": 16,
    "lenVar": 40
   },
   "kernels_config": {
    "python": {
     "delete_cmd_postfix": "",
     "delete_cmd_prefix": "del ",
     "library": "var_list.py",
     "varRefreshCmd": "print(var_dic_list())"
    },
    "r": {
     "delete_cmd_postfix": ") ",
     "delete_cmd_prefix": "rm(",
     "library": "var_list.r",
     "varRefreshCmd": "cat(var_dic_list()) "
    }
   },
   "types_to_exclude": [
    "module",
    "function",
    "builtin_function_or_method",
    "instance",
    "_Feature"
   ],
   "window_display": false
  }
 },
 "nbformat": 4,
 "nbformat_minor": 2
}
