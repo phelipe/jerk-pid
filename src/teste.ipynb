{
 "cells": [
  {
   "cell_type": "code",
   "execution_count": 107,
   "metadata": {
    "ExecuteTime": {
     "end_time": "2018-04-16T20:57:09.832000-03:00",
     "start_time": "2018-04-16T23:57:09.698Z"
    }
   },
   "outputs": [
    {
     "data": {
      "text/plain": [
       "4-element Array{Float64,1}:\n",
       "   0.783756\n",
       " 212.981   \n",
       "   0.680865\n",
       "  15.2043  "
      ]
     },
     "execution_count": 107,
     "metadata": {},
     "output_type": "execute_result"
    }
   ],
   "source": [
    "include(\"comum.jl\")\n",
    "include(\"modelos.jl\")\n",
    "Ts = 0.08\n",
    "tend = 2.0\n",
    "t0 = 0.0\n",
    "r1 = 1.2\n",
    "r2 = 0.6\n",
    "\n",
    "function gerador6(n)\n",
    "    out = rand(n)\n",
    "    for a = 1:n\n",
    "        out[a] = out[a]*shuffle([10,100, 1000, 1])[1]\n",
    "    end    \n",
    "    out\n",
    "end\n",
    "\n",
    "out = gerador6(4)\n",
    "kp = SMatrix{2,2}(diagm(out[1:2]))\n",
    "kv = SMatrix{2,2}(diagm(out[3:4]));\n",
    "out"
   ]
  },
  {
   "cell_type": "code",
   "execution_count": 108,
   "metadata": {
    "ExecuteTime": {
     "end_time": "2018-04-16T20:57:12.781000-03:00",
     "start_time": "2018-04-16T23:57:09.702Z"
    }
   },
   "outputs": [],
   "source": [
    "x, v, t, a, ta, j, tj = parallelRobot(kp, kv, Ts, t0, tend, [r1, r2]);"
   ]
  },
  {
   "cell_type": "code",
   "execution_count": 109,
   "metadata": {
    "ExecuteTime": {
     "end_time": "2018-04-16T20:57:12.784000-03:00",
     "start_time": "2018-04-16T23:57:09.706Z"
    }
   },
   "outputs": [
    {
     "data": {
      "text/plain": [
       "2-element Array{Any,1}:\n",
       " [0.0, 0.104808, 0.201172, 0.288952, 0.368989, 0.442008, 0.508642, 0.569454, 0.624952, 0.675598  …  0.925383, 0.949665, 0.971806, 0.991995, 1.0104, 1.02718, 1.04248, 1.05643, 1.06914, 1.08073] \n",
       " [0.0, 0.404443, 0.536442, 0.579341, 0.593286, 0.59782, 0.599294, 0.599773, 0.599928, 0.599978  …  0.6, 0.599999, 0.599999, 0.599999, 0.599999, 0.599999, 0.599999, 0.599999, 0.599999, 0.599999]"
      ]
     },
     "execution_count": 109,
     "metadata": {},
     "output_type": "execute_result"
    }
   ],
   "source": [
    "x"
   ]
  },
  {
   "cell_type": "code",
   "execution_count": 110,
   "metadata": {
    "ExecuteTime": {
     "end_time": "2018-04-16T20:57:12.787000-03:00",
     "start_time": "2018-04-16T23:57:09.710Z"
    }
   },
   "outputs": [
    {
     "data": {
      "text/plain": [
       "2×2 StaticArrays.SArray{Tuple{2,2},Float64,2,4}:\n",
       " 0.783756    0.0  \n",
       " 0.0       212.981"
      ]
     },
     "execution_count": 110,
     "metadata": {},
     "output_type": "execute_result"
    }
   ],
   "source": [
    "kp"
   ]
  },
  {
   "cell_type": "code",
   "execution_count": 111,
   "metadata": {
    "ExecuteTime": {
     "end_time": "2018-04-16T20:57:12.791000-03:00",
     "start_time": "2018-04-16T23:57:09.718Z"
    }
   },
   "outputs": [
    {
     "data": {
      "text/plain": [
       "2×2 StaticArrays.SArray{Tuple{2,2},Float64,2,4}:\n",
       " 0.680865   0.0   \n",
       " 0.0       15.2043"
      ]
     },
     "execution_count": 111,
     "metadata": {},
     "output_type": "execute_result"
    }
   ],
   "source": [
    "kv"
   ]
  },
  {
   "cell_type": "code",
   "execution_count": null,
   "metadata": {},
   "outputs": [],
   "source": []
  }
 ],
 "metadata": {
  "kernelspec": {
   "display_name": "Julia 0.6.2",
   "language": "julia",
   "name": "julia-0.6"
  },
  "language_info": {
   "file_extension": ".jl",
   "mimetype": "application/julia",
   "name": "julia",
   "version": "0.6.2"
  },
  "toc": {
   "nav_menu": {},
   "number_sections": true,
   "sideBar": true,
   "skip_h1_title": false,
   "title_cell": "Table of Contents",
   "title_sidebar": "Contents",
   "toc_cell": false,
   "toc_position": {},
   "toc_section_display": true,
   "toc_window_display": false
  },
  "varInspector": {
   "cols": {
    "lenName": 16,
    "lenType": 16,
    "lenVar": 40
   },
   "kernels_config": {
    "python": {
     "delete_cmd_postfix": "",
     "delete_cmd_prefix": "del ",
     "library": "var_list.py",
     "varRefreshCmd": "print(var_dic_list())"
    },
    "r": {
     "delete_cmd_postfix": ") ",
     "delete_cmd_prefix": "rm(",
     "library": "var_list.r",
     "varRefreshCmd": "cat(var_dic_list()) "
    }
   },
   "types_to_exclude": [
    "module",
    "function",
    "builtin_function_or_method",
    "instance",
    "_Feature"
   ],
   "window_display": false
  }
 },
 "nbformat": 4,
 "nbformat_minor": 2
}
