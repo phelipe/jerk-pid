{
 "cells": [
  {
   "cell_type": "markdown",
   "metadata": {},
   "source": [
    "# PID KUKA\n",
    "\n",
    "Simulação considerando um robô de 7 graus de liberdade do tipo KUKA LWR. A simulação faz uso de um arquivo do tipo urdf, que contém os dados da dinâmica do robô. O arquivo encontra-se no mesmo diretório deste notebook."
   ]
  },
  {
   "cell_type": "code",
   "execution_count": 1,
   "metadata": {
    "ExecuteTime": {
     "end_time": "2018-04-25T12:41:18.160000-03:00",
     "start_time": "2018-04-25T15:40:28.770Z"
    },
    "hide_input": false
   },
   "outputs": [],
   "source": [
    "include(\"comum.jl\")\n",
    "include(\"modelos.jl\")\n",
    "using Evolutionary, Plots;\n",
    "pyplot();"
   ]
  },
  {
   "cell_type": "code",
   "execution_count": 2,
   "metadata": {
    "ExecuteTime": {
     "end_time": "2018-04-25T12:41:18.917000-03:00",
     "start_time": "2018-04-25T15:40:28.780Z"
    }
   },
   "outputs": [],
   "source": [
    "Ts = 0.08\n",
    "tend = 4.0\n",
    "t0 = 0.0\n",
    "xr = SVector{7}([1.,1.,0.5,0.6,0.5,1.2,0.8]);"
   ]
  },
  {
   "cell_type": "code",
   "execution_count": 3,
   "metadata": {
    "ExecuteTime": {
     "end_time": "2018-04-25T12:41:18.926000-03:00",
     "start_time": "2018-04-25T15:40:28.788Z"
    },
    "hide_input": false
   },
   "outputs": [],
   "source": [
    "function plotx()\n",
    "    p1 = plot(t,x[1], label = \"simulação 1\")\n",
    "    p1= plot!([xr[1]],seriestype= :hline, label = \"referência 1\")\n",
    "    p2 = plot(t,x[2], label = \"simulação 2\")\n",
    "    p2= plot!([xr[2]],seriestype= :hline, label = \"referência 2\")\n",
    "    p3 = plot(t,x[3], label = \"simulação 3\")\n",
    "    p3= plot!([xr[3]],seriestype= :hline, label = \"referência 3\")\n",
    "    p4 = plot(t,x[4], label = \"simulação 4\")\n",
    "    p4= plot!([xr[4]],seriestype= :hline, label = \"referência 4\")\n",
    "    p5 = plot(t,x[5], label = \"simulação 5\")\n",
    "    p5= plot!([xr[5]],seriestype= :hline, label = \"referência 5\")\n",
    "    p6 = plot(t,x[6], label = \"simulação 6\")\n",
    "    p6= plot!([xr[6]],seriestype= :hline, label = \"referência 6\")\n",
    "    p7 = plot(t,x[7], label = \"simulação 7\")\n",
    "    p7= plot!([xr[7]],seriestype= :hline, label = \"referência 7\")\n",
    "    plot(p1,p2,p3,p4,p5,p6,p7, layout =(7,1))\n",
    "end\n",
    "\n",
    "function plotx(i::Integer)\n",
    "    p1 = plot(t,x[i], label = \"desejado\")\n",
    "    p1= plot!([xr[i]],seriestype= :hline, label = \"referência\");\n",
    "end;    "
   ]
  },
  {
   "cell_type": "code",
   "execution_count": null,
   "metadata": {
    "ExecuteTime": {
     "start_time": "2018-04-25T15:40:28.792Z"
    },
    "hide_input": false,
    "scrolled": false
   },
   "outputs": [],
   "source": [
    "kp = SMatrix{7,7}(diagm([1760.,8330.,4800.,3150.,330.,300.,10.]))\n",
    "kv = SMatrix{7,7}(diagm([735.,2820.,900.,900.,130.,70.,3.]))\n",
    "x, v, t, a, ta, j, tj = kukaRobot(kp, kv, Ts, t0, tend, xr);"
   ]
  },
  {
   "cell_type": "code",
   "execution_count": null,
   "metadata": {
    "ExecuteTime": {
     "start_time": "2018-04-25T15:40:28.798Z"
    }
   },
   "outputs": [],
   "source": [
    "plotx()"
   ]
  },
  {
   "cell_type": "code",
   "execution_count": null,
   "metadata": {
    "ExecuteTime": {
     "start_time": "2018-04-25T15:40:28.802Z"
    }
   },
   "outputs": [],
   "source": [
    "println(\"Somatório do módulo do jerk\")\n",
    "for i = 1:7\n",
    "    println(\"junta $(i) -> $(sum(abs.(j[i])))\")\n",
    "end\n",
    "soma_jerk= 0.\n",
    "for i = 1:7\n",
    "    soma_jerk += sum(abs.(j[i]))\n",
    "end"
   ]
  },
  {
   "cell_type": "code",
   "execution_count": null,
   "metadata": {
    "ExecuteTime": {
     "start_time": "2018-04-25T15:40:28.810Z"
    }
   },
   "outputs": [],
   "source": [
    "println(\"Máximo módulo do jerk\")\n",
    "for i = 1:7\n",
    "    println(\"junta $(i) -> $(maximum(abs.(j[i])))\")\n",
    "end \n",
    "soma_jerk_max = 0.\n",
    "for i = 1:7\n",
    "    soma_jerk_max += maximum(abs.(j[i]))\n",
    "end\n",
    "println(\"jerk máximo total: $(soma_jerk_max)\")"
   ]
  },
  {
   "cell_type": "code",
   "execution_count": null,
   "metadata": {},
   "outputs": [],
   "source": []
  }
 ],
 "metadata": {
  "kernelspec": {
   "display_name": "Julia 0.6.2",
   "language": "julia",
   "name": "julia-0.6"
  },
  "language_info": {
   "file_extension": ".jl",
   "mimetype": "application/julia",
   "name": "julia",
   "version": "0.6.2"
  },
  "notify_time": "10",
  "toc": {
   "nav_menu": {},
   "number_sections": true,
   "sideBar": true,
   "skip_h1_title": false,
   "title_cell": "Table of Contents",
   "title_sidebar": "Contents",
   "toc_cell": false,
   "toc_position": {},
   "toc_section_display": true,
   "toc_window_display": false
  },
  "varInspector": {
   "cols": {
    "lenName": 16,
    "lenType": 16,
    "lenVar": 40
   },
   "kernels_config": {
    "python": {
     "delete_cmd_postfix": "",
     "delete_cmd_prefix": "del ",
     "library": "var_list.py",
     "varRefreshCmd": "print(var_dic_list())"
    },
    "r": {
     "delete_cmd_postfix": ") ",
     "delete_cmd_prefix": "rm(",
     "library": "var_list.r",
     "varRefreshCmd": "cat(var_dic_list()) "
    }
   },
   "types_to_exclude": [
    "module",
    "function",
    "builtin_function_or_method",
    "instance",
    "_Feature"
   ],
   "window_display": false
  }
 },
 "nbformat": 4,
 "nbformat_minor": 2
}
