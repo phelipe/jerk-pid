{
 "cells": [
  {
   "cell_type": "markdown",
   "metadata": {},
   "source": [
    "Otimização do kuka utilizando conhecimento prévio do PID"
   ]
  },
  {
   "cell_type": "code",
   "execution_count": 1,
   "metadata": {
    "ExecuteTime": {
     "end_time": "2018-04-25T10:07:11.203000-03:00",
     "start_time": "2018-04-25T13:06:23.266Z"
    }
   },
   "outputs": [],
   "source": [
    "include(\"comum.jl\")\n",
    "include(\"modelos.jl\")\n",
    "using Evolutionary, Plots;\n",
    "pyplot();"
   ]
  },
  {
   "cell_type": "code",
   "execution_count": 2,
   "metadata": {
    "ExecuteTime": {
     "end_time": "2018-04-25T10:07:11.996000-03:00",
     "start_time": "2018-04-25T13:06:23.274Z"
    }
   },
   "outputs": [],
   "source": [
    "Ts = 0.08\n",
    "tend = 2.0\n",
    "t0 = 0.0\n",
    "popul  = 50   # população\n",
    "iterac = 10 #iterações\n",
    "xr = SVector{7}([1.,1.,0.5,0.6,0.5,1.2,0.8]);"
   ]
  },
  {
   "cell_type": "code",
   "execution_count": 3,
   "metadata": {
    "ExecuteTime": {
     "end_time": "2018-04-25T10:07:11.999000-03:00",
     "start_time": "2018-04-25T13:06:23.278Z"
    }
   },
   "outputs": [],
   "source": [
    "function gerador(n)\n",
    "    rand(n).*[10000.,10000.,10000.,10000.,1000.,1000.,100.,1000.,10000.,1000.,1000.,1000.,100.,10.]\n",
    "end;"
   ]
  },
  {
   "cell_type": "code",
   "execution_count": 4,
   "metadata": {
    "ExecuteTime": {
     "end_time": "2018-04-25T10:07:12.006000-03:00",
     "start_time": "2018-04-25T13:06:23.282Z"
    }
   },
   "outputs": [],
   "source": [
    "function custo(gain::Vector{Float64})\n",
    "    kp = SMatrix{7,7}(diagm(gain[1:7]))\n",
    "    kv = SMatrix{7,7}(diagm(gain[8:end]))\n",
    "    x, v, t, a, ta, j, tj = kukaRobot(kp, kv, Ts, t0, tend, xr)\n",
    "    sizeVector = length(x[1])\n",
    "\n",
    "    erro_sum = 0.\n",
    "    for i=1:7\n",
    "        erro = -(x[i]-xr[i])\n",
    "        erro_sum = erro_sum + sum(abs.(erro[floor(Integer,sizeVector/3):end])) \n",
    "    end\n",
    "\n",
    "    jerk_sum = 0.\n",
    "    for i=1:7\n",
    "        jerk_sum = jerk_sum + sum(abs.(j[i]))\n",
    "    end\n",
    "\n",
    "    \n",
    "    erro_sum = erro_sum * 10.\n",
    "    jerk_sum = jerk_sum * 0.01\n",
    "\n",
    "    out =  erro_sum + jerk_sum\n",
    "    println(\"erro: $(erro_sum) jerk: $(jerk_sum)\")\n",
    "    out\n",
    "end;"
   ]
  },
  {
   "cell_type": "code",
   "execution_count": null,
   "metadata": {
    "ExecuteTime": {
     "start_time": "2018-04-25T13:06:23.294Z"
    }
   },
   "outputs": [
    {
     "name": "stdout",
     "output_type": "stream",
     "text": [
      "111.74618085211868 + 32.48335797779528\n",
      "145.95458774074774 + 57.0610827300599\n",
      "357.37630438042765 + 21.476205445393074\n",
      "179.45455870983983 + 44.98835426703919\n",
      "228.78346361163392 + 68.31197587683303\n",
      "116.55344281725517 + 37.638094457857214\n",
      "318.10881701980395 + 37.942333725988895\n",
      "70.91649368594608 + 89.66568383089242\n",
      "71.2872042336045 + 78.30440301326992\n",
      "199.76731686050968 + 39.52618879270591\n",
      "225.19773600143685 + 45.39472836218689\n",
      "181.61171824062637 + 55.49254244586567\n",
      "34.681978301873116 + 366.69883365881157\n",
      "52.375391450164145 + 49.546018987659686\n",
      "166.84199057982192 + 50.32094282880071\n",
      "143.45267348007775 + 49.542663087166964\n",
      "180.11483186259363 + 62.70037214202794\n",
      "83.09994045799898 + 37.9091484421769\n",
      "139.42675915334593 + 90.18903010404478\n",
      "106.1646088004298 + 64.82216090199609\n",
      "178.84272139778352 + 29.40155715572247\n",
      "257.9756737650572 + 46.59917701000262\n",
      "96.1606115972643 + 41.97170016710787\n",
      "62.84751902139309 + 42.06894636518413\n",
      "136.9623769048183 + 60.86618329139349\n",
      "148.93267764044936 + 48.92224941351014\n",
      "85.59118400172918 + 47.2384802775203\n",
      "83.19676139784272 + 54.41659356378572\n",
      "71.1081825705003 + 175.02625380431243\n",
      "114.42548053325197 + 44.94633752975571\n",
      "129.11860241716397 + 61.32556001933539\n",
      "65.18446074707413 + 50.69135291586288\n",
      "131.65161217142983 + 55.959844197892636\n",
      "136.31179029188914 + 39.34304624222883\n",
      "58.735397931444595 + 622.0992520625958\n",
      "154.19691873277486 + 46.092938778868\n",
      "6.40346653473744 + 72.18944469453284\n",
      "191.6829993455101 + 38.77231079502996\n",
      "186.1340202533283 + 57.93960508995821\n",
      "151.98771237413177 + 38.57337474067685\n",
      "121.2349407174467 + 40.582569360965174\n",
      "228.83891938267556 + 50.34507115532185\n",
      "76.52600034079495 + 49.93859963234337\n",
      "242.51810670846695 + 32.51235333420466\n",
      "95.65495145255915 + 53.50774721048323\n",
      "192.74904529145093 + 173.20181354608746\n",
      "275.4445247321726 + 1904.8296388237982\n",
      "139.165510460017 + 45.351841386721155\n",
      "138.87887681582055 + 35.920862747804215\n"
     ]
    }
   ],
   "source": [
    "N = 14\n",
    "result, fitness, cnt = ga(custo, N; initPopulation = gerador, populationSize = popul, ɛ = 0.1, selection = roulette, crossover = intermediate(0.25), mutation = domainrange(fill(0.5,N)), iterations = iterac);"
   ]
  },
  {
   "cell_type": "code",
   "execution_count": null,
   "metadata": {
    "ExecuteTime": {
     "start_time": "2018-04-25T13:06:23.300Z"
    }
   },
   "outputs": [],
   "source": [
    "t_end_new = tend\n",
    "kp = SMatrix{7,7}(diagm(result[1:7]))\n",
    "kv = SMatrix{7,7}(diagm(result[8:end]))\n",
    "\n",
    "x, v, t, a, ta, j, tj = kukaRobot(kp, kv, Ts, t0, t_end_new, xr);"
   ]
  },
  {
   "cell_type": "code",
   "execution_count": null,
   "metadata": {
    "ExecuteTime": {
     "start_time": "2018-04-25T13:06:23.304Z"
    }
   },
   "outputs": [],
   "source": [
    "for i=1:7\n",
    "    erro = xr[i] - x[i][end]\n",
    "    println(\"erro final $(i) = $(erro)\")\n",
    "end   "
   ]
  },
  {
   "cell_type": "code",
   "execution_count": null,
   "metadata": {
    "ExecuteTime": {
     "start_time": "2018-04-25T13:06:23.308Z"
    }
   },
   "outputs": [],
   "source": [
    "function plotx(i)\n",
    "    p1 = plot(t,x[i], label = \"desejado\")\n",
    "    p1= plot!([xr[i]],seriestype= :hline, label = \"referência\");\n",
    "end    "
   ]
  },
  {
   "cell_type": "code",
   "execution_count": null,
   "metadata": {
    "ExecuteTime": {
     "start_time": "2018-04-25T13:06:23.314Z"
    }
   },
   "outputs": [],
   "source": [
    "plotx(3)"
   ]
  },
  {
   "cell_type": "code",
   "execution_count": null,
   "metadata": {
    "ExecuteTime": {
     "start_time": "2018-04-25T13:06:23.318Z"
    }
   },
   "outputs": [],
   "source": [
    "println(\"Somatório do módulo do jerk\")\n",
    "for i = 1:7\n",
    "    println(\"junta $(i) -> $(sum(abs.(j[i])))\")\n",
    "end    "
   ]
  },
  {
   "cell_type": "code",
   "execution_count": null,
   "metadata": {
    "ExecuteTime": {
     "start_time": "2018-04-25T13:06:23.326Z"
    }
   },
   "outputs": [],
   "source": [
    "println(\"Máximo módulo do jerk\")\n",
    "for i = 1:7\n",
    "    println(\"junta $(i) -> $(maximum(abs.(j[i])))\")\n",
    "end "
   ]
  },
  {
   "cell_type": "code",
   "execution_count": null,
   "metadata": {},
   "outputs": [],
   "source": []
  }
 ],
 "metadata": {
  "kernelspec": {
   "display_name": "Julia 0.6.2",
   "language": "julia",
   "name": "julia-0.6"
  },
  "language_info": {
   "file_extension": ".jl",
   "mimetype": "application/julia",
   "name": "julia",
   "version": "0.6.2"
  },
  "notify_time": "5",
  "toc": {
   "nav_menu": {},
   "number_sections": true,
   "sideBar": true,
   "skip_h1_title": false,
   "title_cell": "Table of Contents",
   "title_sidebar": "Contents",
   "toc_cell": false,
   "toc_position": {},
   "toc_section_display": true,
   "toc_window_display": false
  },
  "varInspector": {
   "cols": {
    "lenName": 16,
    "lenType": 16,
    "lenVar": 40
   },
   "kernels_config": {
    "python": {
     "delete_cmd_postfix": "",
     "delete_cmd_prefix": "del ",
     "library": "var_list.py",
     "varRefreshCmd": "print(var_dic_list())"
    },
    "r": {
     "delete_cmd_postfix": ") ",
     "delete_cmd_prefix": "rm(",
     "library": "var_list.r",
     "varRefreshCmd": "cat(var_dic_list()) "
    }
   },
   "types_to_exclude": [
    "module",
    "function",
    "builtin_function_or_method",
    "instance",
    "_Feature"
   ],
   "window_display": false
  }
 },
 "nbformat": 4,
 "nbformat_minor": 2
}
