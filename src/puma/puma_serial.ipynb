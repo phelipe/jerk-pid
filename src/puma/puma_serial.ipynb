{
 "cells": [
  {
   "cell_type": "markdown",
   "metadata": {},
   "source": [
    "# Otimização do robô PUMA 560\n",
    "\n",
    "Otmização feija por junta individualmente"
   ]
  },
  {
   "cell_type": "code",
   "execution_count": 1,
   "metadata": {
    "ExecuteTime": {
     "end_time": "2018-04-29T11:46:44.563000-03:00",
     "start_time": "2018-04-29T14:45:55.852Z"
    }
   },
   "outputs": [],
   "source": [
    "include(\"../comum.jl\")\n",
    "include(\"modelo.jl\")\n",
    "using Evolutionary, Plots;\n",
    "pyplot();"
   ]
  },
  {
   "cell_type": "code",
   "execution_count": null,
   "metadata": {
    "ExecuteTime": {
     "start_time": "2018-04-29T14:58:39.908Z"
    }
   },
   "outputs": [],
   "source": [
    "Ts = 0.08     #período de leitura\n",
    "tend = 2.0    #tempo final\n",
    "t0 = 0.0      # tempo inicial\n",
    "popul  = 4   # população\n",
    "iterac = 2   #iterações\n",
    "α = 10.       #parâmetro para o erro\n",
    "β = 0.01      #parâmetro para o jerk\n",
    "γ = 0.1       #parâmetro para o torque\n",
    "per = 1/2     #inicio da leitura do vetor a parti de per do comprimento total\n",
    "xr = SVector{5}([1.,1.,0.5,0.6,0.5]) #referências\n",
    "kp_end = AbstractFloat[]\n",
    "kv_end = AbstractFloat[];"
   ]
  },
  {
   "cell_type": "markdown",
   "metadata": {},
   "source": [
    "## Otimização junta 5"
   ]
  },
  {
   "cell_type": "code",
   "execution_count": 3,
   "metadata": {
    "ExecuteTime": {
     "end_time": "2018-04-29T11:47:40.733000-03:00",
     "start_time": "2018-04-29T14:47:40.728Z"
    }
   },
   "outputs": [],
   "source": [
    "function gerador5(n)\n",
    "    n = n/2\n",
    "    kp = push!(zeros(n-1),rand()*rand([10.,100.,1000.,10000]))\n",
    "    kv = push!(zeros(n-1),rand()*rand([10.,100.,1000.]))\n",
    "    vcat(kp,kv)\n",
    "end;"
   ]
  },
  {
   "cell_type": "code",
   "execution_count": 5,
   "metadata": {
    "ExecuteTime": {
     "end_time": "2018-04-29T11:48:42.674000-03:00",
     "start_time": "2018-04-29T14:48:42.664Z"
    }
   },
   "outputs": [],
   "source": [
    "function generateCusto(junta::Integer)\n",
    "    out = function custo(gain::Vector{Float64})\n",
    "        kp = SMatrix{5,5}(diagm(gain[1:5]))\n",
    "        kv = SMatrix{5,5}(diagm(gain[6:end]))\n",
    "        x, v, t, a, ta, j, tj, τ, t_tau = pumaRobot(kp, kv, Ts, t0, tend, xr)\n",
    "        sizeVector = length(x[1])\n",
    "\n",
    "        erro_sum = 0.\n",
    "        erro = -(x[junta]-xr[junta])\n",
    "        erro_sum += sum(abs.(erro[floor(Integer,sizeVector*per):end])) \n",
    "\n",
    "        jerk_sum = 0.\n",
    "        jerk_sum += sum(abs.(j[junta]))\n",
    "        \n",
    "        torque_sum = 0.\n",
    "        torque_sum += sum(abs.(τ[junta]))\n",
    "        \n",
    "        erro_sum = erro_sum * α\n",
    "        jerk_sum = jerk_sum * β \n",
    "        torque_sum = torque_sum * γ\n",
    "\n",
    "        out =  erro_sum + jerk_sum + torque_sum\n",
    "        out\n",
    "    end\n",
    "end;"
   ]
  },
  {
   "cell_type": "code",
   "execution_count": null,
   "metadata": {
    "ExecuteTime": {
     "start_time": "2018-04-29T14:49:30.418Z"
    }
   },
   "outputs": [
    {
     "name": "stdout",
     "output_type": "stream",
     "text": [
      "\r",
      " Progress:|\u001b[31m█\u001b[39m"
     ]
    }
   ],
   "source": [
    "N = 10\n",
    "result, fitness, cnt = ga(generateCusto(5), N; initPopulation = gerador5, populationSize = popul, ɛ = 0.25, selection = roulette, crossover = intermediate(0.25), mutation = domainrange(fill(0.5,N)), iterations = iterac, showBar = true)"
   ]
  },
  {
   "cell_type": "markdown",
   "metadata": {},
   "source": [
    "# Resultado"
   ]
  },
  {
   "cell_type": "code",
   "execution_count": null,
   "metadata": {},
   "outputs": [],
   "source": [
    "t_end_new = tend\n",
    "kp = SMatrix{5,5}(diagm(result[1:5]))\n",
    "kv = SMatrix{5,5}(diagm(result[6:end]))\n",
    "\n",
    "x, v, t, a, ta, j, tj, τ, t_tau = pumaRobot(kp, kv, Ts, t0, t_end_new, xr);"
   ]
  },
  {
   "cell_type": "code",
   "execution_count": null,
   "metadata": {},
   "outputs": [],
   "source": [
    "erro = []\n",
    "for i=1:7\n",
    "    push!(erro, -(x[i] .- xr[i]))\n",
    "end \n",
    "tabela(erro, \"Erro\")"
   ]
  },
  {
   "cell_type": "code",
   "execution_count": null,
   "metadata": {},
   "outputs": [],
   "source": [
    "function plotx(i)\n",
    "    p1 = plot(t,x[i], label = \"desejado\")\n",
    "    p1= plot!([xr[i]],seriestype= :hline, label = \"referência\");\n",
    "end\n",
    "function plotx()\n",
    "    p1 = plot(t,x[1], label = \"simulação 1\")\n",
    "    p1= plot!([xr[1]],seriestype= :hline, label = \"referência 1\")\n",
    "    p2 = plot(t,x[2], label = \"simulação 2\")\n",
    "    p2= plot!([xr[2]],seriestype= :hline, label = \"referência 2\")\n",
    "    p3 = plot(t,x[3], label = \"simulação 3\")\n",
    "    p3= plot!([xr[3]],seriestype= :hline, label = \"referência 3\")\n",
    "    p4 = plot(t,x[4], label = \"simulação 4\")\n",
    "    p4= plot!([xr[4]],seriestype= :hline, label = \"referência 4\")\n",
    "    p5 = plot(t,x[5], label = \"simulação 5\")\n",
    "    p5= plot!([xr[5]],seriestype= :hline, label = \"referência 5\")\n",
    "    plot(p1,p2,p3,p4,p5,p6,p7, layout =(5,1))\n",
    "end"
   ]
  },
  {
   "cell_type": "code",
   "execution_count": null,
   "metadata": {},
   "outputs": [],
   "source": [
    "plotx(5)"
   ]
  },
  {
   "cell_type": "code",
   "execution_count": null,
   "metadata": {},
   "outputs": [],
   "source": [
    "tabela(j,\"Jerk\")"
   ]
  },
  {
   "cell_type": "code",
   "execution_count": null,
   "metadata": {},
   "outputs": [],
   "source": [
    "tabela(τ,\"Torque\")"
   ]
  }
 ],
 "metadata": {
  "kernelspec": {
   "display_name": "Julia 0.6.2",
   "language": "julia",
   "name": "julia-0.6"
  },
  "language_info": {
   "file_extension": ".jl",
   "mimetype": "application/julia",
   "name": "julia",
   "version": "0.6.2"
  },
  "toc": {
   "nav_menu": {},
   "number_sections": true,
   "sideBar": true,
   "skip_h1_title": false,
   "title_cell": "Table of Contents",
   "title_sidebar": "Contents",
   "toc_cell": false,
   "toc_position": {},
   "toc_section_display": true,
   "toc_window_display": false
  },
  "varInspector": {
   "cols": {
    "lenName": 16,
    "lenType": 16,
    "lenVar": 40
   },
   "kernels_config": {
    "python": {
     "delete_cmd_postfix": "",
     "delete_cmd_prefix": "del ",
     "library": "var_list.py",
     "varRefreshCmd": "print(var_dic_list())"
    },
    "r": {
     "delete_cmd_postfix": ") ",
     "delete_cmd_prefix": "rm(",
     "library": "var_list.r",
     "varRefreshCmd": "cat(var_dic_list()) "
    }
   },
   "types_to_exclude": [
    "module",
    "function",
    "builtin_function_or_method",
    "instance",
    "_Feature"
   ],
   "window_display": false
  }
 },
 "nbformat": 4,
 "nbformat_minor": 2
}
