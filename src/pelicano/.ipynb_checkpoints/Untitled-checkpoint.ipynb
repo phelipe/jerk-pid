{
 "cells": [
  {
   "cell_type": "code",
   "execution_count": 1,
   "metadata": {
    "ExecuteTime": {
     "end_time": "2018-05-22T12:09:33.692000-03:00",
     "start_time": "2018-05-22T15:08:40.412Z"
    }
   },
   "outputs": [],
   "source": [
    "include(\"../comum.jl\")\n",
    "include(\"../modelos.jl\")\n",
    "using Evolutionary, Plots;\n",
    "pyplot();"
   ]
  },
  {
   "cell_type": "code",
   "execution_count": null,
   "metadata": {},
   "outputs": [],
   "source": [
    "Ts     = 0.05 # Intervalo entre leituras da saída\n",
    "tend   = 2.0  # tempo final para estabilização\n",
    "t0     = 0.0  # instante inicial\n",
    "\n",
    "popul  = 20   # população\n",
    "iterac = 15   #iterações\n",
    "α = 10.       #parâmetro para o erro\n",
    "β = 0.01      #parâmetro para o jerk\n",
    "γ = 0.1       #parâmetro para o torque\n",
    "per = 1/2     #inicio da leitura do vetor a parti de per do comprimento total\n",
    "\n",
    "x1, v1, a1, j1 = minimumjerkf(0.0, 0.0, 0.0,0.0, 0.6, 0.0, 0.0, tend)\n",
    "x2, v2, a2, j2 = minimumjerkf(0.0, 0.0, 0.0,0.0, 0.8, 0.0, 0.0, tend)\n",
    "xr = [x1,x2]\n",
    "vr = [v1,v2];"
   ]
  },
  {
   "cell_type": "code",
   "execution_count": null,
   "metadata": {},
   "outputs": [],
   "source": [
    "kp_pid = SMatrix{2,2}(diagm([2800., 80.]))\n",
    "kv_pid = SMatrix{2,2}(diagm([315., 15.]))\n",
    "x_pid, v_pid, t_pid, a_pid, ta_pid, j_pid, tj_pid, τ_pid, t_tau_pid = robot2dof(kp_pid, kv_pid, Ts, t0, tend, xr, vr)"
   ]
  }
 ],
 "metadata": {
  "kernelspec": {
   "display_name": "Julia 0.6.2",
   "language": "julia",
   "name": "julia-0.6"
  },
  "language_info": {
   "file_extension": ".jl",
   "mimetype": "application/julia",
   "name": "julia",
   "version": "0.6.2"
  },
  "toc": {
   "nav_menu": {},
   "number_sections": true,
   "sideBar": true,
   "skip_h1_title": false,
   "title_cell": "Table of Contents",
   "title_sidebar": "Contents",
   "toc_cell": false,
   "toc_position": {},
   "toc_section_display": true,
   "toc_window_display": false
  },
  "varInspector": {
   "cols": {
    "lenName": 16,
    "lenType": 16,
    "lenVar": 40
   },
   "kernels_config": {
    "python": {
     "delete_cmd_postfix": "",
     "delete_cmd_prefix": "del ",
     "library": "var_list.py",
     "varRefreshCmd": "print(var_dic_list())"
    },
    "r": {
     "delete_cmd_postfix": ") ",
     "delete_cmd_prefix": "rm(",
     "library": "var_list.r",
     "varRefreshCmd": "cat(var_dic_list()) "
    }
   },
   "types_to_exclude": [
    "module",
    "function",
    "builtin_function_or_method",
    "instance",
    "_Feature"
   ],
   "window_display": false
  }
 },
 "nbformat": 4,
 "nbformat_minor": 2
}
