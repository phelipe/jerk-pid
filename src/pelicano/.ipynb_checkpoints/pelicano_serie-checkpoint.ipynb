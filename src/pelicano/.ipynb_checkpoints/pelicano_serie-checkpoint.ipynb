{
 "cells": [
  {
   "cell_type": "code",
   "execution_count": 1,
   "metadata": {
    "ExecuteTime": {
     "end_time": "2018-05-22T11:01:13.854000-03:00",
     "start_time": "2018-05-22T14:00:18.227Z"
    }
   },
   "outputs": [],
   "source": [
    "include(\"../comum.jl\")\n",
    "include(\"../modelos.jl\")\n",
    "using Evolutionary, Plots;\n",
    "pyplot();"
   ]
  },
  {
   "cell_type": "code",
   "execution_count": 14,
   "metadata": {
    "ExecuteTime": {
     "end_time": "2018-05-22T11:07:09.981000-03:00",
     "start_time": "2018-05-22T14:07:09.970Z"
    }
   },
   "outputs": [
    {
     "ename": "LoadError",
     "evalue": "\u001b[91mTypeError: issubtype: expected Type, got Trajectory.##1#5{Array{Float64,1}}\u001b[39m",
     "output_type": "error",
     "traceback": [
      "\u001b[91mTypeError: issubtype: expected Type, got Trajectory.##1#5{Array{Float64,1}}\u001b[39m",
      "",
      "Stacktrace:",
      " [1] \u001b[1mexecute_request\u001b[22m\u001b[22m\u001b[1m(\u001b[22m\u001b[22m::ZMQ.Socket, ::IJulia.Msg\u001b[1m)\u001b[22m\u001b[22m at \u001b[1m/home/phelipe/.julia/v0.6/IJulia/src/execute_request.jl:158\u001b[22m\u001b[22m",
      " [2] \u001b[1m(::Compat.#inner#18{Array{Any,1},IJulia.#execute_request,Tuple{ZMQ.Socket,IJulia.Msg}})\u001b[22m\u001b[22m\u001b[1m(\u001b[22m\u001b[22m\u001b[1m)\u001b[22m\u001b[22m at \u001b[1m/home/phelipe/.julia/v0.6/Compat/src/Compat.jl:403\u001b[22m\u001b[22m",
      " [3] \u001b[1meventloop\u001b[22m\u001b[22m\u001b[1m(\u001b[22m\u001b[22m::ZMQ.Socket\u001b[1m)\u001b[22m\u001b[22m at \u001b[1m/home/phelipe/.julia/v0.6/IJulia/src/eventloop.jl:8\u001b[22m\u001b[22m",
      " [4] \u001b[1m(::IJulia.##14#17)\u001b[22m\u001b[22m\u001b[1m(\u001b[22m\u001b[22m\u001b[1m)\u001b[22m\u001b[22m at \u001b[1m./task.jl:335\u001b[22m\u001b[22m"
     ]
    }
   ],
   "source": [
    "Ts     = 0.05 # Intervalo entre leituras da saída\n",
    "tend   = 2.0  # tempo final para estabilização\n",
    "t0     = 0.0  # instante inicial\n",
    "\n",
    "popul  = 20   # população\n",
    "iterac = 15   #iterações\n",
    "α = 10.       #parâmetro para o erro\n",
    "β = 0.01      #parâmetro para o jerk\n",
    "γ = 0.1       #parâmetro para o torque\n",
    "per = 1/2     #inicio da leitura do vetor a parti de per do comprimento total\n",
    "\n",
    "x1, v1, a1, j1 = minimumjerkf(0.0, 0.0, 0.0,0.0, 0.6, 0.0, 0.0, tend)\n",
    "x2, v2, a2, j2 = minimumjerkf(0.0, 0.0, 0.0,0.0, 0.8, 0.0, 0.0, tend)\n",
    "xr = [x1,x2]\n",
    "vr = [v1,v2];\n",
    "x1 <:Function"
   ]
  },
  {
   "cell_type": "code",
   "execution_count": 8,
   "metadata": {
    "ExecuteTime": {
     "end_time": "2018-05-22T11:05:56.332000-03:00",
     "start_time": "2018-05-22T14:05:56.330Z"
    }
   },
   "outputs": [],
   "source": [
    "kp_end = AbstractFloat[]\n",
    "kv_end = AbstractFloat[];"
   ]
  },
  {
   "cell_type": "markdown",
   "metadata": {},
   "source": [
    "# Custo"
   ]
  },
  {
   "cell_type": "code",
   "execution_count": 9,
   "metadata": {
    "ExecuteTime": {
     "end_time": "2018-05-22T11:05:58.898000-03:00",
     "start_time": "2018-05-22T14:05:58.887Z"
    }
   },
   "outputs": [],
   "source": [
    "function generateCusto(junta::Integer)\n",
    "    out = function custo(gain::Vector{Float64})\n",
    "        kp = SMatrix{2,2}(diagm([gain[1], gain[2]]))\n",
    "        kv = SMatrix{2,2}(diagm([gain[3], gain[4]]))\n",
    "        x, v, t, a, ta, j, tj, τ, t_tau = robot2dof(kp, kv, Ts, t0, tend, xr, vr)\n",
    "        \n",
    "        sizeVector = length(x[1])\n",
    "\n",
    "        erro_sum = 0.\n",
    "        erro = -(x[junta]-xr[junta])\n",
    "        erro_sum += sum(abs.(erro[floor(Integer,sizeVector*per):end])) \n",
    "\n",
    "        jerk_sum = 0.\n",
    "        jerk_sum += sum(abs.(j[junta]))\n",
    "        \n",
    "        torque_sum = 0.\n",
    "        torque_sum += sum(abs.(τ[junta]))\n",
    "        \n",
    "        torque_dif = 0.\n",
    "        torque_dif += sum(abs.(diff(τ[junta])))\n",
    "        \n",
    "        \n",
    "        erro_sum = erro_sum * α\n",
    "        jerk_sum = jerk_sum * β \n",
    "        torque_sum = torque_sum * γ\n",
    "        println(\" $(erro_sum) | $(jerk_sum) | $(torque_sum) | $(torque_dif)\")\n",
    "        out =  erro_sum + jerk_sum + torque_sum + torque_dif\n",
    "        out\n",
    "    end\n",
    "end;"
   ]
  },
  {
   "cell_type": "markdown",
   "metadata": {},
   "source": [
    "# Otimização junta 2"
   ]
  },
  {
   "cell_type": "code",
   "execution_count": 10,
   "metadata": {
    "ExecuteTime": {
     "end_time": "2018-05-22T11:06:01.231000-03:00",
     "start_time": "2018-05-22T14:06:01.223Z"
    }
   },
   "outputs": [],
   "source": [
    "function gerador2(n)\n",
    "    n = n/2\n",
    "    kp = push!(zeros(n-1),rand()*rand([10.,100.,1000.,10000]))\n",
    "    kv = push!(zeros(n-1),rand()*rand([10.,100.,1000.]))\n",
    "    vcat(kp,kv)\n",
    "end;"
   ]
  },
  {
   "cell_type": "code",
   "execution_count": 11,
   "metadata": {
    "ExecuteTime": {
     "end_time": "2018-05-22T11:06:04.189000-03:00",
     "start_time": "2018-05-22T14:06:03.899Z"
    }
   },
   "outputs": [
    {
     "name": "stdout",
     "output_type": "stream",
     "text": [
      "\r",
      " Progress:|\u001b[31m█\u001b[39m\u001b[37m██████████████████████████████████████████████████\u001b[39m| 0.0%"
     ]
    },
    {
     "ename": "LoadError",
     "evalue": "\u001b[91mMethodError: no method matching robot2dof(::StaticArrays.SArray{Tuple{2,2},Float64,2,4}, ::StaticArrays.SArray{Tuple{2,2},Float64,2,4}, ::Float64, ::Float64, ::Float64, ::Array{Trajectory.##1#5{Array{Float64,1}},1}, ::Array{Trajectory.##2#6{Array{Float64,1}},1})\u001b[0m\nClosest candidates are:\n  robot2dof(::T<:(AbstractArray{T,2} where T), ::T<:(AbstractArray{T,2} where T), ::Y<:AbstractFloat, ::Y<:AbstractFloat, ::Y<:AbstractFloat, ::Array{Z<:Function,1}, \u001b[91m::Array{Z<:Function,1}\u001b[39m) where {T<:(AbstractArray{T,2} where T), Y<:AbstractFloat, Z<:Function} at /home/phelipe/Documentos/programas/jerk-pid/src/modelos.jl:69\n  robot2dof(::T<:(AbstractArray{T,2} where T), ::T<:(AbstractArray{T,2} where T), ::Y<:AbstractFloat, ::Y<:AbstractFloat, ::Y<:AbstractFloat, \u001b[91m::Array{Float64,1}\u001b[39m) where {T<:(AbstractArray{T,2} where T), Y<:AbstractFloat} at /home/phelipe/Documentos/programas/jerk-pid/src/modelos.jl:16\u001b[39m",
     "output_type": "error",
     "traceback": [
      "\u001b[91mMethodError: no method matching robot2dof(::StaticArrays.SArray{Tuple{2,2},Float64,2,4}, ::StaticArrays.SArray{Tuple{2,2},Float64,2,4}, ::Float64, ::Float64, ::Float64, ::Array{Trajectory.##1#5{Array{Float64,1}},1}, ::Array{Trajectory.##2#6{Array{Float64,1}},1})\u001b[0m\nClosest candidates are:\n  robot2dof(::T<:(AbstractArray{T,2} where T), ::T<:(AbstractArray{T,2} where T), ::Y<:AbstractFloat, ::Y<:AbstractFloat, ::Y<:AbstractFloat, ::Array{Z<:Function,1}, \u001b[91m::Array{Z<:Function,1}\u001b[39m) where {T<:(AbstractArray{T,2} where T), Y<:AbstractFloat, Z<:Function} at /home/phelipe/Documentos/programas/jerk-pid/src/modelos.jl:69\n  robot2dof(::T<:(AbstractArray{T,2} where T), ::T<:(AbstractArray{T,2} where T), ::Y<:AbstractFloat, ::Y<:AbstractFloat, ::Y<:AbstractFloat, \u001b[91m::Array{Float64,1}\u001b[39m) where {T<:(AbstractArray{T,2} where T), Y<:AbstractFloat} at /home/phelipe/Documentos/programas/jerk-pid/src/modelos.jl:16\u001b[39m",
      "",
      "Stacktrace:",
      " [1] \u001b[1m(::#custo#26{Int64})\u001b[22m\u001b[22m\u001b[1m(\u001b[22m\u001b[22m::Array{Float64,1}\u001b[1m)\u001b[22m\u001b[22m at \u001b[1m./In[9]:5\u001b[22m\u001b[22m",
      " [2] \u001b[1m#ga#39\u001b[22m\u001b[22m\u001b[1m(\u001b[22m\u001b[22m::#gerador2, ::Void, ::Void, ::Int64, ::Float64, ::Float64, ::Float64, ::Evolutionary.#roulette, ::Evolutionary.#intermxvr#6{Float64}, ::Evolutionary.#mutation#10{Array{Float64,1},Int64,Float64}, ::Int64, ::Float64, ::Int64, ::Bool, ::Bool, ::Bool, ::Bool, ::Evolutionary.#ga, ::#custo#26{Int64}, ::Int64\u001b[1m)\u001b[22m\u001b[22m at \u001b[1m/home/phelipe/.julia/v0.6/Evolutionary/src/ga.jl:61\u001b[22m\u001b[22m",
      " [3] \u001b[1m(::Evolutionary.#kw##ga)\u001b[22m\u001b[22m\u001b[1m(\u001b[22m\u001b[22m::Array{Any,1}, ::Evolutionary.#ga, ::Function, ::Int64\u001b[1m)\u001b[22m\u001b[22m at \u001b[1m./<missing>:0\u001b[22m\u001b[22m",
      " [4] \u001b[1mexecute_request\u001b[22m\u001b[22m\u001b[1m(\u001b[22m\u001b[22m::ZMQ.Socket, ::IJulia.Msg\u001b[1m)\u001b[22m\u001b[22m at \u001b[1m/home/phelipe/.julia/v0.6/IJulia/src/execute_request.jl:158\u001b[22m\u001b[22m",
      " [5] \u001b[1m(::Compat.#inner#18{Array{Any,1},IJulia.#execute_request,Tuple{ZMQ.Socket,IJulia.Msg}})\u001b[22m\u001b[22m\u001b[1m(\u001b[22m\u001b[22m\u001b[1m)\u001b[22m\u001b[22m at \u001b[1m/home/phelipe/.julia/v0.6/Compat/src/Compat.jl:403\u001b[22m\u001b[22m",
      " [6] \u001b[1meventloop\u001b[22m\u001b[22m\u001b[1m(\u001b[22m\u001b[22m::ZMQ.Socket\u001b[1m)\u001b[22m\u001b[22m at \u001b[1m/home/phelipe/.julia/v0.6/IJulia/src/eventloop.jl:8\u001b[22m\u001b[22m",
      " [7] \u001b[1m(::IJulia.##14#17)\u001b[22m\u001b[22m\u001b[1m(\u001b[22m\u001b[22m\u001b[1m)\u001b[22m\u001b[22m at \u001b[1m./task.jl:335\u001b[22m\u001b[22m"
     ]
    }
   ],
   "source": [
    "N = 4\n",
    " result, fitness, cnt = ga(generateCusto(2), N; initPopulation = gerador2, populationSize = popul, ɛ = 0.1, selection = roulette, crossover = intermediate(0.25), mutation = domainrange(fill(0.5,N)), iterations = iterac, showBar = true)"
   ]
  },
  {
   "cell_type": "code",
   "execution_count": null,
   "metadata": {},
   "outputs": [],
   "source": []
  }
 ],
 "metadata": {
  "kernelspec": {
   "display_name": "Julia 0.6.2",
   "language": "julia",
   "name": "julia-0.6"
  },
  "language_info": {
   "file_extension": ".jl",
   "mimetype": "application/julia",
   "name": "julia",
   "version": "0.6.2"
  },
  "notify_time": "5",
  "toc": {
   "nav_menu": {},
   "number_sections": true,
   "sideBar": true,
   "skip_h1_title": false,
   "title_cell": "Table of Contents",
   "title_sidebar": "Contents",
   "toc_cell": false,
   "toc_position": {},
   "toc_section_display": true,
   "toc_window_display": false
  },
  "varInspector": {
   "cols": {
    "lenName": 16,
    "lenType": 16,
    "lenVar": 40
   },
   "kernels_config": {
    "python": {
     "delete_cmd_postfix": "",
     "delete_cmd_prefix": "del ",
     "library": "var_list.py",
     "varRefreshCmd": "print(var_dic_list())"
    },
    "r": {
     "delete_cmd_postfix": ") ",
     "delete_cmd_prefix": "rm(",
     "library": "var_list.r",
     "varRefreshCmd": "cat(var_dic_list()) "
    }
   },
   "types_to_exclude": [
    "module",
    "function",
    "builtin_function_or_method",
    "instance",
    "_Feature"
   ],
   "window_display": false
  }
 },
 "nbformat": 4,
 "nbformat_minor": 2
}
