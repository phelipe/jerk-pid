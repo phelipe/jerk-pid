{
 "cells": [
  {
   "cell_type": "markdown",
   "metadata": {},
   "source": [
    "# Parâmetros"
   ]
  },
  {
   "cell_type": "markdown",
   "metadata": {},
   "source": [
    "Aqui faço a escolha de alguns parêmetros que serão utilizados bem como importo bibliotecas que serão utilizadas."
   ]
  },
  {
   "cell_type": "code",
   "execution_count": 1,
   "metadata": {
    "ExecuteTime": {
     "end_time": "2018-04-19T05:33:19.141000-03:00",
     "start_time": "2018-04-19T08:32:32.450Z"
    }
   },
   "outputs": [],
   "source": [
    "include(\"comum.jl\")\n",
    "include(\"modelos.jl\")\n",
    "using Evolutionary, Plots;\n",
    "pyplot();"
   ]
  },
  {
   "cell_type": "code",
   "execution_count": 2,
   "metadata": {
    "ExecuteTime": {
     "end_time": "2018-04-19T05:33:19.837000-03:00",
     "start_time": "2018-04-19T08:32:32.458Z"
    }
   },
   "outputs": [],
   "source": [
    "Ts     = 0.05 # Intervalo entre leituras da saída\n",
    "tend   = 2.0  # tempo final para estabilização\n",
    "t0     = 0.0  # instante inicial\n",
    "r1     = 0.6  # referência junta 1\n",
    "r2     = 0.8  # referência junta 2\n",
    "popul  = 50   # população\n",
    "iterac = 50;   #iterações"
   ]
  },
  {
   "cell_type": "markdown",
   "metadata": {},
   "source": [
    "# Gerador"
   ]
  },
  {
   "cell_type": "markdown",
   "metadata": {},
   "source": [
    "Aqui criei algumas funções para serem utilizadas na geração da população inicial. Como será visto posteriormente, dependendo da função geredora inicial temos diferentes resultados, isto para o cenário de 50 iterações do algoritmo genético (valor este utilizado para obter uma saída mais rápida)."
   ]
  },
  {
   "cell_type": "code",
   "execution_count": 3,
   "metadata": {
    "ExecuteTime": {
     "end_time": "2018-04-19T05:33:20.300000-03:00",
     "start_time": "2018-04-19T08:32:32.464Z"
    }
   },
   "outputs": [
    {
     "data": {
      "text/plain": [
       "gerador7 (generic function with 1 method)"
      ]
     },
     "execution_count": 3,
     "metadata": {},
     "output_type": "execute_result"
    }
   ],
   "source": [
    "function gerador1(n)\n",
    "    out = rand(n).*[1000., 1000., 100., 100.]\n",
    "end\n",
    "function gerador2(n)\n",
    "    out = rand(n).*[100., 100., 100., 100.]\n",
    "end\n",
    "function gerador3(n)\n",
    "    out = rand(n).*[10., 10., 10., 10.]\n",
    "end\n",
    "function gerador4(n)\n",
    "    out = rand(n).*[10000., 100., 100., 100.]\n",
    "end\n",
    "function gerador5(n)\n",
    "    out = rand(n).*[1000., 100., 1000., 100.]\n",
    "end\n",
    "function gerador6(n)\n",
    "    out = rand(n).*[10000., 100., 1000., 100.]\n",
    "end\n",
    "function gerador7(n)\n",
    "    out = rand(n).*[1000., 1000., 1000., 1000.]\n",
    "end"
   ]
  },
  {
   "cell_type": "markdown",
   "metadata": {},
   "source": [
    "# Função custo"
   ]
  },
  {
   "cell_type": "markdown",
   "metadata": {},
   "source": [
    "Foram realizados teste com diferentes tipo de funções custo mas a que obteve um melhor resultado foi:\n",
    "\n",
    " $$ z = \\alpha\\sum{|e|}+\\beta\\sum{|J|} ,$$\n",
    "onde:\n",
    "\n",
    "- $|e|$ é o valor absoluto do erro\n",
    "- $|J|$ é o valor absoluto do jerk\n",
    "- $\\alpha$ e $\\beta$ são variáveis utilizadas para colocar todos os elementos na mesma ordem de grandeza.\n",
    "\n",
    "Foi necessário colocar o jerk e o erro na mesma ordem de grandeza pois o algoritmo acabava privilegiando a minimização de um destes devido a grande fiferença entre eles. Outras formas foram testadas mas a que apresentou melhores resultados foi a mostrada acima.\n",
    "\n",
    "**Outra coisa que modifica o comportamento é a parti de que instante de tempo é realizada a leitura do vetor erro, se for feita a leitura de todo o vetor, o comportamento da resposta é mais agressivo, fazendo com que chegue ao objetivo mais rápido porém com um custo de um jerk maior. O valor de 2/3 do total do vetor apresentou bons resultados.**"
   ]
  },
  {
   "cell_type": "code",
   "execution_count": 4,
   "metadata": {
    "ExecuteTime": {
     "end_time": "2018-04-19T05:33:20.306000-03:00",
     "start_time": "2018-04-19T08:32:32.470Z"
    }
   },
   "outputs": [],
   "source": [
    "function custo(gain::Vector{Float64})\n",
    "    kp = SMatrix{2,2}(diagm([gain[1], gain[2]]))\n",
    "    kv = SMatrix{2,2}(diagm([gain[3], gain[4]]))\n",
    "    x, v, t, a, ta, j, tj = robot2dof(kp, kv, Ts, t0, tend, [r1, r2])\n",
    "    erro1 =  - (x[1] - r1)\n",
    "    erro2 =  - (x[2] - r2)\n",
    "    sizeVector = length(erro1)\n",
    "\n",
    "    erro_end_1 = sum(abs.(erro1[floor(Integer,sizeVector/3):end]))\n",
    "    erro_end_2 = sum(abs.(erro2[floor(Integer,sizeVector/3):end]))\n",
    "\n",
    "    jerk_1 = sum(abs.(j[1]))\n",
    "    jerk_2 = sum(abs.(j[2]))\n",
    "\n",
    "    erro_end = erro_end_1 + erro_end_2\n",
    "    jerk = jerk_1 + jerk_2\n",
    "\n",
    "    erro_end = erro_end*10.\n",
    "    jerk = jerk*0.01\n",
    "\n",
    "    out =  erro_end + jerk\n",
    "    #println(\" $(erro_end) | $(jerk) | $(out)\")\n",
    "    #println(\"$(gain)\")\n",
    "    out\n",
    "    end;\n"
   ]
  },
  {
   "cell_type": "markdown",
   "metadata": {},
   "source": [
    "# PID Ótimo"
   ]
  },
  {
   "cell_type": "markdown",
   "metadata": {},
   "source": [
    "**Aqui é realizada a simulação para o algoritmo de controle com o otimizador.**"
   ]
  },
  {
   "cell_type": "markdown",
   "metadata": {},
   "source": [
    "## Código"
   ]
  },
  {
   "cell_type": "code",
   "execution_count": 5,
   "metadata": {
    "ExecuteTime": {
     "end_time": "2018-04-19T05:33:39.188000-03:00",
     "start_time": "2018-04-19T08:32:32.474Z"
    },
    "scrolled": false
   },
   "outputs": [
    {
     "name": "stderr",
     "output_type": "stream",
     "text": [
      "\u001b[32mProgress:  96%|███████████████████████████████████████  |  ETA: 0:00:01\u001b[39m"
     ]
    }
   ],
   "source": [
    "N = 4\n",
    " result, fitness, cnt = ga(custo, N; initPopulation = gerador6, populationSize = popul, ɛ = 0.1, selection = roulette, crossover = intermediate(0.25), mutation = domainrange(fill(0.5,N)), iterations = iterac)\n",
    "# result, fitness, cnt = ga(custo, N; initPopulation = gerador6, populationSize = popul, ɛ = 0.1, selection = sus, crossover = intermediate(0.25), mutation = domainrange(fill(0.5,N)), iterations = iterac)\n",
    "t_end_new = tend \n",
    "kp = SMatrix{2,2}(diagm(result[1:2]))\n",
    "kv = SMatrix{2,2}(diagm(result[3:4]))\n",
    "\n",
    "x, v, t, a, ta, j, tj = robot2dof(kp, kv, Ts, t0, t_end_new, [r1, r2]);\n",
    "\n",
    "table1 = \"|-------- | junta 1  | junta 2 |\n",
    "|--------| ------------- | ------------- |\n",
    "|**erro final**| $(rad2deg(x[1][end] - r1)) graus  | $(rad2deg(x[2][end] - r2)) graus  |\n",
    "|**total jerk **| $(sum(abs.(j[1])))  rad/sec³  | $(sum(abs.(j[2])))  rad/sec³  |\n",
    "|**máximo jerk**| $(maximum(abs.(j[1])))  rad/sec³  | $(maximum(abs.(j[2])))  rad/sec³ |\"\n",
    "\n",
    "function plotx()\n",
    "    p1 = plot(t,x[1], label = \"PD ótimo - junta 1\")\n",
    "    p1= plot!([r1],seriestype= :hline, label = \"referência\");\n",
    "    p2 = plot(t,x[2], label = \"PD ótimo - junta 2\")\n",
    "    p2 = plot!([r2],seriestype= :hline, label = \"referência\");\n",
    "    plot(p1,p2)\n",
    "end\n",
    "\n",
    "function plotj()\n",
    "    p1 = plot(tj,j[1], label = \"jerk 1\")\n",
    "    p2 = plot(tj,j[2], label = \"jerk 2\")\n",
    "    plot(p1,p2)\n",
    "end;\n",
    "\n"
   ]
  },
  {
   "cell_type": "markdown",
   "metadata": {},
   "source": [
    "## Resultado"
   ]
  },
  {
   "cell_type": "code",
   "execution_count": 6,
   "metadata": {
    "ExecuteTime": {
     "end_time": "2018-04-19T05:34:02.725000-03:00",
     "start_time": "2018-04-19T08:32:32.480Z"
    }
   },
   "outputs": [
    {
     "data": {
      "image/png": "[encoded data removed]"
     },
     "execution_count": 6,
     "metadata": {},
     "output_type": "execute_result"
    }
   ],
   "source": [
    "plotx()"
   ]
  },
  {
   "cell_type": "markdown",
   "metadata": {},
   "source": [
    "**A tabela a seguir apresenta um resumo dos resultados para o PID otimizado.**"
   ]
  },
  {
   "cell_type": "code",
   "execution_count": 7,
   "metadata": {
    "ExecuteTime": {
     "end_time": "2018-04-19T05:34:04.822000-03:00",
     "start_time": "2018-04-19T08:32:32.486Z"
    },
    "scrolled": true
   },
   "outputs": [
    {
     "data": {
      "text/markdown": [
       "|            –––– |                     junta 1 |                      junta 2 |\n",
       "| ---------------:| ---------------------------:| ----------------------------:|\n",
       "|  **erro final** |   -0.4735313772417629 graus |    -0.1253935744983446 graus |\n",
       "| **total jerk ** | 1050.330092208768  rad/sec³ | 1436.9601124345177  rad/sec³ |\n",
       "| **máximo jerk** | 910.9645779831851  rad/sec³ | 1250.3048662115855  rad/sec³ |\n"
      ],
      "text/plain": [
       "|            –––– |                     junta 1 |                      junta 2 |\n",
       "| ---------------:| ---------------------------:| ----------------------------:|\n",
       "|  **erro final** |   -0.4735313772417629 graus |    -0.1253935744983446 graus |\n",
       "| **total jerk ** | 1050.330092208768  rad/sec³ | 1436.9601124345177  rad/sec³ |\n",
       "| **máximo jerk** | 910.9645779831851  rad/sec³ | 1250.3048662115855  rad/sec³ |\n"
      ]
     },
     "execution_count": 7,
     "metadata": {},
     "output_type": "execute_result"
    }
   ],
   "source": [
    "Markdown.parse(table1)"
   ]
  },
  {
   "cell_type": "markdown",
   "metadata": {},
   "source": [
    "# PID clássico"
   ]
  },
  {
   "cell_type": "markdown",
   "metadata": {},
   "source": [
    "## Código"
   ]
  },
  {
   "cell_type": "code",
   "execution_count": 8,
   "metadata": {
    "ExecuteTime": {
     "end_time": "2018-04-19T05:34:04.860000-03:00",
     "start_time": "2018-04-19T08:32:32.494Z"
    }
   },
   "outputs": [],
   "source": [
    "kp_pid = SMatrix{2,2}(diagm([2800., 80.]))\n",
    "kv_pid = SMatrix{2,2}(diagm([315., 15.]))\n",
    "x_pid, v_pid, t_pid, a_pid, ta_pid, j_pid, tj_pid = robot2dof(kp_pid, kv_pid, Ts, t0, tend, [r1, r2])\n",
    "erro1 = -(x_pid[1] - r1)\n",
    "erro2 = -(x_pid[2] - r2)\n",
    "table2 = \"|-------- | junta 1  | junta 2 |\n",
    "|--------| ------------- | ------------- |\n",
    "|**erro final**| $(rad2deg(x_pid[1][end] - r1)) graus  | $(rad2deg(x_pid[2][end] - r2)) graus  |\n",
    "|**total jerk **| $(sum(abs.(j_pid[1])))  rad/sec³  | $(sum(abs.(j_pid[2])))  rad/sec³  |\n",
    "|**máximo jerk**| $(maximum(abs.(j_pid[1])))  rad/sec³  | $(maximum(abs.(j_pid[2])))  rad/sec³ |\"\n",
    "\n",
    "p1 = plot(t_pid,x_pid[1], label = \"PD tradicional - junta 1\", xlabel =\"tempo (s)\", ylabel = \" posição (rad)\")\n",
    "p1= plot!([r1],seriestype= :hline, label = \"referência\");\n",
    "p2 = plot(t_pid,x_pid[2], label = \"PD tradicional- junta 2\")\n",
    "p2 = plot!([r2],seriestype= :hline, label = \"referência\");\n"
   ]
  },
  {
   "cell_type": "markdown",
   "metadata": {},
   "source": [
    "## Resultados"
   ]
  },
  {
   "cell_type": "code",
   "execution_count": 9,
   "metadata": {
    "ExecuteTime": {
     "end_time": "2018-04-19T05:34:05.324000-03:00",
     "start_time": "2018-04-19T08:32:32.498Z"
    }
   },
   "outputs": [
    {
     "data": {
      "image/png": "[encoded data removed]"
     },
     "execution_count": 9,
     "metadata": {},
     "output_type": "execute_result"
    }
   ],
   "source": [
    "plot(p1,p2)"
   ]
  },
  {
   "cell_type": "markdown",
   "metadata": {},
   "source": [
    "**A tabela a seguir apresenta um resumo dos resultados para o PID clássico.**"
   ]
  },
  {
   "cell_type": "code",
   "execution_count": 10,
   "metadata": {
    "ExecuteTime": {
     "end_time": "2018-04-19T05:34:05.327000-03:00",
     "start_time": "2018-04-19T08:32:32.502Z"
    }
   },
   "outputs": [
    {
     "data": {
      "text/markdown": [
       "|            –––– |                      junta 1 |                      junta 2 |\n",
       "| ---------------:| ----------------------------:| ----------------------------:|\n",
       "|  **erro final** |   -0.46087349666293315 graus |   -0.07844262693506009 graus |\n",
       "| **total jerk ** | 2588.7400924277417  rad/sec³ |   2353.94314070317  rad/sec³ |\n",
       "| **máximo jerk** | 2035.2352092288643  rad/sec³ | 1950.6663211035006  rad/sec³ |\n"
      ],
      "text/plain": [
       "|            –––– |                      junta 1 |                      junta 2 |\n",
       "| ---------------:| ----------------------------:| ----------------------------:|\n",
       "|  **erro final** |   -0.46087349666293315 graus |   -0.07844262693506009 graus |\n",
       "| **total jerk ** | 2588.7400924277417  rad/sec³ |   2353.94314070317  rad/sec³ |\n",
       "| **máximo jerk** | 2035.2352092288643  rad/sec³ | 1950.6663211035006  rad/sec³ |\n"
      ]
     },
     "execution_count": 10,
     "metadata": {},
     "output_type": "execute_result"
    }
   ],
   "source": [
    "Markdown.parse(table2)\n"
   ]
  },
  {
   "cell_type": "markdown",
   "metadata": {},
   "source": [
    "# Comparação"
   ]
  },
  {
   "cell_type": "markdown",
   "metadata": {},
   "source": [
    "**PID ótimo**"
   ]
  },
  {
   "cell_type": "code",
   "execution_count": 11,
   "metadata": {
    "ExecuteTime": {
     "end_time": "2018-04-19T05:34:05.331000-03:00",
     "start_time": "2018-04-19T08:32:32.510Z"
    }
   },
   "outputs": [
    {
     "data": {
      "text/markdown": [
       "|            –––– |                     junta 1 |                      junta 2 |\n",
       "| ---------------:| ---------------------------:| ----------------------------:|\n",
       "|  **erro final** |   -0.4735313772417629 graus |    -0.1253935744983446 graus |\n",
       "| **total jerk ** | 1050.330092208768  rad/sec³ | 1436.9601124345177  rad/sec³ |\n",
       "| **máximo jerk** | 910.9645779831851  rad/sec³ | 1250.3048662115855  rad/sec³ |\n"
      ],
      "text/plain": [
       "|            –––– |                     junta 1 |                      junta 2 |\n",
       "| ---------------:| ---------------------------:| ----------------------------:|\n",
       "|  **erro final** |   -0.4735313772417629 graus |    -0.1253935744983446 graus |\n",
       "| **total jerk ** | 1050.330092208768  rad/sec³ | 1436.9601124345177  rad/sec³ |\n",
       "| **máximo jerk** | 910.9645779831851  rad/sec³ | 1250.3048662115855  rad/sec³ |\n"
      ]
     },
     "execution_count": 11,
     "metadata": {},
     "output_type": "execute_result"
    }
   ],
   "source": [
    "Markdown.parse(table1)"
   ]
  },
  {
   "cell_type": "markdown",
   "metadata": {},
   "source": [
    "**PID clássico**"
   ]
  },
  {
   "cell_type": "code",
   "execution_count": 12,
   "metadata": {
    "ExecuteTime": {
     "end_time": "2018-04-19T05:34:05.335000-03:00",
     "start_time": "2018-04-19T08:32:32.516Z"
    }
   },
   "outputs": [
    {
     "data": {
      "text/markdown": [
       "|            –––– |                      junta 1 |                      junta 2 |\n",
       "| ---------------:| ----------------------------:| ----------------------------:|\n",
       "|  **erro final** |   -0.46087349666293315 graus |   -0.07844262693506009 graus |\n",
       "| **total jerk ** | 2588.7400924277417  rad/sec³ |   2353.94314070317  rad/sec³ |\n",
       "| **máximo jerk** | 2035.2352092288643  rad/sec³ | 1950.6663211035006  rad/sec³ |\n"
      ],
      "text/plain": [
       "|            –––– |                      junta 1 |                      junta 2 |\n",
       "| ---------------:| ----------------------------:| ----------------------------:|\n",
       "|  **erro final** |   -0.46087349666293315 graus |   -0.07844262693506009 graus |\n",
       "| **total jerk ** | 2588.7400924277417  rad/sec³ |   2353.94314070317  rad/sec³ |\n",
       "| **máximo jerk** | 2035.2352092288643  rad/sec³ | 1950.6663211035006  rad/sec³ |\n"
      ]
     },
     "execution_count": 12,
     "metadata": {},
     "output_type": "execute_result"
    }
   ],
   "source": [
    "Markdown.parse(table2)"
   ]
  },
  {
   "cell_type": "code",
   "execution_count": null,
   "metadata": {},
   "outputs": [],
   "source": [
    "    ––––                     junta 1                     junta 2\n",
    "––––––––––––––– ––––––––––––––––––––––––––– –––––––––––––––––––––––––––\n",
    "     erro final  -0.36346130555955736 graus  -0.08986141321856571 graus\n",
    "**total jerk ** 1073.4680493745466 rad/sec³  1358.380740121367 rad/sec³\n",
    "    máximo jerk  926.4048596624652 rad/sec³ 1191.4511572531173 rad/sec³\n",
    "\n",
    "\n",
    "kp = 3680.32   0.0\n",
    "    0.0   92.2648\n",
    "\n",
    "\n",
    "kv = 941.017   0.0\n",
    "   0.0    24.6589"
   ]
  }
 ],
 "metadata": {
  "kernelspec": {
   "display_name": "Julia 0.6.2",
   "language": "julia",
   "name": "julia-0.6"
  },
  "language_info": {
   "file_extension": ".jl",
   "mimetype": "application/julia",
   "name": "julia",
   "version": "0.6.2"
  },
  "notify_time": "10",
  "toc": {
   "nav_menu": {},
   "number_sections": true,
   "sideBar": true,
   "skip_h1_title": false,
   "title_cell": "Table of Contents",
   "title_sidebar": "Contents",
   "toc_cell": false,
   "toc_position": {},
   "toc_section_display": true,
   "toc_window_display": false
  },
  "varInspector": {
   "cols": {
    "lenName": 16,
    "lenType": 16,
    "lenVar": 40
   },
   "kernels_config": {
    "python": {
     "delete_cmd_postfix": "",
     "delete_cmd_prefix": "del ",
     "library": "var_list.py",
     "varRefreshCmd": "print(var_dic_list())"
    },
    "r": {
     "delete_cmd_postfix": ") ",
     "delete_cmd_prefix": "rm(",
     "library": "var_list.r",
     "varRefreshCmd": "cat(var_dic_list()) "
    }
   },
   "types_to_exclude": [
    "module",
    "function",
    "builtin_function_or_method",
    "instance",
    "_Feature"
   ],
   "window_display": false
  }
 },
 "nbformat": 4,
 "nbformat_minor": 2
}
