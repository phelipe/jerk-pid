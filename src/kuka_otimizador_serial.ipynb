{
 "cells": [
  {
   "cell_type": "code",
   "execution_count": 1,
   "metadata": {
    "ExecuteTime": {
     "end_time": "2018-04-25T12:42:07.780000-03:00",
     "start_time": "2018-04-25T15:41:17.640Z"
    }
   },
   "outputs": [],
   "source": [
    "include(\"comum.jl\")\n",
    "include(\"modelos.jl\")\n",
    "using Evolutionary, Plots;\n",
    "pyplot();"
   ]
  },
  {
   "cell_type": "code",
   "execution_count": 2,
   "metadata": {
    "ExecuteTime": {
     "end_time": "2018-04-25T12:42:08.472000-03:00",
     "start_time": "2018-04-25T15:41:17.650Z"
    }
   },
   "outputs": [],
   "source": [
    "Ts = 0.08\n",
    "tend = 2.0\n",
    "t0 = 0.0\n",
    "popul  = 50   # população\n",
    "iterac = 3 #iterações\n",
    "xr = SVector{7}([1.,1.,0.5,0.6,0.5,1.2,0.8]);"
   ]
  },
  {
   "cell_type": "code",
   "execution_count": 3,
   "metadata": {
    "ExecuteTime": {
     "end_time": "2018-04-25T12:42:08.475000-03:00",
     "start_time": "2018-04-25T15:41:17.656Z"
    }
   },
   "outputs": [],
   "source": [
    "function gerador(n)\n",
    "    rand(n).*rand([10.,100.,1000.,10000],n)\n",
    "end;"
   ]
  },
  {
   "cell_type": "code",
   "execution_count": 4,
   "metadata": {
    "ExecuteTime": {
     "end_time": "2018-04-25T12:42:08.484000-03:00",
     "start_time": "2018-04-25T15:41:17.662Z"
    }
   },
   "outputs": [],
   "source": [
    "function custo(gain::Vector{Float64})\n",
    "    kp = SMatrix{7,7}(diagm(gain[1:7]))\n",
    "    kv = SMatrix{7,7}(diagm(gain[8:end]))\n",
    "    x, v, t, a, ta, j, tj = kukaRobot(kp, kv, Ts, t0, tend, xr)\n",
    "    sizeVector = length(x[1])\n",
    "\n",
    "    erro_sum = 0.\n",
    "    for i=1:7\n",
    "        erro = -(x[i]-xr[i])\n",
    "        erro_sum = erro_sum + sum(abs.(erro[floor(Integer,sizeVector/3):end])) \n",
    "    end\n",
    "\n",
    "    jerk_sum = 0.\n",
    "    for i=1:7\n",
    "        jerk_sum = jerk_sum + sum(abs.(j[i]))\n",
    "    end\n",
    "\n",
    "    \n",
    "    erro_sum = erro_sum * 10.\n",
    "    jerk_sum = jerk_sum * 0.01\n",
    "\n",
    "    out =  erro_sum + jerk_sum\n",
    "    println(\"$(erro_sum) + $(jerk_sum)\")\n",
    "    out\n",
    "end;"
   ]
  },
  {
   "cell_type": "code",
   "execution_count": null,
   "metadata": {
    "ExecuteTime": {
     "start_time": "2018-04-25T15:41:17.670Z"
    }
   },
   "outputs": [],
   "source": [
    "N = 14\n",
    "result, fitness, cnt = ga(custo, N; initPopulation = gerador, populationSize = popul, ɛ = 0.25, selection = roulette, crossover = intermediate(0.25), mutation = domainrange(fill(0.5,N)), iterations = iterac)"
   ]
  },
  {
   "cell_type": "code",
   "execution_count": null,
   "metadata": {
    "ExecuteTime": {
     "start_time": "2018-04-25T15:41:17.676Z"
    }
   },
   "outputs": [],
   "source": [
    "t_end_new = tend + 2\n",
    "kp = SMatrix{7,7}(diagm(result[1:7]))\n",
    "kv = SMatrix{7,7}(diagm(result[8:end]))\n",
    "\n",
    "x, v, t, a, ta, j, tj = kukaRobot(kp, kv, Ts, t0, t_end_new, xr);"
   ]
  },
  {
   "cell_type": "code",
   "execution_count": null,
   "metadata": {
    "ExecuteTime": {
     "start_time": "2018-04-25T15:41:17.680Z"
    }
   },
   "outputs": [],
   "source": [
    "for i=1:7\n",
    "    erro = xr[i] - x[i][end]\n",
    "    println(\"erro final $(i) = $(erro)\")\n",
    "end   "
   ]
  },
  {
   "cell_type": "code",
   "execution_count": null,
   "metadata": {
    "ExecuteTime": {
     "start_time": "2018-04-25T15:41:17.688Z"
    }
   },
   "outputs": [],
   "source": [
    "function plotx(i)\n",
    "    p1 = plot(t,x[i], label = \"desejado\")\n",
    "    p1= plot!([xr[i]],seriestype= :hline, label = \"referência\");\n",
    "end    "
   ]
  },
  {
   "cell_type": "code",
   "execution_count": null,
   "metadata": {
    "ExecuteTime": {
     "start_time": "2018-04-25T15:41:17.694Z"
    }
   },
   "outputs": [],
   "source": [
    "plotx(2)"
   ]
  },
  {
   "cell_type": "code",
   "execution_count": null,
   "metadata": {},
   "outputs": [],
   "source": []
  }
 ],
 "metadata": {
  "kernelspec": {
   "display_name": "Julia 0.6.2",
   "language": "julia",
   "name": "julia-0.6"
  },
  "language_info": {
   "file_extension": ".jl",
   "mimetype": "application/julia",
   "name": "julia",
   "version": "0.6.2"
  },
  "notify_time": "5",
  "toc": {
   "nav_menu": {},
   "number_sections": true,
   "sideBar": true,
   "skip_h1_title": false,
   "title_cell": "Table of Contents",
   "title_sidebar": "Contents",
   "toc_cell": false,
   "toc_position": {},
   "toc_section_display": true,
   "toc_window_display": false
  },
  "varInspector": {
   "cols": {
    "lenName": 16,
    "lenType": 16,
    "lenVar": 40
   },
   "kernels_config": {
    "python": {
     "delete_cmd_postfix": "",
     "delete_cmd_prefix": "del ",
     "library": "var_list.py",
     "varRefreshCmd": "print(var_dic_list())"
    },
    "r": {
     "delete_cmd_postfix": ") ",
     "delete_cmd_prefix": "rm(",
     "library": "var_list.r",
     "varRefreshCmd": "cat(var_dic_list()) "
    }
   },
   "types_to_exclude": [
    "module",
    "function",
    "builtin_function_or_method",
    "instance",
    "_Feature"
   ],
   "window_display": false
  }
 },
 "nbformat": 4,
 "nbformat_minor": 2
}
