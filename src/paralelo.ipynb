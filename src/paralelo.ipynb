{
 "cells": [
  {
   "cell_type": "markdown",
   "metadata": {},
   "source": [
    "# Robô paralelo\n",
    "\n",
    "Aqui serão registradas as simulações com o robô paralelo e o otimizador"
   ]
  },
  {
   "cell_type": "code",
   "execution_count": 141,
   "metadata": {
    "ExecuteTime": {
     "end_time": "2018-04-17T16:57:35.553000-03:00",
     "start_time": "2018-04-17T19:57:35.426Z"
    }
   },
   "outputs": [],
   "source": [
    "include(\"comum.jl\")\n",
    "include(\"modelos.jl\")\n",
    "using Evolutionary, Plots;\n",
    "pyplot();"
   ]
  },
  {
   "cell_type": "code",
   "execution_count": 142,
   "metadata": {
    "ExecuteTime": {
     "end_time": "2018-04-17T16:57:35.555000-03:00",
     "start_time": "2018-04-17T19:57:35.430Z"
    }
   },
   "outputs": [],
   "source": [
    "Ts = 0.08\n",
    "tend = 2.0\n",
    "t0 = 0.0\n",
    "r1 = 1.2\n",
    "r2 = 0.6\n",
    "popul  = 30   # população\n",
    "iterac = 3;   #iterações"
   ]
  },
  {
   "cell_type": "code",
   "execution_count": 143,
   "metadata": {
    "ExecuteTime": {
     "end_time": "2018-04-17T16:57:35.559000-03:00",
     "start_time": "2018-04-17T19:57:35.436Z"
    }
   },
   "outputs": [
    {
     "data": {
      "text/plain": [
       "gerador6 (generic function with 1 method)"
      ]
     },
     "execution_count": 143,
     "metadata": {},
     "output_type": "execute_result"
    }
   ],
   "source": [
    "function gerador5(n)\n",
    "    out = rand(n).*[1000., 100., 100., 10.]\n",
    "end;\n",
    "\n",
    "function gerador6(n)\n",
    "    out = rand(n)\n",
    "    for a = 1:n\n",
    "        out[a] = out[a]*shuffle([50.,50.])[1]\n",
    "    end    \n",
    "    out\n",
    "end"
   ]
  },
  {
   "cell_type": "code",
   "execution_count": 144,
   "metadata": {
    "ExecuteTime": {
     "end_time": "2018-04-17T16:57:35.565000-03:00",
     "start_time": "2018-04-17T19:57:35.446Z"
    }
   },
   "outputs": [],
   "source": [
    "function custo(gain::Vector{Float64})\n",
    "    kp = SMatrix{2,2}(diagm([gain[1], gain[2]]))\n",
    "    kv = SMatrix{2,2}(diagm([gain[3], gain[4]]))\n",
    "    x, v, t, a, ta, j, tj = parallelRobot(kp, kv, Ts, t0, tend, [r1, r2])\n",
    "    erro1 =  - (x[1] - r1)\n",
    "    erro2 =  - (x[2] - r2)\n",
    "    sizeVector = length(erro1)\n",
    "\n",
    "    erro_end_1 = sum(abs.(erro1[floor(Integer,sizeVector/3):end]))\n",
    "    erro_end_2 = sum(abs.(erro2[floor(Integer,sizeVector/3):end]))\n",
    "\n",
    "    jerk_1 = sum(abs.(j[1]))\n",
    "    jerk_2 = sum(abs.(j[2]))\n",
    "\n",
    "    erro_end = erro_end_1 + erro_end_2\n",
    "    jerk = jerk_1 + jerk_2\n",
    "\n",
    "    erro_end = erro_end*10.\n",
    "    jerk = jerk*0.01\n",
    "\n",
    "    out =  erro_end + jerk\n",
    "    #println(out)\n",
    "    out\n",
    "end;"
   ]
  },
  {
   "cell_type": "code",
   "execution_count": 145,
   "metadata": {
    "ExecuteTime": {
     "end_time": "2018-04-17T16:57:39.817000-03:00",
     "start_time": "2018-04-17T19:57:35.452Z"
    }
   },
   "outputs": [
    {
     "ename": "LoadError",
     "evalue": "DomainError:",
     "output_type": "error",
     "traceback": [
      "DomainError:",
      "",
      "Stacktrace:",
      " [1] \u001b[1m(::#myrobot#231{StaticArrays.SArray{Tuple{2,2},Float64,2,4},StaticArrays.SArray{Tuple{2,2},Float64,2,4},Array{Float64,1}})\u001b[22m\u001b[22m\u001b[1m(\u001b[22m\u001b[22m::Array{Float64,1}, ::Array{Float64,1}, ::Void, ::Float64\u001b[1m)\u001b[22m\u001b[22m at \u001b[1m/home/phelipe/Documentos/programas/jerk-pid/src/modelos.jl:112\u001b[22m\u001b[22m",
      " [2] \u001b[1mperform_step!\u001b[22m\u001b[22m\u001b[1m(\u001b[22m\u001b[22m::OrdinaryDiffEq.ODEIntegrator{OrdinaryDiffEq.Tsit5,Array{Float64,1},Float64,Void,Float64,Float64,Float64,Array{Array{Float64,1},1},DiffEqBase.ODESolution{Float64,2,Array{Array{Float64,1},1},Void,Void,Array{Float64,1},Array{Array{Array{Float64,1},1},1},DiffEqBase.ODEProblem{Array{Float64,1},Float64,true,Void,#myrobot#231{StaticArrays.SArray{Tuple{2,2},Float64,2,4},StaticArrays.SArray{Tuple{2,2},Float64,2,4},Array{Float64,1}},Void,Void,UniformScaling{Int64},DiffEqBase.StandardODEProblem},OrdinaryDiffEq.Tsit5,OrdinaryDiffEq.InterpolationData{#myrobot#231{StaticArrays.SArray{Tuple{2,2},Float64,2,4},StaticArrays.SArray{Tuple{2,2},Float64,2,4},Array{Float64,1}},Array{Array{Float64,1},1},Array{Float64,1},Array{Array{Array{Float64,1},1},1},OrdinaryDiffEq.Tsit5Cache{Array{Float64,1},Array{Float64,1},Array{Float64,1},Array{Float64,1},OrdinaryDiffEq.Tsit5ConstantCache{Float64,Float64}}}},#myrobot#231{StaticArrays.SArray{Tuple{2,2},Float64,2,4},StaticArrays.SArray{Tuple{2,2},Float64,2,4},Array{Float64,1}},Void,OrdinaryDiffEq.Tsit5Cache{Array{Float64,1},Array{Float64,1},Array{Float64,1},Array{Float64,1},OrdinaryDiffEq.Tsit5ConstantCache{Float64,Float64}},OrdinaryDiffEq.DEOptions{Float64,Float64,Float64,Float64,DiffEqBase.#ODE_DEFAULT_NORM,DiffEqBase.CallbackSet{Tuple{},Tuple{}},DiffEqBase.#ODE_DEFAULT_ISOUTOFDOMAIN,DiffEqBase.#ODE_DEFAULT_PROG_MESSAGE,DiffEqBase.#ODE_DEFAULT_UNSTABLE_CHECK,DataStructures.BinaryHeap{Float64,DataStructures.LessThan},DataStructures.BinaryHeap{Float64,DataStructures.LessThan},Void,Void,Float64,Array{Float64,1},Float64,Array{Float64,1}},Array{Float64,1}}, ::OrdinaryDiffEq.Tsit5Cache{Array{Float64,1},Array{Float64,1},Array{Float64,1},Array{Float64,1},OrdinaryDiffEq.Tsit5ConstantCache{Float64,Float64}}, ::Bool\u001b[1m)\u001b[22m\u001b[22m at \u001b[1m/home/phelipe/.julia/v0.6/OrdinaryDiffEq/src/perform_step/low_order_rk_perform_step.jl:594\u001b[22m\u001b[22m",
      " [3] \u001b[1msolve!\u001b[22m\u001b[22m\u001b[1m(\u001b[22m\u001b[22m::OrdinaryDiffEq.ODEIntegrator{OrdinaryDiffEq.Tsit5,Array{Float64,1},Float64,Void,Float64,Float64,Float64,Array{Array{Float64,1},1},DiffEqBase.ODESolution{Float64,2,Array{Array{Float64,1},1},Void,Void,Array{Float64,1},Array{Array{Array{Float64,1},1},1},DiffEqBase.ODEProblem{Array{Float64,1},Float64,true,Void,#myrobot#231{StaticArrays.SArray{Tuple{2,2},Float64,2,4},StaticArrays.SArray{Tuple{2,2},Float64,2,4},Array{Float64,1}},Void,Void,UniformScaling{Int64},DiffEqBase.StandardODEProblem},OrdinaryDiffEq.Tsit5,OrdinaryDiffEq.InterpolationData{#myrobot#231{StaticArrays.SArray{Tuple{2,2},Float64,2,4},StaticArrays.SArray{Tuple{2,2},Float64,2,4},Array{Float64,1}},Array{Array{Float64,1},1},Array{Float64,1},Array{Array{Array{Float64,1},1},1},OrdinaryDiffEq.Tsit5Cache{Array{Float64,1},Array{Float64,1},Array{Float64,1},Array{Float64,1},OrdinaryDiffEq.Tsit5ConstantCache{Float64,Float64}}}},#myrobot#231{StaticArrays.SArray{Tuple{2,2},Float64,2,4},StaticArrays.SArray{Tuple{2,2},Float64,2,4},Array{Float64,1}},Void,OrdinaryDiffEq.Tsit5Cache{Array{Float64,1},Array{Float64,1},Array{Float64,1},Array{Float64,1},OrdinaryDiffEq.Tsit5ConstantCache{Float64,Float64}},OrdinaryDiffEq.DEOptions{Float64,Float64,Float64,Float64,DiffEqBase.#ODE_DEFAULT_NORM,DiffEqBase.CallbackSet{Tuple{},Tuple{}},DiffEqBase.#ODE_DEFAULT_ISOUTOFDOMAIN,DiffEqBase.#ODE_DEFAULT_PROG_MESSAGE,DiffEqBase.#ODE_DEFAULT_UNSTABLE_CHECK,DataStructures.BinaryHeap{Float64,DataStructures.LessThan},DataStructures.BinaryHeap{Float64,DataStructures.LessThan},Void,Void,Float64,Array{Float64,1},Float64,Array{Float64,1}},Array{Float64,1}}\u001b[1m)\u001b[22m\u001b[22m at \u001b[1m/home/phelipe/.julia/v0.6/OrdinaryDiffEq/src/solve.jl:339\u001b[22m\u001b[22m",
      " [4] \u001b[1m#solve#1417\u001b[22m\u001b[22m\u001b[1m(\u001b[22m\u001b[22m::Array{Any,1}, ::Function, ::DiffEqBase.ODEProblem{Array{Float64,1},Float64,true,Void,#myrobot#231{StaticArrays.SArray{Tuple{2,2},Float64,2,4},StaticArrays.SArray{Tuple{2,2},Float64,2,4},Array{Float64,1}},Void,Void,UniformScaling{Int64},DiffEqBase.StandardODEProblem}, ::OrdinaryDiffEq.Tsit5, ::Array{Any,1}, ::Array{Any,1}, ::Array{Any,1}, ::Type{Val{true}}\u001b[1m)\u001b[22m\u001b[22m at \u001b[1m/home/phelipe/.julia/v0.6/OrdinaryDiffEq/src/solve.jl:7\u001b[22m\u001b[22m",
      " [5] \u001b[1m(::DiffEqBase.#kw##solve)\u001b[22m\u001b[22m\u001b[1m(\u001b[22m\u001b[22m::Array{Any,1}, ::DiffEqBase.#solve, ::DiffEqBase.ODEProblem{Array{Float64,1},Float64,true,Void,#myrobot#231{StaticArrays.SArray{Tuple{2,2},Float64,2,4},StaticArrays.SArray{Tuple{2,2},Float64,2,4},Array{Float64,1}},Void,Void,UniformScaling{Int64},DiffEqBase.StandardODEProblem}, ::OrdinaryDiffEq.Tsit5, ::Array{Any,1}, ::Array{Any,1}, ::Array{Any,1}, ::Type{Val{true}}\u001b[1m)\u001b[22m\u001b[22m at \u001b[1m./<missing>:0\u001b[22m\u001b[22m (repeats 2 times)",
      " [6] \u001b[1mparallelRobot\u001b[22m\u001b[22m\u001b[1m(\u001b[22m\u001b[22m::StaticArrays.SArray{Tuple{2,2},Float64,2,4}, ::StaticArrays.SArray{Tuple{2,2},Float64,2,4}, ::Float64, ::Float64, ::Float64, ::Array{Float64,1}\u001b[1m)\u001b[22m\u001b[22m at \u001b[1m/home/phelipe/Documentos/programas/jerk-pid/src/modelos.jl:163\u001b[22m\u001b[22m",
      " [7] \u001b[1mcusto\u001b[22m\u001b[22m\u001b[1m(\u001b[22m\u001b[22m::Array{Float64,1}\u001b[1m)\u001b[22m\u001b[22m at \u001b[1m./In[144]:4\u001b[22m\u001b[22m",
      " [8] \u001b[1m#ga#39\u001b[22m\u001b[22m\u001b[1m(\u001b[22m\u001b[22m::#gerador5, ::Void, ::Void, ::Int64, ::Float64, ::Float64, ::Float64, ::Evolutionary.#roulette, ::Evolutionary.#intermxvr#6{Float64}, ::Evolutionary.#mutation#10{Array{Float64,1},Int64,Float64}, ::Int64, ::Float64, ::Int64, ::Bool, ::Bool, ::Bool, ::Evolutionary.#ga, ::#custo, ::Int64\u001b[1m)\u001b[22m\u001b[22m at \u001b[1m/home/phelipe/.julia/v0.6/Evolutionary/src/ga.jl:61\u001b[22m\u001b[22m",
      " [9] \u001b[1m(::Evolutionary.#kw##ga)\u001b[22m\u001b[22m\u001b[1m(\u001b[22m\u001b[22m::Array{Any,1}, ::Evolutionary.#ga, ::Function, ::Int64\u001b[1m)\u001b[22m\u001b[22m at \u001b[1m./<missing>:0\u001b[22m\u001b[22m"
     ]
    }
   ],
   "source": [
    "N = 4\n",
    "result, fitness, cnt = ga(custo, N; initPopulation = gerador5, populationSize = popul, ɛ = 0.1, selection = roulette, crossover = intermediate(0.25), mutation = domainrange(fill(0.5,N)), iterations = iterac)\n"
   ]
  },
  {
   "cell_type": "code",
   "execution_count": 146,
   "metadata": {
    "ExecuteTime": {
     "end_time": "2018-04-17T16:57:42.460000-03:00",
     "start_time": "2018-04-17T19:57:35.456Z"
    }
   },
   "outputs": [],
   "source": [
    "t_end_new = tend +2\n",
    "kp = SMatrix{2,2}(diagm(result[1:2]))\n",
    "kv = SMatrix{2,2}(diagm(result[3:4]))\n",
    "\n",
    "x, v, t, a, ta, j, tj = robot2dof(kp, kv, Ts, t0, t_end_new, [r1, r2]);\n",
    "\n",
    "table1 = \"|-------- | junta 1  | junta 2 |\n",
    "|--------| ------------- | ------------- |\n",
    "|**erro final**| $(rad2deg(x[1][end] - r1)) graus  | $(rad2deg(x[2][end] - r2)) graus  |\n",
    "|**total jerk **| $(sum(abs.(j[1])))  rad/sec³  | $(sum(abs.(j[2])))  rad/sec³  |\n",
    "|**máximo jerk**| $(maximum(abs.(j[1])))  rad/sec³  | $(maximum(abs.(j[2])))  rad/sec³ |\"\n",
    "\n",
    "function plotx()\n",
    "    p1 = plot(t,x[1], label = \"desejado 1\")\n",
    "    p1= plot!([r1],seriestype= :hline, label = \"referência\");\n",
    "    p2 = plot(t,x[2], label = \"desejado 2\")\n",
    "    p2 = plot!([r2],seriestype= :hline, label = \"referência\");\n",
    "    plot(p1,p2)\n",
    "end\n",
    "\n",
    "function plotj()\n",
    "    p1 = plot(tj,j[1], label = \"jerk 1\")\n",
    "    p2 = plot(tj,j[2], label = \"jerk 2\")\n",
    "    plot(p1,p2)\n",
    "end;"
   ]
  },
  {
   "cell_type": "code",
   "execution_count": 147,
   "metadata": {
    "ExecuteTime": {
     "end_time": "2018-04-17T16:57:43.014000-03:00",
     "start_time": "2018-04-17T19:57:35.464Z"
    }
   },
   "outputs": [
    {
     "data": {
      "image/png": "[encoded data removed]"
     },
     "execution_count": 147,
     "metadata": {},
     "output_type": "execute_result"
    }
   ],
   "source": [
    "plotx()"
   ]
  }
 ],
 "metadata": {
  "kernelspec": {
   "display_name": "Julia 0.6.2",
   "language": "julia",
   "name": "julia-0.6"
  },
  "language_info": {
   "file_extension": ".jl",
   "mimetype": "application/julia",
   "name": "julia",
   "version": "0.6.2"
  },
  "notify_time": "5",
  "toc": {
   "nav_menu": {},
   "number_sections": true,
   "sideBar": true,
   "skip_h1_title": false,
   "title_cell": "Table of Contents",
   "title_sidebar": "Contents",
   "toc_cell": false,
   "toc_position": {},
   "toc_section_display": true,
   "toc_window_display": false
  },
  "varInspector": {
   "cols": {
    "lenName": 16,
    "lenType": 16,
    "lenVar": 40
   },
   "kernels_config": {
    "python": {
     "delete_cmd_postfix": "",
     "delete_cmd_prefix": "del ",
     "library": "var_list.py",
     "varRefreshCmd": "print(var_dic_list())"
    },
    "r": {
     "delete_cmd_postfix": ") ",
     "delete_cmd_prefix": "rm(",
     "library": "var_list.r",
     "varRefreshCmd": "cat(var_dic_list()) "
    }
   },
   "types_to_exclude": [
    "module",
    "function",
    "builtin_function_or_method",
    "instance",
    "_Feature"
   ],
   "window_display": false
  }
 },
 "nbformat": 4,
 "nbformat_minor": 2
}
