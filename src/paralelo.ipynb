{
 "cells": [
  {
   "cell_type": "markdown",
   "metadata": {},
   "source": [
    "# Robô paralelo\n",
    "\n",
    "Aqui serão registradas as simulações com o robô paralelo e o otimizador"
   ]
  },
  {
   "cell_type": "code",
   "execution_count": 24,
   "metadata": {
    "ExecuteTime": {
     "end_time": "2018-04-16T18:23:54.650000-03:00",
     "start_time": "2018-04-16T21:23:54.534Z"
    }
   },
   "outputs": [],
   "source": [
    "include(\"comum.jl\")\n",
    "include(\"modelos.jl\");"
   ]
  },
  {
   "cell_type": "code",
   "execution_count": 25,
   "metadata": {
    "ExecuteTime": {
     "end_time": "2018-04-16T18:23:54.653000-03:00",
     "start_time": "2018-04-16T21:23:54.542Z"
    }
   },
   "outputs": [],
   "source": [
    "Ts = 0.08\n",
    "tend = 2.0\n",
    "t0 = 0.0\n",
    "r1 = 1.2\n",
    "r2 = 0.6\n",
    "r3 = 1.2\n",
    "r4 = 0.6\n",
    "r5 = 1.2\n",
    "r6 = 0.6\n",
    "r7 = 0.5\n",
    "kp = SMatrix{7,7}(diagm([30., 10.,10.,10.,10.,10.,10.]))\n",
    "kv = SMatrix{7,7}(diagm([5., 5.,5.,5.,5.,5.,5.]));"
   ]
  },
  {
   "cell_type": "code",
   "execution_count": 28,
   "metadata": {
    "ExecuteTime": {
     "end_time": "2018-04-16T18:24:28.763000-03:00",
     "start_time": "2018-04-16T21:24:27.886Z"
    }
   },
   "outputs": [],
   "source": [
    "x, v, t, a, ta, j, tj = kukaRobot(kp, kv, Ts, t0, tend, r1, r2, r3,r4,r5,r6,r7);"
   ]
  },
  {
   "cell_type": "code",
   "execution_count": 27,
   "metadata": {
    "ExecuteTime": {
     "end_time": "2018-04-16T18:24:05.329000-03:00",
     "start_time": "2018-04-16T21:24:04.426Z"
    }
   },
   "outputs": [
    {
     "data": {
      "text/plain": [
       "7-element Array{Any,1}:\n",
       " [0.0, 0.428401, 0.731377, 0.913023, 1.02145, 1.08573, 1.12332, 1.1444, 1.15453, 1.15626  …  1.14374, 1.16317, 1.17267, 1.1664, 1.15186, 1.16456, 1.23142, 1.31606, 1.36517, 1.36554]                  \n",
       " [0.0, 0.0356206, 0.0758455, 0.111046, 0.14348, 0.175085, 0.206531, 0.237494, 0.26722, 0.295505  …  1.12694, 1.39495, 1.66631, 1.927, 2.16686, 2.38082, 2.56994, 2.73021, 2.85313, 2.93715]            \n",
       " [0.0, 0.144133, 0.300625, 0.428984, 0.538337, 0.635586, 0.726412, 0.815836, 0.90832, 1.00743  …  1.85573, 1.95457, 2.02261, 2.05812, 2.06762, 2.06491, 2.04997, 2.01039, 1.94006, 1.85113]            \n",
       " [0.0, 0.0971745, 0.214267, 0.335071, 0.462828, 0.600209, 0.748922, 0.909919, 1.08347, 1.26893  …  2.09954, 1.93903, 1.68574, 1.36078, 1.01351, 0.720945, 0.509779, 0.337822, 0.195823, 0.107843]      \n",
       " [0.0, 0.162464, 0.320942, 0.454263, 0.566695, 0.661791, 0.742486, 0.8112, 0.869927, 0.92032  …  1.11442, 1.12317, 1.1287, 1.1312, 1.1313, 1.13112, 1.13172, 1.13124, 1.1299, 1.12971]                 \n",
       " [0.0, 0.092143, 0.168968, 0.234823, 0.290499, 0.336923, 0.374986, 0.405426, 0.428784, 0.445412  …  0.452471, 0.459643, 0.469997, 0.480082, 0.486141, 0.486864, 0.484942, 0.482913, 0.481845, 0.481815]\n",
       " [0.0, 0.072511, 0.13616, 0.190257, 0.236264, 0.275412, 0.308735, 0.337107, 0.361272, 0.381858  …  0.461729, 0.467322, 0.472052, 0.476068, 0.479519, 0.48256, 0.485203, 0.487399, 0.489232, 0.490799]  "
      ]
     },
     "execution_count": 27,
     "metadata": {},
     "output_type": "execute_result"
    }
   ],
   "source": [
    "x"
   ]
  },
  {
   "cell_type": "code",
   "execution_count": null,
   "metadata": {},
   "outputs": [],
   "source": []
  }
 ],
 "metadata": {
  "kernelspec": {
   "display_name": "Julia 0.6.2",
   "language": "julia",
   "name": "julia-0.6"
  },
  "language_info": {
   "file_extension": ".jl",
   "mimetype": "application/julia",
   "name": "julia",
   "version": "0.6.2"
  },
  "toc": {
   "nav_menu": {},
   "number_sections": true,
   "sideBar": true,
   "skip_h1_title": false,
   "title_cell": "Table of Contents",
   "title_sidebar": "Contents",
   "toc_cell": false,
   "toc_position": {},
   "toc_section_display": true,
   "toc_window_display": false
  },
  "varInspector": {
   "cols": {
    "lenName": 16,
    "lenType": 16,
    "lenVar": 40
   },
   "kernels_config": {
    "python": {
     "delete_cmd_postfix": "",
     "delete_cmd_prefix": "del ",
     "library": "var_list.py",
     "varRefreshCmd": "print(var_dic_list())"
    },
    "r": {
     "delete_cmd_postfix": ") ",
     "delete_cmd_prefix": "rm(",
     "library": "var_list.r",
     "varRefreshCmd": "cat(var_dic_list()) "
    }
   },
   "types_to_exclude": [
    "module",
    "function",
    "builtin_function_or_method",
    "instance",
    "_Feature"
   ],
   "window_display": false
  }
 },
 "nbformat": 4,
 "nbformat_minor": 2
}
