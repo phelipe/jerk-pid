{
 "cells": [
  {
   "cell_type": "code",
   "execution_count": 37,
   "metadata": {
    "ExecuteTime": {
     "end_time": "2018-04-17T17:24:45.893000-03:00",
     "start_time": "2018-04-17T20:24:45.772Z"
    }
   },
   "outputs": [],
   "source": [
    "include(\"comum.jl\")\n",
    "include(\"modelos.jl\")\n",
    "using Evolutionary, Plots;\n",
    "pyplot();"
   ]
  },
  {
   "cell_type": "code",
   "execution_count": 38,
   "metadata": {
    "ExecuteTime": {
     "end_time": "2018-04-17T17:24:45.896000-03:00",
     "start_time": "2018-04-17T20:24:45.780Z"
    }
   },
   "outputs": [],
   "source": [
    "Ts = 0.08\n",
    "tend = 2.0\n",
    "t0 = 0.0\n",
    "popul  = 10   # população\n",
    "iterac = 3 #iterações\n",
    "xr = SVector{7}([1.,1.,0.5,0.6,0.5,1.2,0.8]);"
   ]
  },
  {
   "cell_type": "code",
   "execution_count": 39,
   "metadata": {
    "ExecuteTime": {
     "end_time": "2018-04-17T17:24:45.899000-03:00",
     "start_time": "2018-04-17T20:24:45.784Z"
    }
   },
   "outputs": [],
   "source": [
    "function gerador(n)\n",
    "    out = rand(n)\n",
    "    for a = 1:n\n",
    "        out[a] = out[a]*shuffle([1000., 100., 1000., 100.])[1]\n",
    "    end    \n",
    "    out\n",
    "end;"
   ]
  },
  {
   "cell_type": "code",
   "execution_count": 40,
   "metadata": {
    "ExecuteTime": {
     "end_time": "2018-04-17T17:24:45.907000-03:00",
     "start_time": "2018-04-17T20:24:45.790Z"
    }
   },
   "outputs": [],
   "source": [
    "function custo(gain::Vector{Float64})\n",
    "    kp = SMatrix{7,7}(diagm(gain[1:7]))\n",
    "    kv = SMatrix{7,7}(diagm(gain[8:end]))\n",
    "    x, v, t, a, ta, j, tj = kukaRobot(kp, kv, Ts, t0, tend, xr)\n",
    "    sizeVector = length(x[1])\n",
    "\n",
    "    erro_sum = 0.\n",
    "    for i=1:7\n",
    "        erro = -(x[i]-xr[i])\n",
    "        erro_sum = erro_sum + sum(abs.(erro[floor(Integer,sizeVector/3):end])) \n",
    "    end\n",
    "\n",
    "    jerk_sum = 0.\n",
    "    for i=1:7\n",
    "        jerk_sum = jerk_sum + sum(abs.(j[i]))\n",
    "    end\n",
    "\n",
    "    \n",
    "    erro_sum = erro_sum * 10.\n",
    "    jerk_sum = jerk_sum * 0.01\n",
    "\n",
    "    out =  erro_sum + jerk_sum\n",
    "    #println(\"$(erro_sum) + $(jerk_sum)\")\n",
    "    out\n",
    "end;"
   ]
  },
  {
   "cell_type": "code",
   "execution_count": 41,
   "metadata": {
    "ExecuteTime": {
     "end_time": "2018-04-17T18:29:10.930000-03:00",
     "start_time": "2018-04-17T20:24:45.794Z"
    }
   },
   "outputs": [
    {
     "name": "stderr",
     "output_type": "stream",
     "text": [
      "\u001b[1m\u001b[33mWARNING: \u001b[39m\u001b[22m\u001b[33mInterrupted. Larger maxiters is needed.\u001b[39m\n",
      "\u001b[1m\u001b[33mWARNING: \u001b[39m\u001b[22m\u001b[33mInstability detected. Aborting\u001b[39m\n"
     ]
    },
    {
     "ename": "LoadError",
     "evalue": "\u001b[91mBoundsError: attempt to access 2-element Array{Float64,1} at index [0:2]\u001b[39m",
     "output_type": "error",
     "traceback": [
      "\u001b[91mBoundsError: attempt to access 2-element Array{Float64,1} at index [0:2]\u001b[39m",
      "",
      "Stacktrace:",
      " [1] \u001b[1mthrow_boundserror\u001b[22m\u001b[22m\u001b[1m(\u001b[22m\u001b[22m::Array{Float64,1}, ::Tuple{UnitRange{Int64}}\u001b[1m)\u001b[22m\u001b[22m at \u001b[1m./abstractarray.jl:434\u001b[22m\u001b[22m",
      " [2] \u001b[1mcheckbounds\u001b[22m\u001b[22m at \u001b[1m./abstractarray.jl:362\u001b[22m\u001b[22m [inlined]",
      " [3] \u001b[1mgetindex\u001b[22m\u001b[22m\u001b[1m(\u001b[22m\u001b[22m::Array{Float64,1}, ::UnitRange{Int64}\u001b[1m)\u001b[22m\u001b[22m at \u001b[1m./array.jl:560\u001b[22m\u001b[22m",
      " [4] \u001b[1mcusto\u001b[22m\u001b[22m\u001b[1m(\u001b[22m\u001b[22m::Array{Float64,1}\u001b[1m)\u001b[22m\u001b[22m at \u001b[1m./In[40]:10\u001b[22m\u001b[22m",
      " [5] \u001b[1m#ga#39\u001b[22m\u001b[22m\u001b[1m(\u001b[22m\u001b[22m::#gerador, ::Void, ::Void, ::Int64, ::Float64, ::Float64, ::Float64, ::Evolutionary.#roulette, ::Evolutionary.#intermxvr#6{Float64}, ::Evolutionary.#mutation#10{Array{Float64,1},Int64,Float64}, ::Int64, ::Float64, ::Int64, ::Bool, ::Bool, ::Bool, ::Evolutionary.#ga, ::#custo, ::Int64\u001b[1m)\u001b[22m\u001b[22m at \u001b[1m/home/phelipe/.julia/v0.6/Evolutionary/src/ga.jl:113\u001b[22m\u001b[22m",
      " [6] \u001b[1m(::Evolutionary.#kw##ga)\u001b[22m\u001b[22m\u001b[1m(\u001b[22m\u001b[22m::Array{Any,1}, ::Evolutionary.#ga, ::Function, ::Int64\u001b[1m)\u001b[22m\u001b[22m at \u001b[1m./<missing>:0\u001b[22m\u001b[22m"
     ]
    }
   ],
   "source": [
    "N = 14\n",
    "result, fitness, cnt = ga(custo, N; initPopulation = gerador, populationSize = popul, ɛ = 0.1, selection = roulette, crossover = intermediate(0.25), mutation = domainrange(fill(0.5,N)), iterations = iterac)"
   ]
  },
  {
   "cell_type": "code",
   "execution_count": 42,
   "metadata": {
    "ExecuteTime": {
     "end_time": "2018-04-17T18:29:24.546000-03:00",
     "start_time": "2018-04-17T20:24:45.800Z"
    }
   },
   "outputs": [],
   "source": [
    "t_end_new = tend + 2\n",
    "kp = SMatrix{7,7}(diagm(result[1:7]))\n",
    "kv = SMatrix{7,7}(diagm(result[8:end]))\n",
    "\n",
    "x, v, t, a, ta, j, tj = kukaRobot(kp, kv, Ts, t0, t_end_new, xr);"
   ]
  },
  {
   "cell_type": "code",
   "execution_count": 43,
   "metadata": {
    "ExecuteTime": {
     "end_time": "2018-04-17T18:29:24.574000-03:00",
     "start_time": "2018-04-17T20:24:45.804Z"
    }
   },
   "outputs": [
    {
     "name": "stdout",
     "output_type": "stream",
     "text": [
      "erro final 1 = -0.00010250533600042466\n",
      "erro final 2 = -0.8793097259841274\n",
      "erro final 3 = -0.03905351204597862\n",
      "erro final 4 = 0.2528638089839341\n",
      "erro final 5 = 0.027725612432446645\n",
      "erro final 6 = -0.003781299108079228\n",
      "erro final 7 = 4.99693917810351e-6\n"
     ]
    }
   ],
   "source": [
    "for i=1:7\n",
    "    erro = xr[i] - x[i][end]\n",
    "    println(\"erro final $(i) = $(erro)\")\n",
    "end   "
   ]
  },
  {
   "cell_type": "code",
   "execution_count": 44,
   "metadata": {
    "ExecuteTime": {
     "end_time": "2018-04-17T18:29:24.577000-03:00",
     "start_time": "2018-04-17T20:24:45.806Z"
    }
   },
   "outputs": [
    {
     "data": {
      "text/plain": [
       "plotx (generic function with 1 method)"
      ]
     },
     "execution_count": 44,
     "metadata": {},
     "output_type": "execute_result"
    }
   ],
   "source": [
    "function plotx(i)\n",
    "    p1 = plot(t,x[i], label = \"desejado\")\n",
    "    p1= plot!([xr[i]],seriestype= :hline, label = \"referência\");\n",
    "end    "
   ]
  },
  {
   "cell_type": "code",
   "execution_count": 45,
   "metadata": {
    "ExecuteTime": {
     "end_time": "2018-04-17T18:29:24.814000-03:00",
     "start_time": "2018-04-17T20:24:45.810Z"
    }
   },
   "outputs": [
    {
     "data": {
      "image/png": "[encoded data removed]"
     },
     "execution_count": 45,
     "metadata": {},
     "output_type": "execute_result"
    }
   ],
   "source": [
    "plotx(2)"
   ]
  },
  {
   "cell_type": "code",
   "execution_count": null,
   "metadata": {},
   "outputs": [],
   "source": []
  }
 ],
 "metadata": {
  "kernelspec": {
   "display_name": "Julia 0.6.2",
   "language": "julia",
   "name": "julia-0.6"
  },
  "language_info": {
   "file_extension": ".jl",
   "mimetype": "application/julia",
   "name": "julia",
   "version": "0.6.2"
  },
  "notify_time": "5",
  "toc": {
   "nav_menu": {},
   "number_sections": true,
   "sideBar": true,
   "skip_h1_title": false,
   "title_cell": "Table of Contents",
   "title_sidebar": "Contents",
   "toc_cell": false,
   "toc_position": {},
   "toc_section_display": true,
   "toc_window_display": false
  },
  "varInspector": {
   "cols": {
    "lenName": 16,
    "lenType": 16,
    "lenVar": 40
   },
   "kernels_config": {
    "python": {
     "delete_cmd_postfix": "",
     "delete_cmd_prefix": "del ",
     "library": "var_list.py",
     "varRefreshCmd": "print(var_dic_list())"
    },
    "r": {
     "delete_cmd_postfix": ") ",
     "delete_cmd_prefix": "rm(",
     "library": "var_list.r",
     "varRefreshCmd": "cat(var_dic_list()) "
    }
   },
   "types_to_exclude": [
    "module",
    "function",
    "builtin_function_or_method",
    "instance",
    "_Feature"
   ],
   "window_display": false
  }
 },
 "nbformat": 4,
 "nbformat_minor": 2
}
