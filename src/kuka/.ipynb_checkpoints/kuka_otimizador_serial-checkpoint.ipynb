{
 "cells": [
  {
   "cell_type": "markdown",
   "metadata": {},
   "source": [
    "# Otimização em série\n",
    "\n",
    "Aqui farei a otmização do controlador individual por junta pois a otimização em lote se mostrou ineficiente para mecanismos com uma quantidade elevada de graus de liberdade."
   ]
  },
  {
   "cell_type": "code",
   "execution_count": 1,
   "metadata": {
    "ExecuteTime": {
     "end_time": "2018-04-28T09:59:31.904000-03:00",
     "start_time": "2018-04-28T12:58:48.010Z"
    }
   },
   "outputs": [],
   "source": [
    "include(\"../comum.jl\")\n",
    "include(\"../modelos.jl\")\n",
    "using Evolutionary, Plots;\n",
    "#pyplot();\n",
    "plotlyjs()"
   ]
  },
  {
   "cell_type": "code",
   "execution_count": 10,
   "metadata": {
    "ExecuteTime": {
     "end_time": "2018-04-28T10:06:01.756000-03:00",
     "start_time": "2018-04-28T13:06:01.746Z"
    }
   },
   "outputs": [],
   "source": [
    "Ts = 0.08     #período de leitura\n",
    "tend = 2.0    #tempo final\n",
    "t0 = 0.0      # tempo inicial\n",
    "popul  = 25   # população\n",
    "iterac = 10   #iterações\n",
    "α = 10.       #parâmetro para o erro\n",
    "β = 0.01      #parâmetro para o jerk\n",
    "per = 1/3     #inicio da leitura do vetor a parti de per do comprimento total\n",
    "xr = SVector{7}([1.,1.,0.5,0.6,0.5,1.2,0.8]) #referências\n",
    "kp_end = AbstractFloat[]\n",
    "kv_end = AbstractFloat[];"
   ]
  },
  {
   "cell_type": "markdown",
   "metadata": {},
   "source": [
    "## Otimização junta 7"
   ]
  },
  {
   "cell_type": "code",
   "execution_count": 21,
   "metadata": {
    "ExecuteTime": {
     "end_time": "2018-04-28T10:43:34.178000-03:00",
     "start_time": "2018-04-28T13:43:34.172Z"
    }
   },
   "outputs": [],
   "source": [
    "function gerador7(n)\n",
    "    n = n/2\n",
    "    kp = push!(zeros(n-1),rand()*rand([10.,100.,1000.,10000]))\n",
    "    kv = push!(zeros(n-1),rand()*rand([10.,100.,1000.]))\n",
    "    vcat(kp,kv)\n",
    "end;"
   ]
  },
  {
   "cell_type": "code",
   "execution_count": 22,
   "metadata": {
    "ExecuteTime": {
     "end_time": "2018-04-28T10:43:36.688000-03:00",
     "start_time": "2018-04-28T13:43:36.676Z"
    }
   },
   "outputs": [],
   "source": [
    "function generateCusto(junta::Integer)\n",
    "    out = function custo(gain::Vector{Float64})\n",
    "        kp = SMatrix{7,7}(diagm(gain[1:7]))\n",
    "        kv = SMatrix{7,7}(diagm(gain[8:end]))\n",
    "        x, v, t, a, ta, j, tj = kukaRobot(kp, kv, Ts, t0, tend, xr)\n",
    "        sizeVector = length(x[1])\n",
    "\n",
    "        erro_sum = 0.\n",
    "        erro = -(x[junta]-xr[junta])\n",
    "        erro_sum += sum(abs.(erro[floor(Integer,sizeVector*per):end])) \n",
    "\n",
    "        jerk_sum = 0.\n",
    "        jerk_sum += sum(abs.(j[junta]))\n",
    "        erro_sum = erro_sum * α\n",
    "        jerk_sum = jerk_sum * β \n",
    "\n",
    "        out =  erro_sum + jerk_sum\n",
    "        out\n",
    "    end\n",
    "end;"
   ]
  },
  {
   "cell_type": "code",
   "execution_count": 23,
   "metadata": {
    "ExecuteTime": {
     "end_time": "2018-04-28T11:44:39.736000-03:00",
     "start_time": "2018-04-28T13:43:39.770Z"
    },
    "scrolled": false
   },
   "outputs": [
    {
     "name": "stdout",
     "output_type": "stream",
     "text": [
      " Progress:|\u001b[31m███████████████████████████████████████████████████\u001b[39m\u001b[37m\u001b[39m| 100.0%"
     ]
    },
    {
     "data": {
      "text/plain": [
       "([0.0496515, -0.00238823, -0.0261294, 0.00166144, 0.00398716, -0.000538741, 9555.48, -0.00201195, -0.0667026, 5.41381e-6, 0.00529449, 0.125648, 0.00101658, 70.5918], 0.0468083393458258, 10, 0.0, Dict{Symbol,Any}())"
      ]
     },
     "execution_count": 23,
     "metadata": {},
     "output_type": "execute_result"
    }
   ],
   "source": [
    "N = 14\n",
    "result, fitness, cnt = ga(generateCusto(7), N; initPopulation = gerador7, populationSize = popul, ɛ = 0.25, selection = roulette, crossover = intermediate(0.25), mutation = domainrange(fill(0.5,N)), iterations = iterac, showBar = true);"
   ]
  },
  {
   "cell_type": "code",
   "execution_count": 32,
   "metadata": {
    "ExecuteTime": {
     "end_time": "2018-04-28T11:50:10.474000-03:00",
     "start_time": "2018-04-28T14:50:10.468Z"
    }
   },
   "outputs": [
    {
     "data": {
      "text/markdown": [
       "|     –- |           junta 7 |\n",
       "| ------:| -----------------:|\n",
       "| **KP** | 9555.475501039055 |\n",
       "| **KV** |  70.5917981786782 |\n"
      ],
      "text/plain": [
       "|     –- |           junta 7 |\n",
       "| ------:| -----------------:|\n",
       "| **KP** | 9555.475501039055 |\n",
       "| **KV** |  70.5917981786782 |\n"
      ]
     },
     "execution_count": 32,
     "metadata": {},
     "output_type": "execute_result"
    }
   ],
   "source": [
    "push!(kp_end, result[7])\n",
    "push!(kv_end, result[14])\n",
    "Markdown.parse(\"---|junta 7\\n---|---\\n**KP**|$(result[7])\\n**KV**|$(result[14])\")"
   ]
  },
  {
   "cell_type": "markdown",
   "metadata": {
    "heading_collapsed": true
   },
   "source": [
    "## Otimização junta 6"
   ]
  },
  {
   "cell_type": "code",
   "execution_count": null,
   "metadata": {
    "ExecuteTime": {
     "start_time": "2018-04-27T22:40:08.148Z"
    },
    "hidden": true
   },
   "outputs": [],
   "source": [
    "function gerador6(n)\n",
    "    n = n/2\n",
    "    kp = push!(zeros(n-2),rand()*rand([10.,100.,1000.,10000]))\n",
    "    push!(kp,result[7])\n",
    "    kv = push!(zeros(n-2),rand()*rand([10.,100.,1000.]))\n",
    "    push!(kv,result[14])\n",
    "    vcat(kp,kv)\n",
    "end;"
   ]
  },
  {
   "cell_type": "code",
   "execution_count": null,
   "metadata": {
    "ExecuteTime": {
     "start_time": "2018-04-27T22:40:08.158Z"
    },
    "hidden": true
   },
   "outputs": [],
   "source": [
    "N = 14\n",
    "result, fitness, cnt = ga(generateCusto(6), N; initPopulation = gerador6, populationSize = popul, ɛ = 0.25, selection = roulette, crossover = intermediate(0.25), mutation = domainrange(fill(0.5,N)), iterations = iterac, showBar = true)"
   ]
  },
  {
   "cell_type": "markdown",
   "metadata": {
    "heading_collapsed": true
   },
   "source": [
    "## Otimização junta 5"
   ]
  },
  {
   "cell_type": "code",
   "execution_count": null,
   "metadata": {
    "ExecuteTime": {
     "start_time": "2018-04-27T22:40:08.166Z"
    },
    "hidden": true
   },
   "outputs": [],
   "source": [
    "function gerador5(n)\n",
    "    n = n/2\n",
    "    kp = push!(zeros(n-3),rand()*rand([10.,100.,1000.,10000]))\n",
    "    kp = vcat(kp,result[6:7])\n",
    "    kv = push!(zeros(n-3),rand()*rand([10.,100.,1000.]))\n",
    "    kv = vcat(kv,result[13:14])\n",
    "    vcat(kp,kv)\n",
    "end;"
   ]
  },
  {
   "cell_type": "code",
   "execution_count": null,
   "metadata": {
    "ExecuteTime": {
     "start_time": "2018-04-27T22:40:08.174Z"
    },
    "hidden": true
   },
   "outputs": [],
   "source": [
    "N = 14\n",
    "result, fitness, cnt = ga(generateCusto(5), N; initPopulation = gerador5, populationSize = popul, ɛ = 0.25, selection = roulette, crossover = intermediate(0.25), mutation = domainrange(fill(0.5,N)), iterations = iterac, showBar = true)"
   ]
  },
  {
   "cell_type": "markdown",
   "metadata": {
    "heading_collapsed": true
   },
   "source": [
    "## Otimização junta 4"
   ]
  },
  {
   "cell_type": "code",
   "execution_count": null,
   "metadata": {
    "ExecuteTime": {
     "start_time": "2018-04-27T22:40:08.180Z"
    },
    "hidden": true
   },
   "outputs": [],
   "source": [
    "function gerador4(n)\n",
    "    n = n/2\n",
    "    kp = push!(zeros(n-4),rand()*rand([10.,100.,1000.,10000]))\n",
    "    kp = vcat(kp,result[5:7])\n",
    "    kv = push!(zeros(n-4),rand()*rand([10.,100.,1000.]))\n",
    "    kv = vcat(kv,result[12:14])\n",
    "    vcat(kp,kv)\n",
    "end;"
   ]
  },
  {
   "cell_type": "code",
   "execution_count": null,
   "metadata": {
    "ExecuteTime": {
     "start_time": "2018-04-27T22:40:08.186Z"
    },
    "hidden": true
   },
   "outputs": [],
   "source": [
    "N = 14\n",
    "result, fitness, cnt = ga(generateCusto(4), N; initPopulation = gerador4, populationSize = popul, ɛ = 0.25, selection = roulette, crossover = intermediate(0.25), mutation = domainrange(fill(0.5,N)), iterations = iterac, showBar = true)"
   ]
  },
  {
   "cell_type": "markdown",
   "metadata": {
    "heading_collapsed": true
   },
   "source": [
    "## Otimização junta 3"
   ]
  },
  {
   "cell_type": "code",
   "execution_count": null,
   "metadata": {
    "ExecuteTime": {
     "start_time": "2018-04-27T22:40:08.194Z"
    },
    "hidden": true
   },
   "outputs": [],
   "source": [
    "function gerador3(n)\n",
    "    n = n/2\n",
    "    kp = push!(zeros(n-5),rand()*rand([10.,100.,1000.,10000]))\n",
    "    kp = vcat(kp,result[4:7])\n",
    "    kv = push!(zeros(n-5),rand()*rand([10.,100.,1000.]))\n",
    "    kv = vcat(kv,result[11:14])\n",
    "    vcat(kp,kv)\n",
    "end;"
   ]
  },
  {
   "cell_type": "code",
   "execution_count": null,
   "metadata": {
    "ExecuteTime": {
     "start_time": "2018-04-27T22:40:08.200Z"
    },
    "hidden": true
   },
   "outputs": [],
   "source": [
    "N = 14\n",
    "result, fitness, cnt = ga(generateCusto(3), N; initPopulation = gerador3, populationSize = popul, ɛ = 0.25, selection = roulette, crossover = intermediate(0.25), mutation = domainrange(fill(0.5,N)), iterations = iterac, showBar = true)"
   ]
  },
  {
   "cell_type": "markdown",
   "metadata": {
    "heading_collapsed": true
   },
   "source": [
    "## Otimização junta 2"
   ]
  },
  {
   "cell_type": "code",
   "execution_count": null,
   "metadata": {
    "ExecuteTime": {
     "start_time": "2018-04-27T22:40:08.206Z"
    },
    "hidden": true
   },
   "outputs": [],
   "source": [
    "function gerador2(n)\n",
    "    n = n/2\n",
    "    kp = push!(zeros(n-6),rand()*rand([10.,100.,1000.,10000]))\n",
    "    kp = vcat(kp,result[3:7])\n",
    "    kv = push!(zeros(n-6),rand()*rand([10.,100.,1000.]))\n",
    "    kv = vcat(kv,result[10:14])\n",
    "    vcat(kp,kv)\n",
    "end;"
   ]
  },
  {
   "cell_type": "code",
   "execution_count": null,
   "metadata": {
    "ExecuteTime": {
     "start_time": "2018-04-27T22:40:08.210Z"
    },
    "hidden": true
   },
   "outputs": [],
   "source": [
    "N = 14\n",
    "result, fitness, cnt = ga(generateCusto(2), N; initPopulation = gerador2, populationSize = popul, ɛ = 0.25, selection = roulette, crossover = intermediate(0.25), mutation = domainrange(fill(0.5,N)), iterations = iterac, showBar = true)"
   ]
  },
  {
   "cell_type": "markdown",
   "metadata": {
    "heading_collapsed": true
   },
   "source": [
    "## Otimização junta 1"
   ]
  },
  {
   "cell_type": "code",
   "execution_count": null,
   "metadata": {
    "ExecuteTime": {
     "start_time": "2018-04-27T22:40:08.218Z"
    },
    "hidden": true
   },
   "outputs": [],
   "source": [
    "function gerador1(n)\n",
    "    n = n/2\n",
    "    kp = push!(zeros(n-7),rand()*rand([10.,100.,1000.,10000]))\n",
    "    kp = vcat(kp,result[2:7])\n",
    "    kv = push!(zeros(n-7),rand()*rand([10.,100.,1000.]))\n",
    "    kv = vcat(kv,result[9:14])\n",
    "    vcat(kp,kv)\n",
    "end;"
   ]
  },
  {
   "cell_type": "code",
   "execution_count": null,
   "metadata": {
    "ExecuteTime": {
     "start_time": "2018-04-27T22:40:08.222Z"
    },
    "hidden": true
   },
   "outputs": [],
   "source": [
    "N = 14\n",
    "result, fitness, cnt = ga(generateCusto(1), N; initPopulation = gerador1, populationSize = popul, ɛ = 0.25, selection = roulette, crossover = intermediate(0.25), mutation = domainrange(fill(0.5,N)), iterations = iterac, showBar = true)"
   ]
  },
  {
   "cell_type": "markdown",
   "metadata": {},
   "source": [
    "## Resultado Final"
   ]
  },
  {
   "cell_type": "code",
   "execution_count": 24,
   "metadata": {
    "ExecuteTime": {
     "end_time": "2018-04-28T11:45:02.181000-03:00",
     "start_time": "2018-04-28T14:44:49.142Z"
    }
   },
   "outputs": [],
   "source": [
    "t_end_new = 2.\n",
    "kp = SMatrix{7,7}(diagm(result[1:7]))\n",
    "kv = SMatrix{7,7}(diagm(result[8:end]))\n",
    "\n",
    "x, v, t, a, ta, j, tj = kukaRobot(kp, kv, Ts, t0, t_end_new, xr);"
   ]
  },
  {
   "cell_type": "code",
   "execution_count": 25,
   "metadata": {
    "ExecuteTime": {
     "end_time": "2018-04-28T11:45:02.200000-03:00",
     "start_time": "2018-04-28T14:44:49.150Z"
    }
   },
   "outputs": [
    {
     "name": "stdout",
     "output_type": "stream",
     "text": [
      "erro final 1 = 1.3641484095784835\n",
      "erro final 2 = 3.211140042412714\n",
      "erro final 3 = 18.40450494231392\n",
      "erro final 4 = 3.1458141012777263\n",
      "erro final 5 = 3.8555595480370632\n",
      "erro final 6 = 13.728657655986375\n",
      "erro final 7 = 4.702940745171524e-6\n"
     ]
    }
   ],
   "source": [
    "for i=1:7\n",
    "    erro = xr[i] - x[i][end]\n",
    "    println(\"erro final $(i) = $(erro)\")\n",
    "end   "
   ]
  },
  {
   "cell_type": "code",
   "execution_count": 26,
   "metadata": {
    "ExecuteTime": {
     "end_time": "2018-04-28T11:45:02.210000-03:00",
     "start_time": "2018-04-28T14:44:49.158Z"
    }
   },
   "outputs": [
    {
     "data": {
      "text/plain": [
       "plotx (generic function with 2 methods)"
      ]
     },
     "execution_count": 26,
     "metadata": {},
     "output_type": "execute_result"
    }
   ],
   "source": [
    "function plotx(i)\n",
    "    p1 = plot(t,x[i], label = \"desejado\")\n",
    "    p1= plot!([xr[i]],seriestype= :hline, label = \"referência\");\n",
    "end\n",
    "function plotx()\n",
    "    p1 = plot(t,x[1], label = \"simulação 1\")\n",
    "    p1= plot!([xr[1]],seriestype= :hline, label = \"referência 1\")\n",
    "    p2 = plot(t,x[2], label = \"simulação 2\")\n",
    "    p2= plot!([xr[2]],seriestype= :hline, label = \"referência 2\")\n",
    "    p3 = plot(t,x[3], label = \"simulação 3\")\n",
    "    p3= plot!([xr[3]],seriestype= :hline, label = \"referência 3\")\n",
    "    p4 = plot(t,x[4], label = \"simulação 4\")\n",
    "    p4= plot!([xr[4]],seriestype= :hline, label = \"referência 4\")\n",
    "    p5 = plot(t,x[5], label = \"simulação 5\")\n",
    "    p5= plot!([xr[5]],seriestype= :hline, label = \"referência 5\")\n",
    "    p6 = plot(t,x[6], label = \"simulação 6\")\n",
    "    p6= plot!([xr[6]],seriestype= :hline, label = \"referência 6\")\n",
    "    p7 = plot(t,x[7], label = \"simulação 7\")\n",
    "    p7= plot!([xr[7]],seriestype= :hline, label = \"referência 7\")\n",
    "    plot(p1,p2,p3,p4,p5,p6,p7, layout =(7,1))\n",
    "end"
   ]
  },
  {
   "cell_type": "code",
   "execution_count": 27,
   "metadata": {
    "ExecuteTime": {
     "end_time": "2018-04-28T11:45:02.501000-03:00",
     "start_time": "2018-04-28T14:44:49.170Z"
    }
   },
   "outputs": [
    {
     "data": {
      "image/png": "[encoded data removed]"
     },
     "execution_count": 27,
     "metadata": {},
     "output_type": "execute_result"
    }
   ],
   "source": [
    "plotx(7)"
   ]
  },
  {
   "cell_type": "code",
   "execution_count": 28,
   "metadata": {
    "ExecuteTime": {
     "end_time": "2018-04-28T11:45:02.532000-03:00",
     "start_time": "2018-04-28T14:44:49.182Z"
    }
   },
   "outputs": [
    {
     "name": "stdout",
     "output_type": "stream",
     "text": [
      "Somatório do módulo do jerk\n",
      "junta 1 -> 39021.705532219145\n",
      "junta 2 -> 15547.719134384275\n",
      "junta 3 -> 67062.19280040581\n",
      "junta 4 -> 20349.393806287935\n",
      "junta 5 -> 26584.480370279703\n",
      "junta 6 -> 46523.090685011055\n",
      "junta 7 -> 4.3553032465889\n",
      "jerk total: 215092.9376318345\n"
     ]
    }
   ],
   "source": [
    "println(\"Somatório do módulo do jerk\")\n",
    "for i = 1:7\n",
    "    println(\"junta $(i) -> $(sum(abs.(j[i])))\")\n",
    "end\n",
    "soma_jerk= 0.\n",
    "for i = 1:7\n",
    "    soma_jerk += sum(abs.(j[i]))\n",
    "end\n",
    "println(\"jerk total: $(soma_jerk)\")"
   ]
  },
  {
   "cell_type": "code",
   "execution_count": 29,
   "metadata": {
    "ExecuteTime": {
     "end_time": "2018-04-28T11:45:02.566000-03:00",
     "start_time": "2018-04-28T14:44:49.190Z"
    }
   },
   "outputs": [
    {
     "name": "stdout",
     "output_type": "stream",
     "text": [
      "Máximo módulo do jerk\n",
      "junta 1 -> 12155.595331869688\n",
      "junta 2 -> 3147.6615401832364\n",
      "junta 3 -> 24420.934370635307\n",
      "junta 4 -> 6294.777957246081\n",
      "junta 5 -> 8703.990225009145\n",
      "junta 6 -> 18107.768289440486\n",
      "junta 7 -> 0.47445847548048353\n",
      "jerk máximo total: 72831.20217285943\n"
     ]
    }
   ],
   "source": [
    "println(\"Máximo módulo do jerk\")\n",
    "for i = 1:7\n",
    "    println(\"junta $(i) -> $(maximum(abs.(j[i])))\")\n",
    "end \n",
    "soma_jerk_max = 0.\n",
    "for i = 1:7\n",
    "    soma_jerk_max += maximum(abs.(j[i]))\n",
    "end\n",
    "println(\"jerk máximo total: $(soma_jerk_max)\")"
   ]
  },
  {
   "cell_type": "code",
   "execution_count": null,
   "metadata": {},
   "outputs": [],
   "source": []
  }
 ],
 "metadata": {
  "kernelspec": {
   "display_name": "Julia 0.6.2",
   "language": "julia",
   "name": "julia-0.6"
  },
  "language_info": {
   "file_extension": ".jl",
   "mimetype": "application/julia",
   "name": "julia",
   "version": "0.6.2"
  },
  "notify_time": "5",
  "toc": {
   "nav_menu": {},
   "number_sections": true,
   "sideBar": true,
   "skip_h1_title": false,
   "title_cell": "Table of Contents",
   "title_sidebar": "Contents",
   "toc_cell": false,
   "toc_position": {},
   "toc_section_display": true,
   "toc_window_display": false
  },
  "varInspector": {
   "cols": {
    "lenName": 16,
    "lenType": 16,
    "lenVar": 40
   },
   "kernels_config": {
    "python": {
     "delete_cmd_postfix": "",
     "delete_cmd_prefix": "del ",
     "library": "var_list.py",
     "varRefreshCmd": "print(var_dic_list())"
    },
    "r": {
     "delete_cmd_postfix": ") ",
     "delete_cmd_prefix": "rm(",
     "library": "var_list.r",
     "varRefreshCmd": "cat(var_dic_list()) "
    }
   },
   "types_to_exclude": [
    "module",
    "function",
    "builtin_function_or_method",
    "instance",
    "_Feature"
   ],
   "window_display": false
  }
 },
 "nbformat": 4,
 "nbformat_minor": 2
}
