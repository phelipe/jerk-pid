{
 "cells": [
  {
   "cell_type": "markdown",
   "metadata": {},
   "source": [
    "# Otimização com conhecimento prévio dos valores de ganhos PD\n",
    "Otimização em lote do kuka utilizando conhecimento prévio dos ganhos de um controlador PD."
   ]
  },
  {
   "cell_type": "code",
   "execution_count": 1,
   "metadata": {
    "ExecuteTime": {
     "end_time": "2018-04-27T19:48:45.713000-03:00",
     "start_time": "2018-04-27T22:47:52.676Z"
    }
   },
   "outputs": [],
   "source": [
    "include(\"../comum.jl\")\n",
    "include(\"../modelos.jl\")\n",
    "using Evolutionary, Plots;\n",
    "pyplot();"
   ]
  },
  {
   "cell_type": "code",
   "execution_count": 2,
   "metadata": {
    "ExecuteTime": {
     "end_time": "2018-04-27T19:48:46.439000-03:00",
     "start_time": "2018-04-27T22:47:52.684Z"
    }
   },
   "outputs": [],
   "source": [
    "Ts = 0.08\n",
    "tend = 2.0\n",
    "t0 = 0.0\n",
    "popul  = 10   # população\n",
    "iterac = 3 #iterações\n",
    "xr = SVector{7}([1.,1.,0.5,0.6,0.5,1.2,0.8]);"
   ]
  },
  {
   "cell_type": "code",
   "execution_count": 3,
   "metadata": {
    "ExecuteTime": {
     "end_time": "2018-04-27T19:48:46.441000-03:00",
     "start_time": "2018-04-27T22:47:52.692Z"
    }
   },
   "outputs": [],
   "source": [
    "function gerador(n)\n",
    "    rand(n).*[10000.,10000.,10000.,10000.,1000.,1000.,100.,1000.,10000.,1000.,1000.,1000.,100.,10.]\n",
    "end;"
   ]
  },
  {
   "cell_type": "code",
   "execution_count": 4,
   "metadata": {
    "ExecuteTime": {
     "end_time": "2018-04-27T19:48:46.450000-03:00",
     "start_time": "2018-04-27T22:47:52.698Z"
    }
   },
   "outputs": [],
   "source": [
    "function custo(gain::Vector{Float64})\n",
    "    kp = SMatrix{7,7}(diagm(gain[1:7]))\n",
    "    kv = SMatrix{7,7}(diagm(gain[8:end]))\n",
    "    x, v, t, a, ta, j, tj = kukaRobot(kp, kv, Ts, t0, tend, xr)\n",
    "    sizeVector = length(x[1])\n",
    "\n",
    "    erro_sum = 0.\n",
    "    for i=1:7\n",
    "        erro = -(x[i]-xr[i])\n",
    "        erro_sum = erro_sum + sum(abs.(erro[floor(Integer,sizeVector/3):end])) \n",
    "    end\n",
    "\n",
    "    jerk_sum = 0.\n",
    "    for i=1:7\n",
    "        jerk_sum = jerk_sum + sum(abs.(j[i]))\n",
    "    end\n",
    "\n",
    "    \n",
    "    erro_sum = erro_sum * 10.\n",
    "    jerk_sum = jerk_sum * 0.01\n",
    "\n",
    "    out =  erro_sum + jerk_sum\n",
    "    println(\"erro: $(erro_sum) jerk: $(jerk_sum)\")\n",
    "    out\n",
    "end;"
   ]
  },
  {
   "cell_type": "code",
   "execution_count": null,
   "metadata": {
    "ExecuteTime": {
     "start_time": "2018-04-27T22:47:52.704Z"
    }
   },
   "outputs": [],
   "source": [
    "N = 14\n",
    "result, fitness, cnt = ga(custo, N; initPopulation = gerador, populationSize = popul, ɛ = 0.25, selection = roulette, crossover = intermediate(0.25), mutation = domainrange(fill(0.5,N)), iterations = iterac, showBar = true);"
   ]
  },
  {
   "cell_type": "code",
   "execution_count": null,
   "metadata": {
    "ExecuteTime": {
     "start_time": "2018-04-27T22:47:52.708Z"
    }
   },
   "outputs": [],
   "source": [
    "t_end_new = tend\n",
    "kp = SMatrix{7,7}(diagm(result[1:7]))\n",
    "kv = SMatrix{7,7}(diagm(result[8:end]))\n",
    "\n",
    "x, v, t, a, ta, j, tj = kukaRobot(kp, kv, Ts, t0, t_end_new, xr);"
   ]
  },
  {
   "cell_type": "code",
   "execution_count": null,
   "metadata": {
    "ExecuteTime": {
     "start_time": "2018-04-27T22:47:52.714Z"
    }
   },
   "outputs": [],
   "source": [
    "for i=1:7\n",
    "    erro = xr[i] - x[i][end]\n",
    "    println(\"erro final $(i) = $(erro)\")\n",
    "end   "
   ]
  },
  {
   "cell_type": "code",
   "execution_count": null,
   "metadata": {
    "ExecuteTime": {
     "start_time": "2018-04-27T22:47:52.718Z"
    }
   },
   "outputs": [],
   "source": [
    "function plotx(i)\n",
    "    p1 = plot(t,x[i], label = \"desejado\")\n",
    "    p1= plot!([xr[i]],seriestype= :hline, label = \"referência\");\n",
    "end    \n",
    "function plotx()\n",
    "    p1 = plot(t,x[1], label = \"simulação 1\")\n",
    "    p1= plot!([xr[1]],seriestype= :hline, label = \"referência 1\")\n",
    "    p2 = plot(t,x[2], label = \"simulação 2\")\n",
    "    p2= plot!([xr[2]],seriestype= :hline, label = \"referência 2\")\n",
    "    p3 = plot(t,x[3], label = \"simulação 3\")\n",
    "    p3= plot!([xr[3]],seriestype= :hline, label = \"referência 3\")\n",
    "    p4 = plot(t,x[4], label = \"simulação 4\")\n",
    "    p4= plot!([xr[4]],seriestype= :hline, label = \"referência 4\")\n",
    "    p5 = plot(t,x[5], label = \"simulação 5\")\n",
    "    p5= plot!([xr[5]],seriestype= :hline, label = \"referência 5\")\n",
    "    p6 = plot(t,x[6], label = \"simulação 6\")\n",
    "    p6= plot!([xr[6]],seriestype= :hline, label = \"referência 6\")\n",
    "    p7 = plot(t,x[7], label = \"simulação 7\")\n",
    "    p7= plot!([xr[7]],seriestype= :hline, label = \"referência 7\")\n",
    "    plot(p1,p2,p3,p4,p5,p6,p7, layout =(7,1))\n",
    "end;"
   ]
  },
  {
   "cell_type": "code",
   "execution_count": null,
   "metadata": {
    "ExecuteTime": {
     "start_time": "2018-04-27T22:47:52.724Z"
    }
   },
   "outputs": [],
   "source": [
    "plotx()"
   ]
  },
  {
   "cell_type": "code",
   "execution_count": null,
   "metadata": {
    "ExecuteTime": {
     "start_time": "2018-04-27T22:47:52.730Z"
    }
   },
   "outputs": [],
   "source": [
    "println(\"Somatório do módulo do jerk\")\n",
    "for i = 1:7\n",
    "    println(\"junta $(i) -> $(sum(abs.(j[i])))\")\n",
    "end\n",
    "soma_jerk= 0.\n",
    "for i = 1:7\n",
    "    soma_jerk += sum(abs.(j[i]))\n",
    "end\n",
    "println(\"jerk total: $(soma_jerk)\")"
   ]
  },
  {
   "cell_type": "code",
   "execution_count": null,
   "metadata": {
    "ExecuteTime": {
     "start_time": "2018-04-27T22:47:52.736Z"
    }
   },
   "outputs": [],
   "source": [
    "println(\"Máximo módulo do jerk\")\n",
    "for i = 1:7\n",
    "    println(\"junta $(i) -> $(maximum(abs.(j[i])))\")\n",
    "end \n",
    "soma_jerk_max = 0.\n",
    "for i = 1:7\n",
    "    soma_jerk_max += maximum(abs.(j[i]))\n",
    "end\n",
    "println(\"jerk máximo total: $(soma_jerk_max)\")"
   ]
  },
  {
   "cell_type": "code",
   "execution_count": null,
   "metadata": {},
   "outputs": [],
   "source": []
  }
 ],
 "metadata": {
  "kernelspec": {
   "display_name": "Julia 0.6.2",
   "language": "julia",
   "name": "julia-0.6"
  },
  "language_info": {
   "file_extension": ".jl",
   "mimetype": "application/julia",
   "name": "julia",
   "version": "0.6.2"
  },
  "notify_time": "5",
  "toc": {
   "nav_menu": {},
   "number_sections": true,
   "sideBar": true,
   "skip_h1_title": false,
   "title_cell": "Table of Contents",
   "title_sidebar": "Contents",
   "toc_cell": false,
   "toc_position": {},
   "toc_section_display": true,
   "toc_window_display": false
  },
  "varInspector": {
   "cols": {
    "lenName": 16,
    "lenType": 16,
    "lenVar": 40
   },
   "kernels_config": {
    "python": {
     "delete_cmd_postfix": "",
     "delete_cmd_prefix": "del ",
     "library": "var_list.py",
     "varRefreshCmd": "print(var_dic_list())"
    },
    "r": {
     "delete_cmd_postfix": ") ",
     "delete_cmd_prefix": "rm(",
     "library": "var_list.r",
     "varRefreshCmd": "cat(var_dic_list()) "
    }
   },
   "types_to_exclude": [
    "module",
    "function",
    "builtin_function_or_method",
    "instance",
    "_Feature"
   ],
   "window_display": false
  }
 },
 "nbformat": 4,
 "nbformat_minor": 2
}
