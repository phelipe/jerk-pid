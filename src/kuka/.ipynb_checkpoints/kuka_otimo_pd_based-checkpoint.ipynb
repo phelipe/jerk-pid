{
 "cells": [
  {
   "cell_type": "markdown",
   "metadata": {},
   "source": [
    "# Otimização com conhecimento prévio dos valores de ganhos PD\n",
    "Otimização em lote do kuka utilizando conhecimento prévio dos ganhos de um controlador PD."
   ]
  },
  {
   "cell_type": "code",
   "execution_count": 114,
   "metadata": {
    "ExecuteTime": {
     "end_time": "2018-04-25T14:09:58.051000-03:00",
     "start_time": "2018-04-25T17:09:57.920Z"
    }
   },
   "outputs": [],
   "source": [
    "include(\"comum.jl\")\n",
    "include(\"modelos.jl\")\n",
    "using Evolutionary, Plots;\n",
    "pyplot();"
   ]
  },
  {
   "cell_type": "code",
   "execution_count": 115,
   "metadata": {
    "ExecuteTime": {
     "end_time": "2018-04-25T14:09:58.054000-03:00",
     "start_time": "2018-04-25T17:09:57.924Z"
    }
   },
   "outputs": [],
   "source": [
    "Ts = 0.08\n",
    "tend = 2.0\n",
    "t0 = 0.0\n",
    "popul  = 50   # população\n",
    "iterac = 20 #iterações\n",
    "xr = SVector{7}([1.,1.,0.5,0.6,0.5,1.2,0.8]);"
   ]
  },
  {
   "cell_type": "code",
   "execution_count": 116,
   "metadata": {
    "ExecuteTime": {
     "end_time": "2018-04-25T14:09:58.056000-03:00",
     "start_time": "2018-04-25T17:09:57.930Z"
    }
   },
   "outputs": [],
   "source": [
    "function gerador(n)\n",
    "    rand(n).*[10000.,10000.,10000.,10000.,1000.,1000.,100.,1000.,10000.,1000.,1000.,1000.,100.,10.]\n",
    "end;"
   ]
  },
  {
   "cell_type": "code",
   "execution_count": 117,
   "metadata": {
    "ExecuteTime": {
     "end_time": "2018-04-25T14:09:58.065000-03:00",
     "start_time": "2018-04-25T17:09:57.936Z"
    }
   },
   "outputs": [],
   "source": [
    "function custo(gain::Vector{Float64})\n",
    "    kp = SMatrix{7,7}(diagm(gain[1:7]))\n",
    "    kv = SMatrix{7,7}(diagm(gain[8:end]))\n",
    "    x, v, t, a, ta, j, tj = kukaRobot(kp, kv, Ts, t0, tend, xr)\n",
    "    sizeVector = length(x[1])\n",
    "\n",
    "    erro_sum = 0.\n",
    "    for i=1:7\n",
    "        erro = -(x[i]-xr[i])\n",
    "        erro_sum = erro_sum + sum(abs.(erro[floor(Integer,sizeVector/3):end])) \n",
    "    end\n",
    "\n",
    "    jerk_sum = 0.\n",
    "    for i=1:7\n",
    "        jerk_sum = jerk_sum + sum(abs.(j[i]))\n",
    "    end\n",
    "\n",
    "    \n",
    "    erro_sum = erro_sum * 10.\n",
    "    jerk_sum = jerk_sum * 0.01\n",
    "\n",
    "    out =  erro_sum + jerk_sum\n",
    "    println(\"erro: $(erro_sum) jerk: $(jerk_sum)\")\n",
    "    out\n",
    "end;"
   ]
  },
  {
   "cell_type": "code",
   "execution_count": 118,
   "metadata": {
    "ExecuteTime": {
     "end_time": "2018-04-25T14:35:01.315000-03:00",
     "start_time": "2018-04-25T17:09:57.944Z"
    }
   },
   "outputs": [
    {
     "name": "stdout",
     "output_type": "stream",
     "text": [
      "erro: 141.95289351183754 jerk: 35.03506342533193\n",
      "erro: 92.59868998854266 jerk: 68.36820659036911\n",
      "erro: 136.32884864826565 jerk: 33.987640006144765\n",
      "erro: 63.5118326920401 jerk: 57.41087799740804\n",
      "erro: 262.4931465099642 jerk: 61.08715256038409\n",
      "erro: 147.74513953264457 jerk: 45.58241056256953\n",
      "erro: 13.341190229616547 jerk: 68.70216416120034\n",
      "erro: 172.781475502882 jerk: 38.45262534345987\n",
      "erro: 99.02246954521694 jerk: 71.37122123132184\n",
      "erro: 97.96060883690825 jerk: 36.117594539111394\n",
      "erro: 162.75884651594976 jerk: 48.741562658172874\n",
      "erro: 57.038282393641744 jerk: 35.429581421789436\n",
      "erro: 255.9840093101856 jerk: 22.784395266805056\n",
      "erro: 101.14544219347985 jerk: 56.61715333308774\n",
      "erro: 129.69907714780777 jerk: 248.90168974651593\n",
      "erro: 297.8394859187773 jerk: 40.46630418217477\n",
      "erro: 127.937258570475 jerk: 61.436001587593665\n",
      "erro: 172.6555860885734 jerk: 51.21210934238853\n",
      "erro: 346.2587625027414 jerk: 10.234409514330828\n",
      "erro: 215.30583906867602 jerk: 45.23722936330322\n",
      "erro: 234.14104317018325 jerk: 30.98768828518375\n",
      "erro: 220.7490303619451 jerk: 26.722383513949282\n",
      "erro: 163.44991289121913 jerk: 43.095655212044484\n",
      "erro: 73.357201691301 jerk: 57.186720844404135\n",
      "erro: 172.18944454321058 jerk: 45.062937723908256\n",
      "erro: 119.54549178679342 jerk: 56.54753889334905\n",
      "erro: 106.69938207471681 jerk: 57.22674820005858\n",
      "erro: 156.98258128617493 jerk: 43.726453339999125\n",
      "erro: 252.6638490448673 jerk: 50.546456081661674\n",
      "erro: 94.29362430656766 jerk: 53.06823617931916\n",
      "erro: 37.699160686098665 jerk: 45.96078732046572\n",
      "erro: 217.03169113594095 jerk: 24.918933522191516\n",
      "erro: 48.62710343116754 jerk: 51.21828911813048\n",
      "erro: 124.30768013252917 jerk: 56.50268398231348\n",
      "erro: 15.17803316937134 jerk: 58.8202142511632\n",
      "erro: 173.53244204666083 jerk: 77.6666661879317\n",
      "erro: 170.4656397168765 jerk: 54.870637920539295\n",
      "erro: 109.20290216534937 jerk: 61.35749841098868\n",
      "erro: 190.32952741624382 jerk: 25.98604675877732\n",
      "erro: 43.19027156540636 jerk: 58.34287418170638\n",
      "erro: 154.25881000605617 jerk: 53.30619609805315\n",
      "erro: 32.38349147781099 jerk: 51.83017214692387\n",
      "erro: 78.07347419612651 jerk: 53.31382249162227\n",
      "erro: 167.03982597567307 jerk: 44.363706990525415\n",
      "erro: 163.15940360839548 jerk: 32.619397347437896\n",
      "erro: 10.876230962507611 jerk: 49.47305278967413\n",
      "erro: 51.75075871817653 jerk: 47.585351881118605\n",
      "erro: 99.5566685448528 jerk: 37.13084689684562\n",
      "erro: 229.34489887723777 jerk: 160.82144810315341\n",
      "erro: 155.84387684464605 jerk: 40.18879325104786\n"
     ]
    },
    {
     "name": "stderr",
     "output_type": "stream",
     "text": [
      "\r",
      "\u001b[32mProgress:   5%|██                                       |  ETA: 1:52:59\u001b[39m"
     ]
    },
    {
     "name": "stdout",
     "output_type": "stream",
     "text": [
      "erro: 63.94351040886914 jerk: 46.969010178946476\n",
      "erro: 114.64301567525268 jerk: 51.51695642870832\n",
      "erro: 63.5118326920401 jerk: 57.41087799740804\n",
      "erro: 32.38349147781099 jerk: 51.83017214692387\n",
      "erro: 202.73611502671045 jerk: 54.613479785074276\n",
      "erro: 73.357201691301 jerk: 57.186720844404135\n",
      "erro: 95.78578804148873 jerk: 54.03791603025525\n",
      "erro: 194.64022758431548 jerk: 45.59417359653882\n",
      "erro: 13.341190229616547 jerk: 68.70216416120034\n",
      "erro: 51.75075871817653 jerk: 47.585351881118605\n",
      "erro: 192.58754742196302 jerk: 40.46088698578694\n",
      "erro: 164.5994697242699 jerk: 45.646866183741565\n",
      "erro: 260.3188337484867 jerk: 39.30974697062201\n",
      "erro: 125.85549950828724 jerk: 43.172470232820906\n",
      "erro: 15.17803316937134 jerk: 58.8202142511632\n",
      "erro: 275.731353785493 jerk: 38.94926880636383\n",
      "erro: 43.19027156540636 jerk: 58.34287418170638\n",
      "erro: 57.038282393641744 jerk: 35.429581421789436\n",
      "erro: 17.716891674755246 jerk: 68.4114204708282\n",
      "erro: 227.48944429300533 jerk: 55.25980546601637\n",
      "erro: 63.5118326920401 jerk: 57.41087799740804\n",
      "erro: 73.357201691301 jerk: 57.186720844404135\n",
      "erro: 154.25881000605617 jerk: 53.30619609805315\n",
      "erro: 217.03169113594095 jerk: 24.918933522191516\n",
      "erro: 112.39016197180463 jerk: 40.083395127358095\n",
      "erro: 73.39463648869058 jerk: 46.5650911435793\n",
      "erro: 217.03169113594095 jerk: 24.918933522191516\n",
      "erro: 170.46448882922434 jerk: 54.89829779953351\n",
      "erro: 346.2587625027414 jerk: 10.234409514330828\n",
      "erro: 37.699160686098665 jerk: 45.96078732046572\n",
      "erro: 78.07347419612651 jerk: 53.31382249162227\n",
      "erro: 113.91170945407701 jerk: 48.42583015157688\n",
      "erro: 97.01344958196788 jerk: 49.94502276198119\n",
      "erro: 155.88051974339442 jerk: 42.396443856771086\n",
      "erro: 105.97571267979606 jerk: 62.57910813292606\n",
      "erro: 94.57964947938464 jerk: 54.94330789098265\n",
      "erro: 89.75289236382937 jerk: 58.04798751925897\n",
      "erro: 29077.28173331869 jerk: 826820.070282152\n",
      "erro: 80.8523455157773 jerk: 82.05085285205165\n",
      "erro: 121.20058130308755 jerk: 66.35189540744683\n",
      "erro: 122.85568625441643 jerk: 35.980156739630424\n",
      "erro: 93.22172058530151 jerk: 64.30144900027685\n",
      "erro: 51.75075871817653 jerk: 47.585351881118605\n",
      "erro: 20.13229790082683 jerk: 184.12459803513943\n",
      "erro: 116.8395843745573 jerk: 48.59197999381591\n",
      "erro: 10.876230962507611 jerk: 49.47305278967413\n",
      "erro: 127.84882102133344 jerk: 66.14748973757925\n",
      "erro: 32.19670538818341 jerk: 69.9512946439512\n",
      "erro: 229.34489887723777 jerk: 160.82144810315341\n",
      "erro: 51.75075871817653 jerk: 47.585351881118605\n",
      "erro: 10.876230962507611 jerk: 49.47305278967413\n"
     ]
    },
    {
     "name": "stderr",
     "output_type": "stream",
     "text": [
      "\r",
      "\u001b[32mProgress:  10%|████                                     |  ETA: 1:45:54\u001b[39m"
     ]
    },
    {
     "name": "stdout",
     "output_type": "stream",
     "text": [
      "erro: 127.02844387911003 jerk: 38.59108293688051\n",
      "erro: 97.55622473553943 jerk: 48.21328712347946\n",
      "erro: 122.85568625441643 jerk: 35.980156739630424\n",
      "erro: 57.038282393641744 jerk: 35.429581421789436\n",
      "erro: 1.8211573947042294e6 jerk: 3.377509228224644e7\n",
      "erro: 125.55540182944567 jerk: 60.08486236881769\n",
      "erro: 51.75075871817653 jerk: 47.585351881118605\n",
      "erro: 37.699160686098665 jerk: 45.96078732046572\n",
      "erro: 47.045936374320235 jerk: 51.43441656198994\n",
      "erro: 44.18377723937279 jerk: 47.5746460876633\n",
      "erro: 32.19670538818341 jerk: 69.9512946439512\n",
      "erro: 111.99153440741371 jerk: 35.24973117085966\n",
      "erro: 613.4189636378128 jerk: 3476.9590698554302\n",
      "erro: 43.19027156540636 jerk: 58.34287418170638\n",
      "erro: 87.07553253243645 jerk: 51.57891654636685\n",
      "erro: 42.5232310471378 jerk: 51.1510202492048\n",
      "erro: 72.19630584331759 jerk: 55.130775908422834\n",
      "erro: 47.0225852884576 jerk: 35.284082089614635\n",
      "erro: 10.876230962507611 jerk: 49.47305278967413\n",
      "erro: 51.75075871817653 jerk: 47.585351881118605\n",
      "erro: 17.716891674755246 jerk: 68.4114204708282\n",
      "erro: 13.341190229616547 jerk: 68.70216416120034\n",
      "erro: 116.8395843745573 jerk: 48.59197999381591\n",
      "erro: 121.20058130308755 jerk: 66.35189540744683\n",
      "erro: 131.1849551741567 jerk: 52.761296198189704\n",
      "erro: 51.75075871817653 jerk: 47.585351881118605\n",
      "erro: 273.1488460081182 jerk: 47.16192448035629\n",
      "erro: 85.65157315989774 jerk: 48.58856584355262\n",
      "erro: 96.9005184256996 jerk: 34.97399808105693\n",
      "erro: 76.90443679618426 jerk: 219.77267534778665\n",
      "erro: 57.038282393641744 jerk: 35.429581421789436\n",
      "erro: 65.37415001877156 jerk: 47.46275282195257\n",
      "erro: 12.183916453161387 jerk: 67.25276433858953\n",
      "erro: 15.17803316937134 jerk: 58.8202142511632\n",
      "erro: 52.04139614629277 jerk: 51.5246426752719\n",
      "erro: 63.65185995760763 jerk: 44.523730029362135\n",
      "erro: 35.704590633573176 jerk: 62.63689254163959\n",
      "erro: 54.448256092461904 jerk: 49.41400821455412\n",
      "erro: 13.341190229616547 jerk: 68.70216416120034\n",
      "erro: 62.92637063235609 jerk: 70.47969676111445\n",
      "erro: 56.226172647965676 jerk: 63.189420294490596\n",
      "erro: 51.75075871817653 jerk: 47.585351881118605\n",
      "erro: 96.59159547080735 jerk: 60.87055039673523\n",
      "erro: 51.75075871817653 jerk: 47.585351881118605\n",
      "erro: 29.667697885581077 jerk: 64.82391593441625\n",
      "erro: 45.59719726876156 jerk: 72.39399396924462\n",
      "erro: 71.85979854965419 jerk: 59.12376328862924\n",
      "erro: 90.96608809182221 jerk: 60.78730188300846\n",
      "erro: 439.35689735394357 jerk: 44.05936369757321\n",
      "erro: 32.38349147781099 jerk: 51.83017214692387\n",
      "erro: 10.876230962507611 jerk: 49.47305278967413\n"
     ]
    },
    {
     "name": "stderr",
     "output_type": "stream",
     "text": [
      "\r",
      "\u001b[32mProgress:  14%|██████                                   |  ETA: 2:02:20\u001b[39m"
     ]
    },
    {
     "name": "stdout",
     "output_type": "stream",
     "text": [
      "erro: 54.709296634405405 jerk: 49.26434119594377\n",
      "erro: 80.4086801495656 jerk: 48.15980739908607\n",
      "erro: 32.821903441707185 jerk: 57.19365777823969\n",
      "erro: 44.46497998744214 jerk: 58.82212487541071\n",
      "erro: 46843.71608994935 jerk: 6.234500670539675e6\n",
      "erro: 76.32741395476987 jerk: 64.64154809310183\n",
      "erro: 33.055555067672096 jerk: 63.28024778753836\n",
      "erro: 37.699160686098665 jerk: 45.96078732046572\n",
      "erro: 1.2442626032338275e6 jerk: 4.1651679973393075e7\n",
      "erro: 9.481807014645383 jerk: 64.17720946063264\n",
      "erro: 44.18377723937279 jerk: 47.5746460876633\n",
      "erro: 12.183916453161387 jerk: 67.25276433858953\n",
      "erro: 87.62259696772665 jerk: 50.51589015530928\n"
     ]
    },
    {
     "name": "stderr",
     "output_type": "stream",
     "text": [
      "\u001b[1m\u001b[33mWARNING: \u001b[39m\u001b[22m\u001b[33mInstability detected. Aborting\u001b[39m\n"
     ]
    },
    {
     "ename": "LoadError",
     "evalue": "\u001b[91mBoundsError: attempt to access 2-element Array{Float64,1} at index [0:2]\u001b[39m",
     "output_type": "error",
     "traceback": [
      "\u001b[91mBoundsError: attempt to access 2-element Array{Float64,1} at index [0:2]\u001b[39m",
      "",
      "Stacktrace:",
      " [1] \u001b[1mthrow_boundserror\u001b[22m\u001b[22m\u001b[1m(\u001b[22m\u001b[22m::Array{Float64,1}, ::Tuple{UnitRange{Int64}}\u001b[1m)\u001b[22m\u001b[22m at \u001b[1m./abstractarray.jl:434\u001b[22m\u001b[22m",
      " [2] \u001b[1mcheckbounds\u001b[22m\u001b[22m at \u001b[1m./abstractarray.jl:362\u001b[22m\u001b[22m [inlined]",
      " [3] \u001b[1mgetindex\u001b[22m\u001b[22m\u001b[1m(\u001b[22m\u001b[22m::Array{Float64,1}, ::UnitRange{Int64}\u001b[1m)\u001b[22m\u001b[22m at \u001b[1m./array.jl:560\u001b[22m\u001b[22m",
      " [4] \u001b[1mcusto\u001b[22m\u001b[22m\u001b[1m(\u001b[22m\u001b[22m::Array{Float64,1}\u001b[1m)\u001b[22m\u001b[22m at \u001b[1m./In[117]:10\u001b[22m\u001b[22m",
      " [5] \u001b[1m#ga#39\u001b[22m\u001b[22m\u001b[1m(\u001b[22m\u001b[22m::#gerador, ::Void, ::Void, ::Int64, ::Float64, ::Float64, ::Float64, ::Evolutionary.#roulette, ::Evolutionary.#intermxvr#6{Float64}, ::Evolutionary.#mutation#10{Array{Float64,1},Int64,Float64}, ::Int64, ::Float64, ::Int64, ::Bool, ::Bool, ::Bool, ::Evolutionary.#ga, ::#custo, ::Int64\u001b[1m)\u001b[22m\u001b[22m at \u001b[1m/home/phelipe/.julia/v0.6/Evolutionary/src/ga.jl:114\u001b[22m\u001b[22m",
      " [6] \u001b[1m(::Evolutionary.#kw##ga)\u001b[22m\u001b[22m\u001b[1m(\u001b[22m\u001b[22m::Array{Any,1}, ::Evolutionary.#ga, ::Function, ::Int64\u001b[1m)\u001b[22m\u001b[22m at \u001b[1m./<missing>:0\u001b[22m\u001b[22m",
      " [7] \u001b[1mexecute_request\u001b[22m\u001b[22m\u001b[1m(\u001b[22m\u001b[22m::ZMQ.Socket, ::IJulia.Msg\u001b[1m)\u001b[22m\u001b[22m at \u001b[1m/home/phelipe/.julia/v0.6/IJulia/src/execute_request.jl:158\u001b[22m\u001b[22m",
      " [8] \u001b[1m(::Compat.#inner#17{Array{Any,1},IJulia.#execute_request,Tuple{ZMQ.Socket,IJulia.Msg}})\u001b[22m\u001b[22m\u001b[1m(\u001b[22m\u001b[22m\u001b[1m)\u001b[22m\u001b[22m at \u001b[1m/home/phelipe/.julia/v0.6/Compat/src/Compat.jl:385\u001b[22m\u001b[22m",
      " [9] \u001b[1meventloop\u001b[22m\u001b[22m\u001b[1m(\u001b[22m\u001b[22m::ZMQ.Socket\u001b[1m)\u001b[22m\u001b[22m at \u001b[1m/home/phelipe/.julia/v0.6/IJulia/src/eventloop.jl:8\u001b[22m\u001b[22m",
      " [10] \u001b[1m(::IJulia.##14#17)\u001b[22m\u001b[22m\u001b[1m(\u001b[22m\u001b[22m\u001b[1m)\u001b[22m\u001b[22m at \u001b[1m./task.jl:335\u001b[22m\u001b[22m"
     ]
    }
   ],
   "source": [
    "N = 14\n",
    "result, fitness, cnt = ga(custo, N; initPopulation = gerador, populationSize = popul, ɛ = 0.25, selection = roulette, crossover = intermediate(0.25), mutation = domainrange(fill(0.5,N)), iterations = iterac);"
   ]
  },
  {
   "cell_type": "code",
   "execution_count": 119,
   "metadata": {
    "ExecuteTime": {
     "end_time": "2018-04-25T14:35:06.247000-03:00",
     "start_time": "2018-04-25T17:09:57.948Z"
    }
   },
   "outputs": [],
   "source": [
    "t_end_new = tend\n",
    "kp = SMatrix{7,7}(diagm(result[1:7]))\n",
    "kv = SMatrix{7,7}(diagm(result[8:end]))\n",
    "\n",
    "x, v, t, a, ta, j, tj = kukaRobot(kp, kv, Ts, t0, t_end_new, xr);"
   ]
  },
  {
   "cell_type": "code",
   "execution_count": 120,
   "metadata": {
    "ExecuteTime": {
     "end_time": "2018-04-25T14:35:06.268000-03:00",
     "start_time": "2018-04-25T17:09:57.952Z"
    }
   },
   "outputs": [
    {
     "name": "stdout",
     "output_type": "stream",
     "text": [
      "erro final 1 = 0.0005906653921418092\n",
      "erro final 2 = -0.00428228899049099\n",
      "erro final 3 = -0.0005478132060371399\n",
      "erro final 4 = 0.001635399548539751\n",
      "erro final 5 = 0.011836976686002587\n",
      "erro final 6 = -0.002106747831435385\n",
      "erro final 7 = 0.0001479618496730284\n"
     ]
    }
   ],
   "source": [
    "for i=1:7\n",
    "    erro = xr[i] - x[i][end]\n",
    "    println(\"erro final $(i) = $(erro)\")\n",
    "end   "
   ]
  },
  {
   "cell_type": "code",
   "execution_count": 121,
   "metadata": {
    "ExecuteTime": {
     "end_time": "2018-04-25T14:35:06.277000-03:00",
     "start_time": "2018-04-25T17:09:57.956Z"
    }
   },
   "outputs": [],
   "source": [
    "function plotx(i)\n",
    "    p1 = plot(t,x[i], label = \"desejado\")\n",
    "    p1= plot!([xr[i]],seriestype= :hline, label = \"referência\");\n",
    "end    \n",
    "function plotx()\n",
    "    p1 = plot(t,x[1], label = \"simulação 1\")\n",
    "    p1= plot!([xr[1]],seriestype= :hline, label = \"referência 1\")\n",
    "    p2 = plot(t,x[2], label = \"simulação 2\")\n",
    "    p2= plot!([xr[2]],seriestype= :hline, label = \"referência 2\")\n",
    "    p3 = plot(t,x[3], label = \"simulação 3\")\n",
    "    p3= plot!([xr[3]],seriestype= :hline, label = \"referência 3\")\n",
    "    p4 = plot(t,x[4], label = \"simulação 4\")\n",
    "    p4= plot!([xr[4]],seriestype= :hline, label = \"referência 4\")\n",
    "    p5 = plot(t,x[5], label = \"simulação 5\")\n",
    "    p5= plot!([xr[5]],seriestype= :hline, label = \"referência 5\")\n",
    "    p6 = plot(t,x[6], label = \"simulação 6\")\n",
    "    p6= plot!([xr[6]],seriestype= :hline, label = \"referência 6\")\n",
    "    p7 = plot(t,x[7], label = \"simulação 7\")\n",
    "    p7= plot!([xr[7]],seriestype= :hline, label = \"referência 7\")\n",
    "    plot(p1,p2,p3,p4,p5,p6,p7, layout =(7,1))\n",
    "end;"
   ]
  },
  {
   "cell_type": "code",
   "execution_count": 122,
   "metadata": {
    "ExecuteTime": {
     "end_time": "2018-04-25T14:35:07.595000-03:00",
     "start_time": "2018-04-25T17:09:57.958Z"
    }
   },
   "outputs": [
    {
     "data": {
      "image/png": "[encoded data removed]"
     },
     "execution_count": 122,
     "metadata": {},
     "output_type": "execute_result"
    }
   ],
   "source": [
    "plotx()"
   ]
  },
  {
   "cell_type": "code",
   "execution_count": 123,
   "metadata": {
    "ExecuteTime": {
     "end_time": "2018-04-25T14:35:07.634000-03:00",
     "start_time": "2018-04-25T17:09:57.962Z"
    }
   },
   "outputs": [
    {
     "name": "stdout",
     "output_type": "stream",
     "text": [
      "Somatório do módulo do jerk\n",
      "junta 1 -> 638.5471019803335\n",
      "junta 2 -> 1091.4276796517734\n",
      "junta 3 -> 106.08612291577205\n",
      "junta 4 -> 883.7998461779902\n",
      "junta 5 -> 163.3607046783051\n",
      "junta 6 -> 74.27755937203386\n",
      "junta 7 -> 604.2866196883213\n",
      "jerk total: 3561.785634464529\n"
     ]
    }
   ],
   "source": [
    "println(\"Somatório do módulo do jerk\")\n",
    "for i = 1:7\n",
    "    println(\"junta $(i) -> $(sum(abs.(j[i])))\")\n",
    "end\n",
    "soma_jerk= 0.\n",
    "for i = 1:7\n",
    "    soma_jerk += sum(abs.(j[i]))\n",
    "end\n",
    "println(\"jerk total: $(soma_jerk)\")"
   ]
  },
  {
   "cell_type": "code",
   "execution_count": 124,
   "metadata": {
    "ExecuteTime": {
     "end_time": "2018-04-25T14:35:07.670000-03:00",
     "start_time": "2018-04-25T17:09:57.966Z"
    }
   },
   "outputs": [
    {
     "name": "stdout",
     "output_type": "stream",
     "text": [
      "Máximo módulo do jerk\n",
      "junta 1 -> 532.1749232942382\n",
      "junta 2 -> 849.589553332606\n",
      "junta 3 -> 69.3197425500541\n",
      "junta 4 -> 648.201810552396\n",
      "junta 5 -> 143.36242855958778\n",
      "junta 6 -> 49.93778977570984\n",
      "junta 7 -> 492.7692498391387\n",
      "jerk máximo total: 2785.355497903731\n"
     ]
    }
   ],
   "source": [
    "println(\"Máximo módulo do jerk\")\n",
    "for i = 1:7\n",
    "    println(\"junta $(i) -> $(maximum(abs.(j[i])))\")\n",
    "end \n",
    "soma_jerk_max = 0.\n",
    "for i = 1:7\n",
    "    soma_jerk_max += maximum(abs.(j[i]))\n",
    "end\n",
    "println(\"jerk máximo total: $(soma_jerk_max)\")"
   ]
  },
  {
   "cell_type": "code",
   "execution_count": null,
   "metadata": {},
   "outputs": [],
   "source": []
  }
 ],
 "metadata": {
  "kernelspec": {
   "display_name": "Julia 0.6.2",
   "language": "julia",
   "name": "julia-0.6"
  },
  "language_info": {
   "file_extension": ".jl",
   "mimetype": "application/julia",
   "name": "julia",
   "version": "0.6.2"
  },
  "notify_time": "5",
  "toc": {
   "nav_menu": {},
   "number_sections": true,
   "sideBar": true,
   "skip_h1_title": false,
   "title_cell": "Table of Contents",
   "title_sidebar": "Contents",
   "toc_cell": false,
   "toc_position": {},
   "toc_section_display": true,
   "toc_window_display": false
  },
  "varInspector": {
   "cols": {
    "lenName": 16,
    "lenType": 16,
    "lenVar": 40
   },
   "kernels_config": {
    "python": {
     "delete_cmd_postfix": "",
     "delete_cmd_prefix": "del ",
     "library": "var_list.py",
     "varRefreshCmd": "print(var_dic_list())"
    },
    "r": {
     "delete_cmd_postfix": ") ",
     "delete_cmd_prefix": "rm(",
     "library": "var_list.r",
     "varRefreshCmd": "cat(var_dic_list()) "
    }
   },
   "types_to_exclude": [
    "module",
    "function",
    "builtin_function_or_method",
    "instance",
    "_Feature"
   ],
   "window_display": false
  }
 },
 "nbformat": 4,
 "nbformat_minor": 2
}
