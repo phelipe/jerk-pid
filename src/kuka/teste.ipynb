{
 "cells": [
  {
   "cell_type": "code",
   "execution_count": 2,
   "metadata": {
    "ExecuteTime": {
     "end_time": "2018-04-27T09:23:34.050000-03:00",
     "start_time": "2018-04-27T12:22:48.856Z"
    }
   },
   "outputs": [],
   "source": [
    "include(\"../comum.jl\")\n",
    "include(\"../modelos.jl\")\n",
    "using Evolutionary, Plots;\n",
    "pyplot();"
   ]
  },
  {
   "cell_type": "code",
   "execution_count": 3,
   "metadata": {
    "ExecuteTime": {
     "end_time": "2018-04-27T09:24:35.561000-03:00",
     "start_time": "2018-04-27T12:24:34.810Z"
    }
   },
   "outputs": [],
   "source": [
    "Ts = 0.08     #período de leitura\n",
    "tend = 2.0    #tempo final\n",
    "t0 = 0.0      # tempo inicial\n",
    "popul  = 50   # população\n",
    "iterac = 3    #iterações\n",
    "xr = SVector{7}([1.,1.,0.5,0.6,0.5,1.2,0.8]);"
   ]
  },
  {
   "cell_type": "code",
   "execution_count": 12,
   "metadata": {
    "ExecuteTime": {
     "end_time": "2018-04-27T09:50:19.219000-03:00",
     "start_time": "2018-04-27T12:47:43.036Z"
    }
   },
   "outputs": [
    {
     "name": "stdout",
     "output_type": "stream",
     "text": [
      "[1.0 0.0 0.0 0.0 0.0 0.0 0.0; 0.0 1.0 0.0 0.0 0.0 0.0 0.0; 0.0 0.0 1.0 0.0 0.0 0.0 0.0; 0.0 0.0 0.0 1.0 0.0 0.0 0.0; 0.0 0.0 0.0 0.0 1.0 0.0 0.0; 0.0 0.0 0.0 0.0 0.0 1.0 0.0; 0.0 0.0 0.0 0.0 0.0 0.0 55.1802]\n",
      "[1.0 0.0 0.0 0.0 0.0 0.0 0.0; 0.0 1.0 0.0 0.0 0.0 0.0 0.0; 0.0 0.0 1.0 0.0 0.0 0.0 0.0; 0.0 0.0 0.0 1.0 0.0 0.0 0.0; 0.0 0.0 0.0 0.0 1.0 0.0 0.0; 0.0 0.0 0.0 0.0 0.0 1.0 0.0; 0.0 0.0 0.0 0.0 0.0 0.0 859.126]\n"
     ]
    },
    {
     "data": {
      "image/png": "[encoded data removed]"
     },
     "execution_count": 12,
     "metadata": {},
     "output_type": "execute_result"
    }
   ],
   "source": [
    "kp = push!(ones(6),rand()*rand([10.,100.,1000.,10000]))\n",
    "kv = push!(ones(6),rand()*rand([10.,100.,1000.]))\n",
    "kp = SMatrix{7,7}(diagm(kp))\n",
    "kv = SMatrix{7,7}(diagm(kv))\n",
    "println(kp)\n",
    "println(kv)\n",
    "x, v, t, a, ta, j, tj = kukaRobot(kp, kv, Ts, t0, tend, xr)\n",
    "plot(t,x[7])\n",
    "plot!([xr[7]],seriestype= :hline, label = \"referência\")"
   ]
  },
  {
   "cell_type": "code",
   "execution_count": 22,
   "metadata": {
    "ExecuteTime": {
     "end_time": "2018-04-27T11:24:18.610000-03:00",
     "start_time": "2018-04-27T14:24:13.342Z"
    }
   },
   "outputs": [
    {
     "name": "stdout",
     "output_type": "stream",
     "text": [
      " Progress:|\u001b[31m█\u001b[39m\u001b[31m█\u001b[39m\u001b[31m█\u001b[39m\u001b[31m█\u001b[39m\u001b[31m█\u001b[39m\u001b[31m█\u001b[39m\u001b[31m█\u001b[39m\u001b[31m█\u001b[39m\u001b[31m█\u001b[39m\u001b[31m█\u001b[39m\u001b[31m█\u001b[39m\u001b[31m█\u001b[39m\u001b[31m█\u001b[39m\u001b[31m█\u001b[39m\u001b[31m█\u001b[39m\u001b[31m█\u001b[39m\u001b[31m█\u001b[39m\u001b[31m█\u001b[39m\u001b[31m█\u001b[39m\u001b[31m█\u001b[39m\u001b[31m█\u001b[39m\u001b[31m█\u001b[39m\u001b[31m█\u001b[39m\u001b[31m█\u001b[39m\u001b[31m█\u001b[39m\u001b[31m█\u001b[39m\u001b[31m█\u001b[39m\u001b[31m█\u001b[39m\u001b[31m█\u001b[39m\u001b[31m█\u001b[39m\u001b[31m█\u001b[39m\u001b[31m█\u001b[39m\u001b[31m█\u001b[39m\u001b[31m█\u001b[39m\u001b[31m█\u001b[39m\u001b[31m█\u001b[39m\u001b[31m█\u001b[39m\u001b[31m█\u001b[39m\u001b[31m█\u001b[39m\u001b[31m█\u001b[39m\u001b[31m█\u001b[39m\u001b[31m█\u001b[39m\u001b[31m█\u001b[39m\u001b[31m█\u001b[39m\u001b[31m█\u001b[39m\u001b[31m█\u001b[39m\u001b[31m█\u001b[39m\u001b[31m█\u001b[39m\u001b[31m█\u001b[39m\u001b[31m█\u001b[39m\u001b[31m█\u001b[39m| 100.0%"
     ]
    }
   ],
   "source": [
    "function teste(n)\n",
    "    for i=0:n\n",
    "        bar(i,n)\n",
    "        sleep(0.1)\n",
    "    end\n",
    "end\n",
    "function bar(n,total)\n",
    "    percent = n/total*100\n",
    "    print(\"\\r Progress:|\")\n",
    "        for a =0:(percent/2)\n",
    "            print_with_color(:red,\"█\")\n",
    "        end\n",
    "        for a =1:(50.0 - (percent/2))\n",
    "            print_with_color(:white,\"█\")\n",
    "        end\n",
    "        print(\"| $(round(percent,1))%\")\n",
    "    end;\n",
    "teste(50)"
   ]
  },
  {
   "cell_type": "code",
   "execution_count": null,
   "metadata": {},
   "outputs": [],
   "source": []
  }
 ],
 "metadata": {
  "kernelspec": {
   "display_name": "Julia 0.6.2",
   "language": "julia",
   "name": "julia-0.6"
  },
  "language_info": {
   "file_extension": ".jl",
   "mimetype": "application/julia",
   "name": "julia",
   "version": "0.6.2"
  },
  "notify_time": "5",
  "toc": {
   "nav_menu": {},
   "number_sections": true,
   "sideBar": true,
   "skip_h1_title": false,
   "title_cell": "Table of Contents",
   "title_sidebar": "Contents",
   "toc_cell": false,
   "toc_position": {},
   "toc_section_display": true,
   "toc_window_display": false
  },
  "varInspector": {
   "cols": {
    "lenName": 16,
    "lenType": 16,
    "lenVar": 40
   },
   "kernels_config": {
    "python": {
     "delete_cmd_postfix": "",
     "delete_cmd_prefix": "del ",
     "library": "var_list.py",
     "varRefreshCmd": "print(var_dic_list())"
    },
    "r": {
     "delete_cmd_postfix": ") ",
     "delete_cmd_prefix": "rm(",
     "library": "var_list.r",
     "varRefreshCmd": "cat(var_dic_list()) "
    }
   },
   "types_to_exclude": [
    "module",
    "function",
    "builtin_function_or_method",
    "instance",
    "_Feature"
   ],
   "window_display": false
  }
 },
 "nbformat": 4,
 "nbformat_minor": 2
}
