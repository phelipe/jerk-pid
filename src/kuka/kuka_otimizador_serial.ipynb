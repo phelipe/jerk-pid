{
 "cells": [
  {
   "cell_type": "markdown",
   "metadata": {},
   "source": [
    "# Otimização em série\n",
    "\n",
    "Aqui farei a otmização do controlador individual por junta pois a otimização em lote se mostrou ineficiente para mecanismos com uma quantidade elevada de graus de liberdade."
   ]
  },
  {
   "cell_type": "code",
   "execution_count": 1,
   "metadata": {
    "ExecuteTime": {
     "end_time": "2018-04-29T11:58:30.899000-03:00",
     "start_time": "2018-04-29T14:57:35.284Z"
    }
   },
   "outputs": [],
   "source": [
    "include(\"../comum.jl\")\n",
    "include(\"../modelos.jl\")\n",
    "using Evolutionary, Plots;\n",
    "pyplot();\n",
    "#plotlyjs();"
   ]
  },
  {
   "cell_type": "code",
   "execution_count": 13,
   "metadata": {
    "ExecuteTime": {
     "end_time": "2018-04-29T12:10:43.573000-03:00",
     "start_time": "2018-04-29T15:10:43.566Z"
    }
   },
   "outputs": [],
   "source": [
    "Ts = 0.08     #período de leitura\n",
    "tend = 2.0    #tempo final\n",
    "t0 = 0.0      # tempo inicial\n",
    "popul  = 6   # população\n",
    "iterac = 5   #iterações\n",
    "α = 10.       #parâmetro para o erro\n",
    "β = 0.01      #parâmetro para o jerk\n",
    "γ = 0.1       #parâmetro para o torque\n",
    "per = 1/2     #inicio da leitura do vetor a parti de per do comprimento total\n",
    "xr = SVector{7}([1.,1.,0.5,0.6,0.5,1.2,0.8]) #referências\n",
    "kp_end = AbstractFloat[]\n",
    "kv_end = AbstractFloat[];"
   ]
  },
  {
   "cell_type": "markdown",
   "metadata": {
    "heading_collapsed": true
   },
   "source": [
    "## Função custo"
   ]
  },
  {
   "cell_type": "code",
   "execution_count": 4,
   "metadata": {
    "ExecuteTime": {
     "end_time": "2018-04-29T11:58:56.420000-03:00",
     "start_time": "2018-04-29T14:58:56.410Z"
    },
    "hidden": true
   },
   "outputs": [],
   "source": [
    "function generateCusto(junta::Integer)\n",
    "    out = function custo(gain::Vector{Float64})\n",
    "        kp = SMatrix{7,7}(diagm(gain[1:7]))\n",
    "        kv = SMatrix{7,7}(diagm(gain[8:end]))\n",
    "        x, v, t, a, ta, j, tj, τ, t_tau = kukaRobot(kp, kv, Ts, t0, tend, xr)\n",
    "        sizeVector = length(x[1])\n",
    "\n",
    "        erro_sum = 0.\n",
    "        erro = -(x[junta]-xr[junta])\n",
    "        erro_sum += sum(abs.(erro[floor(Integer,sizeVector*per):end])) \n",
    "\n",
    "        jerk_sum = 0.\n",
    "        jerk_sum += sum(abs.(j[junta]))\n",
    "        \n",
    "        torque_sum = 0.\n",
    "        torque_sum += sum(abs.(τ[junta]))\n",
    "        \n",
    "        erro_sum = erro_sum * α\n",
    "        jerk_sum = jerk_sum * β \n",
    "        torque_sum = torque_sum * γ\n",
    "\n",
    "        out =  erro_sum + jerk_sum + torque_sum\n",
    "        out\n",
    "    end\n",
    "end;"
   ]
  },
  {
   "cell_type": "markdown",
   "metadata": {
    "heading_collapsed": true
   },
   "source": [
    "## Otimização junta 7"
   ]
  },
  {
   "cell_type": "code",
   "execution_count": 3,
   "metadata": {
    "ExecuteTime": {
     "end_time": "2018-04-29T11:58:53.865000-03:00",
     "start_time": "2018-04-29T14:58:53.860Z"
    },
    "hidden": true
   },
   "outputs": [],
   "source": [
    "function gerador7(n)\n",
    "    n = n/2\n",
    "    kp = push!(zeros(n-1),rand()*rand([10.,100.,1000.,10000]))\n",
    "    kv = push!(zeros(n-1),rand()*rand([10.,100.,1000.]))\n",
    "    vcat(kp,kv)\n",
    "end;"
   ]
  },
  {
   "cell_type": "code",
   "execution_count": 14,
   "metadata": {
    "ExecuteTime": {
     "end_time": "2018-04-29T12:18:54.372000-03:00",
     "start_time": "2018-04-29T15:10:51.268Z"
    },
    "hidden": true,
    "scrolled": true
   },
   "outputs": [
    {
     "name": "stdout",
     "output_type": "stream",
     "text": [
      " Progress:|\u001b[31m███████████████████████████████████████████████████\u001b[39m\u001b[37m\u001b[39m| 100.0%"
     ]
    },
    {
     "data": {
      "text/plain": [
       "([1.62125e-5, -0.000732422, 4.76837e-7, 6.86646e-5, 0.0625, 0.0, 7448.48, 4.76837e-7, 0.0, 0.0, -0.25, 0.000977039, 0.0, 35.4613], 0.4913101077621017, 5, 0.3196808668375045, Dict{Symbol,Any}())"
      ]
     },
     "execution_count": 14,
     "metadata": {},
     "output_type": "execute_result"
    }
   ],
   "source": [
    "N = 14\n",
    "result, fitness, cnt = ga(generateCusto(7), N; initPopulation = gerador7, populationSize = popul, ɛ = 0.25, selection = roulette, crossover = intermediate(0.25), mutation = domainrange(fill(0.5,N)), iterations = iterac, showBar = true)"
   ]
  },
  {
   "cell_type": "code",
   "execution_count": 21,
   "metadata": {
    "ExecuteTime": {
     "end_time": "2018-04-29T12:22:00.378000-03:00",
     "start_time": "2018-04-29T15:22:00.346Z"
    },
    "hidden": true
   },
   "outputs": [
    {
     "data": {
      "text/markdown": [
       "|     –- | junta 7 |\n",
       "| ------:| -------:|\n",
       "| **KP** | 7448.48 |\n",
       "| **KV** |   35.46 |\n"
      ],
      "text/plain": [
       "|     –- | junta 7 |\n",
       "| ------:| -------:|\n",
       "| **KP** | 7448.48 |\n",
       "| **KV** |   35.46 |\n"
      ]
     },
     "execution_count": 21,
     "metadata": {},
     "output_type": "execute_result"
    }
   ],
   "source": [
    "push!(kp_end, result[7])\n",
    "push!(kv_end, result[14])\n",
    "Markdown.parse(\"---|junta 7\\n---|---\\n**KP**|$(round(result[7],2))\\n**KV**|$(round(result[14],2))\")"
   ]
  },
  {
   "cell_type": "markdown",
   "metadata": {
    "heading_collapsed": true
   },
   "source": [
    "## Otimização junta 6"
   ]
  },
  {
   "cell_type": "code",
   "execution_count": 22,
   "metadata": {
    "ExecuteTime": {
     "end_time": "2018-04-29T12:22:09.945000-03:00",
     "start_time": "2018-04-29T15:22:09.938Z"
    },
    "hidden": true
   },
   "outputs": [],
   "source": [
    "function gerador6(n)\n",
    "    n = n/2\n",
    "    kp = push!(zeros(n-2),rand()*rand([10.,100.,1000.,10000]))\n",
    "    push!(kp,result[7])\n",
    "    kv = push!(zeros(n-2),rand()*rand([10.,100.,1000.]))\n",
    "    push!(kv,result[14])\n",
    "    vcat(kp,kv)\n",
    "end;"
   ]
  },
  {
   "cell_type": "code",
   "execution_count": 23,
   "metadata": {
    "ExecuteTime": {
     "end_time": "2018-04-29T12:28:17.125000-03:00",
     "start_time": "2018-04-29T15:22:19.622Z"
    },
    "hidden": true
   },
   "outputs": [
    {
     "name": "stdout",
     "output_type": "stream",
     "text": [
      " Progress:|\u001b[31m███████████████████████████████████████████████████\u001b[39m\u001b[37m\u001b[39m| 100.0%"
     ]
    },
    {
     "data": {
      "text/plain": [
       "([0.0, 0.000843928, 0.000124665, 0.0570168, 0.0, 3051.9, 7448.54, -0.00301881, -3.22669e-7, -1.20203e-7, 0.0, 2.41678e-5, 49.3884, 35.4613], 13.035005098209979, 5, 0.9539782006258157, Dict{Symbol,Any}())"
      ]
     },
     "execution_count": 23,
     "metadata": {},
     "output_type": "execute_result"
    }
   ],
   "source": [
    "N = 14\n",
    "result, fitness, cnt = ga(generateCusto(6), N; initPopulation = gerador6, populationSize = popul, ɛ = 0.25, selection = roulette, crossover = intermediate(0.25), mutation = domainrange(fill(0.5,N)), iterations = iterac, showBar = true)"
   ]
  },
  {
   "cell_type": "code",
   "execution_count": 31,
   "metadata": {
    "ExecuteTime": {
     "end_time": "2018-04-29T12:30:19.233000-03:00",
     "start_time": "2018-04-29T15:30:19.226Z"
    },
    "hidden": true
   },
   "outputs": [
    {
     "data": {
      "text/markdown": [
       "|     –- | junta 6 |\n",
       "| ------:| -------:|\n",
       "| **KP** |  3051.9 |\n",
       "| **KV** |   49.39 |\n"
      ],
      "text/plain": [
       "|     –- | junta 6 |\n",
       "| ------:| -------:|\n",
       "| **KP** |  3051.9 |\n",
       "| **KV** |   49.39 |\n"
      ]
     },
     "execution_count": 31,
     "metadata": {},
     "output_type": "execute_result"
    }
   ],
   "source": [
    "push!(kp_end, result[6])\n",
    "push!(kv_end, result[13])\n",
    "Markdown.parse(\"---|junta 6\\n---|---\\n**KP**|$(round(result[6],2))\\n**KV**|$(round(result[13],2))\")"
   ]
  },
  {
   "cell_type": "markdown",
   "metadata": {
    "heading_collapsed": true
   },
   "source": [
    "## Otimização junta 5"
   ]
  },
  {
   "cell_type": "code",
   "execution_count": 32,
   "metadata": {
    "ExecuteTime": {
     "end_time": "2018-04-29T12:30:26.347000-03:00",
     "start_time": "2018-04-29T15:30:26.340Z"
    },
    "hidden": true
   },
   "outputs": [],
   "source": [
    "function gerador5(n)\n",
    "    n = n/2\n",
    "    kp = push!(zeros(n-3),rand()*rand([10.,100.,1000.,10000]))\n",
    "    kp = vcat(kp,result[6:7])\n",
    "    kv = push!(zeros(n-3),rand()*rand([10.,100.,1000.]))\n",
    "    kv = vcat(kv,result[13:14])\n",
    "    vcat(kp,kv)\n",
    "end;"
   ]
  },
  {
   "cell_type": "code",
   "execution_count": 40,
   "metadata": {
    "ExecuteTime": {
     "end_time": "2018-04-29T12:41:22.568000-03:00",
     "start_time": "2018-04-29T15:37:01.970Z"
    },
    "hidden": true
   },
   "outputs": [
    {
     "name": "stdout",
     "output_type": "stream",
     "text": [
      " Progress:|\u001b[31m███████████████████████████████████████████████████\u001b[39m\u001b[37m\u001b[39m| 100.0%"
     ]
    },
    {
     "data": {
      "text/plain": [
       "([0.0213954, 0.0, 0.00111071, 0.0, 6811.77, 3051.9, 7448.54, -6.53899e-7, 0.000664656, -0.000214247, 0.0, 88.2716, 49.6952, 35.4613], 7.256287172125081, 5, 0.0, Dict{Symbol,Any}())"
      ]
     },
     "execution_count": 40,
     "metadata": {},
     "output_type": "execute_result"
    }
   ],
   "source": [
    "N = 14\n",
    "result, fitness, cnt = ga(generateCusto(5), N; initPopulation = gerador5, populationSize = popul, ɛ = 0.25, selection = roulette, crossover = intermediate(0.25), mutation = domainrange(fill(0.5,N)), iterations = iterac, showBar = true)"
   ]
  },
  {
   "cell_type": "code",
   "execution_count": 47,
   "metadata": {
    "ExecuteTime": {
     "end_time": "2018-04-29T12:45:22.111000-03:00",
     "start_time": "2018-04-29T15:45:22.104Z"
    },
    "hidden": true
   },
   "outputs": [
    {
     "data": {
      "text/markdown": [
       "|     –- | junta 5 |\n",
       "| ------:| -------:|\n",
       "| **KP** | 6811.77 |\n",
       "| **KV** |   88.27 |\n"
      ],
      "text/plain": [
       "|     –- | junta 5 |\n",
       "| ------:| -------:|\n",
       "| **KP** | 6811.77 |\n",
       "| **KV** |   88.27 |\n"
      ]
     },
     "execution_count": 47,
     "metadata": {},
     "output_type": "execute_result"
    }
   ],
   "source": [
    "push!(kp_end, result[5])\n",
    "push!(kv_end, result[12])\n",
    "Markdown.parse(\"---|junta 5\\n---|---\\n**KP**|$(round(result[5],2))\\n**KV**|$(round(result[12],2))\")"
   ]
  },
  {
   "cell_type": "markdown",
   "metadata": {
    "heading_collapsed": true
   },
   "source": [
    "## Otimização junta 4"
   ]
  },
  {
   "cell_type": "code",
   "execution_count": 48,
   "metadata": {
    "ExecuteTime": {
     "end_time": "2018-04-29T12:45:32.371000-03:00",
     "start_time": "2018-04-29T15:45:32.364Z"
    },
    "hidden": true
   },
   "outputs": [],
   "source": [
    "function gerador4(n)\n",
    "    n = n/2\n",
    "    kp = push!(zeros(n-4),rand()*rand([10.,100.,1000.,10000]))\n",
    "    kp = vcat(kp,result[5:7])\n",
    "    kv = push!(zeros(n-4),rand()*rand([10.,100.,1000.]))\n",
    "    kv = vcat(kv,result[12:14])\n",
    "    vcat(kp,kv)\n",
    "end;"
   ]
  },
  {
   "cell_type": "code",
   "execution_count": 58,
   "metadata": {
    "ExecuteTime": {
     "end_time": "2018-04-29T13:05:02.490000-03:00",
     "start_time": "2018-04-29T16:00:44.050Z"
    },
    "hidden": true
   },
   "outputs": [
    {
     "name": "stdout",
     "output_type": "stream",
     "text": [
      " Progress:|\u001b[31m███████████████████████████████████████████████████\u001b[39m\u001b[37m\u001b[39m| 100.0%"
     ]
    },
    {
     "data": {
      "text/plain": [
       "([0.0, 0.0, 0.0, 3369.41, 6811.77, 3051.9, 7448.54, 0.0, 0.0, 0.0, 55.0186, 88.2697, 49.9922, 35.4613], 32.0344206808741, 5, 0.0, Dict{Symbol,Any}())"
      ]
     },
     "execution_count": 58,
     "metadata": {},
     "output_type": "execute_result"
    }
   ],
   "source": [
    "N = 14\n",
    "result, fitness, cnt = ga(generateCusto(4), N; initPopulation = gerador4, populationSize = popul, ɛ = 0.25, selection = roulette, crossover = intermediate(0.25), mutation = domainrange(fill(0.5,N)), iterations = iterac, showBar = true)"
   ]
  },
  {
   "cell_type": "code",
   "execution_count": 65,
   "metadata": {
    "ExecuteTime": {
     "end_time": "2018-04-29T13:10:29.046000-03:00",
     "start_time": "2018-04-29T16:10:29.042Z"
    },
    "hidden": true
   },
   "outputs": [
    {
     "data": {
      "text/markdown": [
       "|     –- | junta 4 |\n",
       "| ------:| -------:|\n",
       "| **KP** | 3369.41 |\n",
       "| **KV** |   55.02 |\n"
      ],
      "text/plain": [
       "|     –- | junta 4 |\n",
       "| ------:| -------:|\n",
       "| **KP** | 3369.41 |\n",
       "| **KV** |   55.02 |\n"
      ]
     },
     "execution_count": 65,
     "metadata": {},
     "output_type": "execute_result"
    }
   ],
   "source": [
    "push!(kp_end, result[4])\n",
    "push!(kv_end, result[11])\n",
    "Markdown.parse(\"---|junta 4\\n---|---\\n**KP**|$(round(result[4],2))\\n**KV**|$(round(result[11],2))\")"
   ]
  },
  {
   "cell_type": "markdown",
   "metadata": {
    "heading_collapsed": true
   },
   "source": [
    "## Otimização junta 3"
   ]
  },
  {
   "cell_type": "code",
   "execution_count": 66,
   "metadata": {
    "ExecuteTime": {
     "end_time": "2018-04-29T13:10:45.026000-03:00",
     "start_time": "2018-04-29T16:10:45.018Z"
    },
    "hidden": true
   },
   "outputs": [],
   "source": [
    "function gerador3(n)\n",
    "    n = n/2\n",
    "    kp = push!(zeros(n-5),rand()*rand([10.,100.,1000.,10000]))\n",
    "    kp = vcat(kp,result[4:7])\n",
    "    kv = push!(zeros(n-5),rand()*rand([10.,100.,1000.]))\n",
    "    kv = vcat(kv,result[11:14])\n",
    "    vcat(kp,kv)\n",
    "end;"
   ]
  },
  {
   "cell_type": "code",
   "execution_count": 71,
   "metadata": {
    "ExecuteTime": {
     "end_time": "2018-04-29T13:26:14.743000-03:00",
     "start_time": "2018-04-29T16:21:28.204Z"
    },
    "hidden": true
   },
   "outputs": [
    {
     "name": "stdout",
     "output_type": "stream",
     "text": [
      " Progress:|\u001b[31m███████████████████████████████████████████████████\u001b[39m\u001b[37m\u001b[39m| 100.0%"
     ]
    },
    {
     "data": {
      "text/plain": [
       "([0.0, 0.0, 2475.58, 3369.38, 6811.77, 3051.9, 7448.54, 0.0, 0.0, 410.167, 55.0641, 88.2697, 50.0011, 35.4613], 19.929410056497414, 5, 0.009515615177186021, Dict{Symbol,Any}())"
      ]
     },
     "execution_count": 71,
     "metadata": {},
     "output_type": "execute_result"
    }
   ],
   "source": [
    "N = 14\n",
    "result, fitness, cnt = ga(generateCusto(3), N; initPopulation = gerador3, populationSize = popul, ɛ = 0.25, selection = roulette, crossover = intermediate(0.25), mutation = domainrange(fill(0.5,N)), iterations = iterac, showBar = true)"
   ]
  },
  {
   "cell_type": "code",
   "execution_count": 75,
   "metadata": {
    "ExecuteTime": {
     "end_time": "2018-04-29T13:29:47.809000-03:00",
     "start_time": "2018-04-29T16:29:47.804Z"
    },
    "hidden": true
   },
   "outputs": [
    {
     "data": {
      "text/markdown": [
       "|     –- | junta 3 |\n",
       "| ------:| -------:|\n",
       "| **KP** | 2475.58 |\n",
       "| **KV** |  410.17 |\n"
      ],
      "text/plain": [
       "|     –- | junta 3 |\n",
       "| ------:| -------:|\n",
       "| **KP** | 2475.58 |\n",
       "| **KV** |  410.17 |\n"
      ]
     },
     "execution_count": 75,
     "metadata": {},
     "output_type": "execute_result"
    }
   ],
   "source": [
    "push!(kp_end, result[3])\n",
    "push!(kv_end, result[10])\n",
    "Markdown.parse(\"---|junta 3\\n---|---\\n**KP**|$(round(result[3],2))\\n**KV**|$(round(result[10],2))\")"
   ]
  },
  {
   "cell_type": "markdown",
   "metadata": {},
   "source": [
    "## Otimização junta 2"
   ]
  },
  {
   "cell_type": "code",
   "execution_count": 82,
   "metadata": {
    "ExecuteTime": {
     "end_time": "2018-04-29T13:31:42.220000-03:00",
     "start_time": "2018-04-29T16:31:42.210Z"
    }
   },
   "outputs": [],
   "source": [
    "function gerador2(n)\n",
    "    n = n/2\n",
    "    kp = push!(zeros(n-6),rand()*rand([10.,100.,1000.,10000]))\n",
    "    kp = vcat(kp,result[3:7])\n",
    "    kv = push!(zeros(n-6),rand()*rand([10.,100.,1000.]))\n",
    "    kv = vcat(kv,result[10:14])\n",
    "    vcat(kp,kv)\n",
    "end;"
   ]
  },
  {
   "cell_type": "code",
   "execution_count": 147,
   "metadata": {
    "ExecuteTime": {
     "end_time": "2018-04-29T14:23:18.331000-03:00",
     "start_time": "2018-04-29T17:18:39.368Z"
    }
   },
   "outputs": [
    {
     "name": "stdout",
     "output_type": "stream",
     "text": [
      " Progress:|\u001b[31m███████████████████████████████████████████████████\u001b[39m\u001b[37m\u001b[39m| 100.0%"
     ]
    },
    {
     "data": {
      "text/plain": [
       "([0.0, 64.8822, 2475.58, 3369.38, 6811.77, 3051.9, 7448.54, 0.0, 149.521, 410.167, 55.0641, 88.2697, 50.2511, 35.4613], 114.75795130445238, 5, 0.0, Dict{Symbol,Any}())"
      ]
     },
     "execution_count": 147,
     "metadata": {},
     "output_type": "execute_result"
    }
   ],
   "source": [
    "N = 14\n",
    "result, fitness, cnt = ga(generateCusto(2), N; initPopulation = gerador2, populationSize = popul, ɛ = 0.25, selection = roulette, crossover = intermediate(0.25), mutation = domainrange(fill(0.5,N)), iterations = iterac, showBar = true)"
   ]
  },
  {
   "cell_type": "markdown",
   "metadata": {
    "heading_collapsed": true
   },
   "source": [
    "## Otimização junta 1"
   ]
  },
  {
   "cell_type": "code",
   "execution_count": null,
   "metadata": {
    "ExecuteTime": {
     "start_time": "2018-04-28T22:36:26.716Z"
    },
    "hidden": true
   },
   "outputs": [],
   "source": [
    "function gerador1(n)\n",
    "    n = n/2\n",
    "    kp = push!(zeros(n-7),rand()*rand([10.,100.,1000.,10000]))\n",
    "    kp = vcat(kp,result[2:7])\n",
    "    kv = push!(zeros(n-7),rand()*rand([10.,100.,1000.]))\n",
    "    kv = vcat(kv,result[9:14])\n",
    "    vcat(kp,kv)\n",
    "end;"
   ]
  },
  {
   "cell_type": "code",
   "execution_count": null,
   "metadata": {
    "ExecuteTime": {
     "start_time": "2018-04-28T22:36:26.720Z"
    },
    "hidden": true
   },
   "outputs": [],
   "source": [
    "N = 14\n",
    "result, fitness, cnt = ga(generateCusto(1), N; initPopulation = gerador1, populationSize = popul, ɛ = 0.25, selection = roulette, crossover = intermediate(0.25), mutation = domainrange(fill(0.5,N)), iterations = iterac, showBar = true)"
   ]
  },
  {
   "cell_type": "markdown",
   "metadata": {},
   "source": [
    "# Resultado Final"
   ]
  },
  {
   "cell_type": "code",
   "execution_count": 146,
   "metadata": {
    "ExecuteTime": {
     "end_time": "2018-04-29T14:18:23.434000-03:00",
     "start_time": "2018-04-29T17:18:09.516Z"
    }
   },
   "outputs": [
    {
     "data": {
      "image/png": "[encoded data removed]"
     },
     "execution_count": 146,
     "metadata": {},
     "output_type": "execute_result"
    }
   ],
   "source": [
    "t_end_new = 2.\n",
    "kp = SMatrix{7,7}(diagm(result[1:7]))\n",
    "kv = SMatrix{7,7}(diagm(result[8:end]))\n",
    "\n",
    "x, v, t, a, ta, j, tj, τ, t_tau = kukaRobot(kp, kv, Ts, t0, t_end_new, xr);\n",
    "plotx(2)"
   ]
  },
  {
   "cell_type": "code",
   "execution_count": 141,
   "metadata": {
    "ExecuteTime": {
     "end_time": "2018-04-29T14:18:01.051000-03:00",
     "start_time": "2018-04-29T17:17:54.130Z"
    }
   },
   "outputs": [
    {
     "data": {
      "text/markdown": [
       "|              –- | junta 1 | junta 2 | junta 3 | junta 4 | junta 5 | junta 6 | junta 7 |\n",
       "| ---------------:| -------:| -------:| -------:| -------:| -------:| -------:| -------:|\n",
       "| **Erro máximo** |    2.13 |     1.0 |     0.5 |     0.6 |     0.5 |     1.2 |     0.8 |\n",
       "| **Erro mínimo** |     1.0 |     0.0 |     0.0 |     0.0 |     0.0 |     0.0 |     0.0 |\n",
       "|  **Erro total** |   52.26 |    5.62 |    1.32 |     0.7 |     0.5 |    1.22 |     0.8 |\n"
      ],
      "text/plain": [
       "|              –- | junta 1 | junta 2 | junta 3 | junta 4 | junta 5 | junta 6 | junta 7 |\n",
       "| ---------------:| -------:| -------:| -------:| -------:| -------:| -------:| -------:|\n",
       "| **Erro máximo** |    2.13 |     1.0 |     0.5 |     0.6 |     0.5 |     1.2 |     0.8 |\n",
       "| **Erro mínimo** |     1.0 |     0.0 |     0.0 |     0.0 |     0.0 |     0.0 |     0.0 |\n",
       "|  **Erro total** |   52.26 |    5.62 |    1.32 |     0.7 |     0.5 |    1.22 |     0.8 |\n"
      ]
     },
     "execution_count": 141,
     "metadata": {},
     "output_type": "execute_result"
    }
   ],
   "source": [
    "erro = []\n",
    "for i=1:7\n",
    "    push!(erro, -(x[i] .- xr[i]))\n",
    "end \n",
    "tabela(erro, \"Erro\")"
   ]
  },
  {
   "cell_type": "code",
   "execution_count": 142,
   "metadata": {
    "ExecuteTime": {
     "end_time": "2018-04-29T14:18:01.061000-03:00",
     "start_time": "2018-04-29T17:17:54.134Z"
    }
   },
   "outputs": [
    {
     "data": {
      "text/plain": [
       "plotx (generic function with 2 methods)"
      ]
     },
     "execution_count": 142,
     "metadata": {},
     "output_type": "execute_result"
    }
   ],
   "source": [
    "function plotx(i)\n",
    "    p1 = plot(t,x[i], label = \"desejado\")\n",
    "    p1= plot!([xr[i]],seriestype= :hline, label = \"referência\");\n",
    "end\n",
    "function plotx()\n",
    "    p1 = plot(t,x[1], label = \"simulação 1\")\n",
    "    p1= plot!([xr[1]],seriestype= :hline, label = \"referência 1\")\n",
    "    p2 = plot(t,x[2], label = \"simulação 2\")\n",
    "    p2= plot!([xr[2]],seriestype= :hline, label = \"referência 2\")\n",
    "    p3 = plot(t,x[3], label = \"simulação 3\")\n",
    "    p3= plot!([xr[3]],seriestype= :hline, label = \"referência 3\")\n",
    "    p4 = plot(t,x[4], label = \"simulação 4\")\n",
    "    p4= plot!([xr[4]],seriestype= :hline, label = \"referência 4\")\n",
    "    p5 = plot(t,x[5], label = \"simulação 5\")\n",
    "    p5= plot!([xr[5]],seriestype= :hline, label = \"referência 5\")\n",
    "    p6 = plot(t,x[6], label = \"simulação 6\")\n",
    "    p6= plot!([xr[6]],seriestype= :hline, label = \"referência 6\")\n",
    "    p7 = plot(t,x[7], label = \"simulação 7\")\n",
    "    p7= plot!([xr[7]],seriestype= :hline, label = \"referência 7\")\n",
    "    plot(p1,p2,p3,p4,p5,p6,p7, layout =(7,1))\n",
    "end"
   ]
  },
  {
   "cell_type": "code",
   "execution_count": 143,
   "metadata": {
    "ExecuteTime": {
     "end_time": "2018-04-29T14:18:01.991000-03:00",
     "start_time": "2018-04-29T17:17:54.138Z"
    }
   },
   "outputs": [
    {
     "data": {
      "image/png": "[encoded data removed]"
     },
     "execution_count": 143,
     "metadata": {},
     "output_type": "execute_result"
    }
   ],
   "source": [
    "plotx()"
   ]
  },
  {
   "cell_type": "code",
   "execution_count": 144,
   "metadata": {
    "ExecuteTime": {
     "end_time": "2018-04-29T14:18:01.994000-03:00",
     "start_time": "2018-04-29T17:17:54.142Z"
    }
   },
   "outputs": [
    {
     "data": {
      "text/markdown": [
       "|              –- | junta 1 | junta 2 | junta 3 | junta 4 | junta 5 | junta 6 | junta 7 |\n",
       "| ---------------:| -------:| -------:| -------:| -------:| -------:| -------:| -------:|\n",
       "| **Jerk máximo** | 1197.01 |  282.56 |  396.99 |  569.77 |    21.0 |  198.23 |    0.59 |\n",
       "| **Jerk mínimo** |    0.02 |    0.16 |     0.0 |     0.0 |     0.0 |     0.0 |     0.0 |\n",
       "|  **Jerk total** |  1535.2 |  354.85 |  505.31 |   966.6 |   31.67 |  301.76 |    1.94 |\n"
      ],
      "text/plain": [
       "|              –- | junta 1 | junta 2 | junta 3 | junta 4 | junta 5 | junta 6 | junta 7 |\n",
       "| ---------------:| -------:| -------:| -------:| -------:| -------:| -------:| -------:|\n",
       "| **Jerk máximo** | 1197.01 |  282.56 |  396.99 |  569.77 |    21.0 |  198.23 |    0.59 |\n",
       "| **Jerk mínimo** |    0.02 |    0.16 |     0.0 |     0.0 |     0.0 |     0.0 |     0.0 |\n",
       "|  **Jerk total** |  1535.2 |  354.85 |  505.31 |   966.6 |   31.67 |  301.76 |    1.94 |\n"
      ]
     },
     "execution_count": 144,
     "metadata": {},
     "output_type": "execute_result"
    }
   ],
   "source": [
    "tabela(j,\"Jerk\")"
   ]
  },
  {
   "cell_type": "code",
   "execution_count": 145,
   "metadata": {
    "ExecuteTime": {
     "end_time": "2018-04-29T14:18:01.998000-03:00",
     "start_time": "2018-04-29T17:17:54.150Z"
    }
   },
   "outputs": [
    {
     "data": {
      "text/markdown": [
       "|                –- | junta 1 | junta 2 | junta 3 | junta 4 | junta 5 | junta 6 | junta 7 |\n",
       "| -----------------:| -------:| -------:| -------:| -------:| -------:| -------:| -------:|\n",
       "| **Torque máximo** |     0.0 |  120.03 |   17.41 |   64.73 |     6.1 |    2.71 |    0.01 |\n",
       "| **Torque mínimo** |     0.0 |   19.05 |    0.42 |    0.14 |    0.27 |    0.77 |     0.0 |\n",
       "|  **Torque total** |     0.0 | 1107.34 |  117.79 |  251.06 |   22.45 |   33.39 |    0.03 |\n"
      ],
      "text/plain": [
       "|                –- | junta 1 | junta 2 | junta 3 | junta 4 | junta 5 | junta 6 | junta 7 |\n",
       "| -----------------:| -------:| -------:| -------:| -------:| -------:| -------:| -------:|\n",
       "| **Torque máximo** |     0.0 |  120.03 |   17.41 |   64.73 |     6.1 |    2.71 |    0.01 |\n",
       "| **Torque mínimo** |     0.0 |   19.05 |    0.42 |    0.14 |    0.27 |    0.77 |     0.0 |\n",
       "|  **Torque total** |     0.0 | 1107.34 |  117.79 |  251.06 |   22.45 |   33.39 |    0.03 |\n"
      ]
     },
     "execution_count": 145,
     "metadata": {},
     "output_type": "execute_result"
    }
   ],
   "source": [
    "tabela(τ,\"Torque\")"
   ]
  },
  {
   "cell_type": "code",
   "execution_count": null,
   "metadata": {},
   "outputs": [],
   "source": []
  }
 ],
 "metadata": {
  "kernelspec": {
   "display_name": "Julia 0.6.2",
   "language": "julia",
   "name": "julia-0.6"
  },
  "language_info": {
   "file_extension": ".jl",
   "mimetype": "application/julia",
   "name": "julia",
   "version": "0.6.2"
  },
  "notify_time": "5",
  "toc": {
   "nav_menu": {},
   "number_sections": true,
   "sideBar": true,
   "skip_h1_title": false,
   "title_cell": "Table of Contents",
   "title_sidebar": "Contents",
   "toc_cell": false,
   "toc_position": {},
   "toc_section_display": true,
   "toc_window_display": false
  },
  "varInspector": {
   "cols": {
    "lenName": 16,
    "lenType": 16,
    "lenVar": 40
   },
   "kernels_config": {
    "python": {
     "delete_cmd_postfix": "",
     "delete_cmd_prefix": "del ",
     "library": "var_list.py",
     "varRefreshCmd": "print(var_dic_list())"
    },
    "r": {
     "delete_cmd_postfix": ") ",
     "delete_cmd_prefix": "rm(",
     "library": "var_list.r",
     "varRefreshCmd": "cat(var_dic_list()) "
    }
   },
   "types_to_exclude": [
    "module",
    "function",
    "builtin_function_or_method",
    "instance",
    "_Feature"
   ],
   "window_display": false
  }
 },
 "nbformat": 4,
 "nbformat_minor": 2
}
