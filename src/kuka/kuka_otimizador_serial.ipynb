{
 "cells": [
  {
   "cell_type": "markdown",
   "metadata": {},
   "source": [
    "# Otimização em série\n",
    "\n",
    "Aqui farei a otmização do controlador individual por junta pois a otimização em lote se mostrou ineficiente para mecanismos com uma quantidade elevada de graus de liberdade."
   ]
  },
  {
   "cell_type": "code",
   "execution_count": 1,
   "metadata": {
    "ExecuteTime": {
     "end_time": "2018-04-28T19:38:48.592000-03:00",
     "start_time": "2018-04-28T22:38:03.168Z"
    }
   },
   "outputs": [],
   "source": [
    "include(\"../comum.jl\")\n",
    "include(\"../modelos.jl\")\n",
    "using Evolutionary, Plots;\n",
    "pyplot();\n",
    "#plotlyjs();"
   ]
  },
  {
   "cell_type": "code",
   "execution_count": 2,
   "metadata": {
    "ExecuteTime": {
     "end_time": "2018-04-28T19:38:56.087000-03:00",
     "start_time": "2018-04-28T22:38:55.634Z"
    }
   },
   "outputs": [],
   "source": [
    "Ts = 0.08     #período de leitura\n",
    "tend = 2.0    #tempo final\n",
    "t0 = 0.0      # tempo inicial\n",
    "popul  = 2   # população\n",
    "iterac = 2   #iterações\n",
    "α = 10.       #parâmetro para o erro\n",
    "β = 0.01      #parâmetro para o jerk\n",
    "γ = 0.1       #parâmetro para o torque\n",
    "per = 1/2     #inicio da leitura do vetor a parti de per do comprimento total\n",
    "xr = SVector{7}([1.,1.,0.5,0.6,0.5,1.2,0.8]) #referências\n",
    "kp_end = AbstractFloat[]\n",
    "kv_end = AbstractFloat[];"
   ]
  },
  {
   "cell_type": "markdown",
   "metadata": {},
   "source": [
    "## Otimização junta 7"
   ]
  },
  {
   "cell_type": "code",
   "execution_count": 3,
   "metadata": {
    "ExecuteTime": {
     "end_time": "2018-04-28T19:38:58.846000-03:00",
     "start_time": "2018-04-28T22:38:58.842Z"
    }
   },
   "outputs": [],
   "source": [
    "function gerador7(n)\n",
    "    n = n/2\n",
    "    kp = push!(zeros(n-1),rand()*rand([10.,100.,1000.,10000]))\n",
    "    kv = push!(zeros(n-1),rand()*rand([10.,100.,1000.]))\n",
    "    vcat(kp,kv)\n",
    "end;"
   ]
  },
  {
   "cell_type": "code",
   "execution_count": 4,
   "metadata": {
    "ExecuteTime": {
     "end_time": "2018-04-28T19:39:02.991000-03:00",
     "start_time": "2018-04-28T22:39:02.982Z"
    }
   },
   "outputs": [],
   "source": [
    "function generateCusto(junta::Integer)\n",
    "    out = function custo(gain::Vector{Float64})\n",
    "        kp = SMatrix{7,7}(diagm(gain[1:7]))\n",
    "        kv = SMatrix{7,7}(diagm(gain[8:end]))\n",
    "        x, v, t, a, ta, j, tj, τ, t_tau = kukaRobot(kp, kv, Ts, t0, tend, xr)\n",
    "        sizeVector = length(x[1])\n",
    "\n",
    "        erro_sum = 0.\n",
    "        erro = -(x[junta]-xr[junta])\n",
    "        erro_sum += sum(abs.(erro[floor(Integer,sizeVector*per):end])) \n",
    "\n",
    "        jerk_sum = 0.\n",
    "        jerk_sum += sum(abs.(j[junta]))\n",
    "        \n",
    "        torque_sum = 0.\n",
    "        torque_sum += sum(abs.(τ[junta]))\n",
    "        \n",
    "        erro_sum = erro_sum * α\n",
    "        jerk_sum = jerk_sum * β \n",
    "        torque_sum = torque_sum * γ\n",
    "\n",
    "        out =  erro_sum + jerk_sum + torque_sum\n",
    "        out\n",
    "    end\n",
    "end;"
   ]
  },
  {
   "cell_type": "code",
   "execution_count": 5,
   "metadata": {
    "ExecuteTime": {
     "end_time": "2018-04-28T19:47:36.074000-03:00",
     "start_time": "2018-04-28T22:42:24.616Z"
    },
    "scrolled": true
   },
   "outputs": [
    {
     "name": "stdout",
     "output_type": "stream",
     "text": [
      " Progress:|\u001b[31m███████████████████████████████████████████████████\u001b[39m\u001b[37m\u001b[39m| 100.0%"
     ]
    },
    {
     "data": {
      "text/plain": [
       "([0.0, 0.0, 0.0, 0.0, 0.0, 0.0, 105.058, 0.0, 0.0, 0.0, 0.0, 0.0, 0.0, 61.6449], 13.520936175541543, 2, 0.0, Dict{Symbol,Any}())"
      ]
     },
     "execution_count": 5,
     "metadata": {},
     "output_type": "execute_result"
    }
   ],
   "source": [
    "N = 14\n",
    "result, fitness, cnt = ga(generateCusto(7), N; initPopulation = gerador7, populationSize = popul, ɛ = 0.25, selection = roulette, crossover = intermediate(0.25), mutation = domainrange(fill(0.5,N)), iterations = iterac, showBar = true)"
   ]
  },
  {
   "cell_type": "code",
   "execution_count": null,
   "metadata": {
    "ExecuteTime": {
     "start_time": "2018-04-28T22:36:26.674Z"
    }
   },
   "outputs": [],
   "source": [
    "push!(kp_end, result[7])\n",
    "push!(kv_end, result[14])\n",
    "Markdown.parse(\"---|junta 7\\n---|---\\n**KP**|$(round(result[7],2))\\n**KV**|$(round(result[14],2))\")"
   ]
  },
  {
   "cell_type": "markdown",
   "metadata": {
    "heading_collapsed": true
   },
   "source": [
    "## Otimização junta 6"
   ]
  },
  {
   "cell_type": "code",
   "execution_count": null,
   "metadata": {
    "ExecuteTime": {
     "start_time": "2018-04-28T22:36:26.680Z"
    },
    "hidden": true
   },
   "outputs": [],
   "source": [
    "function gerador6(n)\n",
    "    n = n/2\n",
    "    kp = push!(zeros(n-2),rand()*rand([10.,100.,1000.,10000]))\n",
    "    push!(kp,result[7])\n",
    "    kv = push!(zeros(n-2),rand()*rand([10.,100.,1000.]))\n",
    "    push!(kv,result[14])\n",
    "    vcat(kp,kv)\n",
    "end;"
   ]
  },
  {
   "cell_type": "code",
   "execution_count": null,
   "metadata": {
    "ExecuteTime": {
     "start_time": "2018-04-28T22:36:26.684Z"
    },
    "hidden": true
   },
   "outputs": [],
   "source": [
    "N = 14\n",
    "result, fitness, cnt = ga(generateCusto(6), N; initPopulation = gerador6, populationSize = popul, ɛ = 0.25, selection = roulette, crossover = intermediate(0.25), mutation = domainrange(fill(0.5,N)), iterations = iterac, showBar = true)"
   ]
  },
  {
   "cell_type": "markdown",
   "metadata": {
    "heading_collapsed": true
   },
   "source": [
    "## Otimização junta 5"
   ]
  },
  {
   "cell_type": "code",
   "execution_count": null,
   "metadata": {
    "ExecuteTime": {
     "start_time": "2018-04-28T22:36:26.690Z"
    },
    "hidden": true
   },
   "outputs": [],
   "source": [
    "function gerador5(n)\n",
    "    n = n/2\n",
    "    kp = push!(zeros(n-3),rand()*rand([10.,100.,1000.,10000]))\n",
    "    kp = vcat(kp,result[6:7])\n",
    "    kv = push!(zeros(n-3),rand()*rand([10.,100.,1000.]))\n",
    "    kv = vcat(kv,result[13:14])\n",
    "    vcat(kp,kv)\n",
    "end;"
   ]
  },
  {
   "cell_type": "code",
   "execution_count": null,
   "metadata": {
    "ExecuteTime": {
     "start_time": "2018-04-28T22:36:26.694Z"
    },
    "hidden": true
   },
   "outputs": [],
   "source": [
    "N = 14\n",
    "result, fitness, cnt = ga(generateCusto(5), N; initPopulation = gerador5, populationSize = popul, ɛ = 0.25, selection = roulette, crossover = intermediate(0.25), mutation = domainrange(fill(0.5,N)), iterations = iterac, showBar = true)"
   ]
  },
  {
   "cell_type": "markdown",
   "metadata": {
    "heading_collapsed": true
   },
   "source": [
    "## Otimização junta 4"
   ]
  },
  {
   "cell_type": "code",
   "execution_count": null,
   "metadata": {
    "ExecuteTime": {
     "start_time": "2018-04-28T22:36:26.696Z"
    },
    "hidden": true
   },
   "outputs": [],
   "source": [
    "function gerador4(n)\n",
    "    n = n/2\n",
    "    kp = push!(zeros(n-4),rand()*rand([10.,100.,1000.,10000]))\n",
    "    kp = vcat(kp,result[5:7])\n",
    "    kv = push!(zeros(n-4),rand()*rand([10.,100.,1000.]))\n",
    "    kv = vcat(kv,result[12:14])\n",
    "    vcat(kp,kv)\n",
    "end;"
   ]
  },
  {
   "cell_type": "code",
   "execution_count": null,
   "metadata": {
    "ExecuteTime": {
     "start_time": "2018-04-28T22:36:26.700Z"
    },
    "hidden": true
   },
   "outputs": [],
   "source": [
    "N = 14\n",
    "result, fitness, cnt = ga(generateCusto(4), N; initPopulation = gerador4, populationSize = popul, ɛ = 0.25, selection = roulette, crossover = intermediate(0.25), mutation = domainrange(fill(0.5,N)), iterations = iterac, showBar = true)"
   ]
  },
  {
   "cell_type": "markdown",
   "metadata": {
    "heading_collapsed": true
   },
   "source": [
    "## Otimização junta 3"
   ]
  },
  {
   "cell_type": "code",
   "execution_count": null,
   "metadata": {
    "ExecuteTime": {
     "start_time": "2018-04-28T22:36:26.704Z"
    },
    "hidden": true
   },
   "outputs": [],
   "source": [
    "function gerador3(n)\n",
    "    n = n/2\n",
    "    kp = push!(zeros(n-5),rand()*rand([10.,100.,1000.,10000]))\n",
    "    kp = vcat(kp,result[4:7])\n",
    "    kv = push!(zeros(n-5),rand()*rand([10.,100.,1000.]))\n",
    "    kv = vcat(kv,result[11:14])\n",
    "    vcat(kp,kv)\n",
    "end;"
   ]
  },
  {
   "cell_type": "code",
   "execution_count": null,
   "metadata": {
    "ExecuteTime": {
     "start_time": "2018-04-28T22:36:26.706Z"
    },
    "hidden": true
   },
   "outputs": [],
   "source": [
    "N = 14\n",
    "result, fitness, cnt = ga(generateCusto(3), N; initPopulation = gerador3, populationSize = popul, ɛ = 0.25, selection = roulette, crossover = intermediate(0.25), mutation = domainrange(fill(0.5,N)), iterations = iterac, showBar = true)"
   ]
  },
  {
   "cell_type": "markdown",
   "metadata": {
    "heading_collapsed": true
   },
   "source": [
    "## Otimização junta 2"
   ]
  },
  {
   "cell_type": "code",
   "execution_count": null,
   "metadata": {
    "ExecuteTime": {
     "start_time": "2018-04-28T22:36:26.710Z"
    },
    "hidden": true
   },
   "outputs": [],
   "source": [
    "function gerador2(n)\n",
    "    n = n/2\n",
    "    kp = push!(zeros(n-6),rand()*rand([10.,100.,1000.,10000]))\n",
    "    kp = vcat(kp,result[3:7])\n",
    "    kv = push!(zeros(n-6),rand()*rand([10.,100.,1000.]))\n",
    "    kv = vcat(kv,result[10:14])\n",
    "    vcat(kp,kv)\n",
    "end;"
   ]
  },
  {
   "cell_type": "code",
   "execution_count": null,
   "metadata": {
    "ExecuteTime": {
     "start_time": "2018-04-28T22:36:26.714Z"
    },
    "hidden": true
   },
   "outputs": [],
   "source": [
    "N = 14\n",
    "result, fitness, cnt = ga(generateCusto(2), N; initPopulation = gerador2, populationSize = popul, ɛ = 0.25, selection = roulette, crossover = intermediate(0.25), mutation = domainrange(fill(0.5,N)), iterations = iterac, showBar = true)"
   ]
  },
  {
   "cell_type": "markdown",
   "metadata": {
    "heading_collapsed": true
   },
   "source": [
    "## Otimização junta 1"
   ]
  },
  {
   "cell_type": "code",
   "execution_count": null,
   "metadata": {
    "ExecuteTime": {
     "start_time": "2018-04-28T22:36:26.716Z"
    },
    "hidden": true
   },
   "outputs": [],
   "source": [
    "function gerador1(n)\n",
    "    n = n/2\n",
    "    kp = push!(zeros(n-7),rand()*rand([10.,100.,1000.,10000]))\n",
    "    kp = vcat(kp,result[2:7])\n",
    "    kv = push!(zeros(n-7),rand()*rand([10.,100.,1000.]))\n",
    "    kv = vcat(kv,result[9:14])\n",
    "    vcat(kp,kv)\n",
    "end;"
   ]
  },
  {
   "cell_type": "code",
   "execution_count": null,
   "metadata": {
    "ExecuteTime": {
     "start_time": "2018-04-28T22:36:26.720Z"
    },
    "hidden": true
   },
   "outputs": [],
   "source": [
    "N = 14\n",
    "result, fitness, cnt = ga(generateCusto(1), N; initPopulation = gerador1, populationSize = popul, ɛ = 0.25, selection = roulette, crossover = intermediate(0.25), mutation = domainrange(fill(0.5,N)), iterations = iterac, showBar = true)"
   ]
  },
  {
   "cell_type": "markdown",
   "metadata": {},
   "source": [
    "## Resultado Final"
   ]
  },
  {
   "cell_type": "code",
   "execution_count": 12,
   "metadata": {
    "ExecuteTime": {
     "end_time": "2018-04-28T19:52:33.434000-03:00",
     "start_time": "2018-04-28T22:52:22.446Z"
    }
   },
   "outputs": [],
   "source": [
    "t_end_new = 2.\n",
    "kp = SMatrix{7,7}(diagm(result[1:7]))\n",
    "kv = SMatrix{7,7}(diagm(result[8:end]))\n",
    "\n",
    "x, v, t, a, ta, j, tj, τ, t_tau = kukaRobot(kp, kv, Ts, t0, t_end_new, xr);"
   ]
  },
  {
   "cell_type": "code",
   "execution_count": 7,
   "metadata": {
    "ExecuteTime": {
     "end_time": "2018-04-28T19:48:21.632000-03:00",
     "start_time": "2018-04-28T22:48:19.840Z"
    }
   },
   "outputs": [
    {
     "data": {
      "text/markdown": [
       "|              –- | junta 1 | junta 2 | junta 3 | junta 4 | junta 5 | junta 6 | junta 7 |\n",
       "| ---------------:| -------:| -------:| -------:| -------:| -------:| -------:| -------:|\n",
       "| **Erro máximo** |    4.02 |    3.93 |   10.17 |    6.34 |   19.96 |   11.12 |     0.8 |\n",
       "|  **Erro total** |   35.87 |   51.04 |   75.68 |   76.62 |  154.81 |  128.47 |     6.1 |\n"
      ],
      "text/plain": [
       "|              –- | junta 1 | junta 2 | junta 3 | junta 4 | junta 5 | junta 6 | junta 7 |\n",
       "| ---------------:| -------:| -------:| -------:| -------:| -------:| -------:| -------:|\n",
       "| **Erro máximo** |    4.02 |    3.93 |   10.17 |    6.34 |   19.96 |   11.12 |     0.8 |\n",
       "|  **Erro total** |   35.87 |   51.04 |   75.68 |   76.62 |  154.81 |  128.47 |     6.1 |\n"
      ]
     },
     "execution_count": 7,
     "metadata": {},
     "output_type": "execute_result"
    }
   ],
   "source": [
    "erro = []\n",
    "for i=1:7\n",
    "    push!(erro, abs.(x[i] - xr[i]))\n",
    "end \n",
    "tabela(erro, \"Erro\")"
   ]
  },
  {
   "cell_type": "code",
   "execution_count": 8,
   "metadata": {
    "ExecuteTime": {
     "end_time": "2018-04-28T19:48:29.700000-03:00",
     "start_time": "2018-04-28T22:48:29.428Z"
    }
   },
   "outputs": [
    {
     "data": {
      "text/plain": [
       "plotx (generic function with 2 methods)"
      ]
     },
     "execution_count": 8,
     "metadata": {},
     "output_type": "execute_result"
    }
   ],
   "source": [
    "function plotx(i)\n",
    "    p1 = plot(t,x[i], label = \"desejado\")\n",
    "    p1= plot!([xr[i]],seriestype= :hline, label = \"referência\");\n",
    "end\n",
    "function plotx()\n",
    "    p1 = plot(t,x[1], label = \"simulação 1\")\n",
    "    p1= plot!([xr[1]],seriestype= :hline, label = \"referência 1\")\n",
    "    p2 = plot(t,x[2], label = \"simulação 2\")\n",
    "    p2= plot!([xr[2]],seriestype= :hline, label = \"referência 2\")\n",
    "    p3 = plot(t,x[3], label = \"simulação 3\")\n",
    "    p3= plot!([xr[3]],seriestype= :hline, label = \"referência 3\")\n",
    "    p4 = plot(t,x[4], label = \"simulação 4\")\n",
    "    p4= plot!([xr[4]],seriestype= :hline, label = \"referência 4\")\n",
    "    p5 = plot(t,x[5], label = \"simulação 5\")\n",
    "    p5= plot!([xr[5]],seriestype= :hline, label = \"referência 5\")\n",
    "    p6 = plot(t,x[6], label = \"simulação 6\")\n",
    "    p6= plot!([xr[6]],seriestype= :hline, label = \"referência 6\")\n",
    "    p7 = plot(t,x[7], label = \"simulação 7\")\n",
    "    p7= plot!([xr[7]],seriestype= :hline, label = \"referência 7\")\n",
    "    plot(p1,p2,p3,p4,p5,p6,p7, layout =(7,1))\n",
    "end"
   ]
  },
  {
   "cell_type": "code",
   "execution_count": 9,
   "metadata": {
    "ExecuteTime": {
     "end_time": "2018-04-28T19:48:58.210000-03:00",
     "start_time": "2018-04-28T22:48:32.312Z"
    }
   },
   "outputs": [
    {
     "data": {
      "image/png": "[encoded data removed]"
     },
     "execution_count": 9,
     "metadata": {},
     "output_type": "execute_result"
    }
   ],
   "source": [
    "plotx(7)"
   ]
  },
  {
   "cell_type": "code",
   "execution_count": 14,
   "metadata": {
    "ExecuteTime": {
     "end_time": "2018-04-28T19:52:48.125000-03:00",
     "start_time": "2018-04-28T22:52:48.116Z"
    }
   },
   "outputs": [
    {
     "data": {
      "text/markdown": [
       "|              –- |  junta 1 |  junta 2 | junta 3 |  junta 4 |  junta 5 |   junta 6 | junta 7 |\n",
       "| ---------------:| --------:| --------:| -------:| --------:| --------:| ---------:| -------:|\n",
       "| **Jerk máximo** | 13441.05 |  3190.32 | 14825.2 |  5260.13 | 11600.64 |  26422.53 |  206.64 |\n",
       "|  **Jerk total** |  42635.2 | 15779.82 | 89682.8 | 22461.32 | 60583.27 | 108654.89 |  282.25 |\n"
      ],
      "text/plain": [
       "|              –- |  junta 1 |  junta 2 | junta 3 |  junta 4 |  junta 5 |   junta 6 | junta 7 |\n",
       "| ---------------:| --------:| --------:| -------:| --------:| --------:| ---------:| -------:|\n",
       "| **Jerk máximo** | 13441.05 |  3190.32 | 14825.2 |  5260.13 | 11600.64 |  26422.53 |  206.64 |\n",
       "|  **Jerk total** |  42635.2 | 15779.82 | 89682.8 | 22461.32 | 60583.27 | 108654.89 |  282.25 |\n"
      ]
     },
     "execution_count": 14,
     "metadata": {},
     "output_type": "execute_result"
    }
   ],
   "source": [
    "tabela(j,\"Jerk\")"
   ]
  },
  {
   "cell_type": "code",
   "execution_count": 13,
   "metadata": {
    "ExecuteTime": {
     "end_time": "2018-04-28T19:52:45.451000-03:00",
     "start_time": "2018-04-28T22:52:45.444Z"
    }
   },
   "outputs": [
    {
     "data": {
      "text/markdown": [
       "|                –- | junta 1 | junta 2 | junta 3 | junta 4 | junta 5 | junta 6 | junta 7 |\n",
       "| -----------------:| -------:| -------:| -------:| -------:| -------:| -------:| -------:|\n",
       "| **Torque máximo** |     0.0 |     0.0 |     0.0 |     0.0 |     0.0 |     0.0 |    0.68 |\n",
       "|  **Torque total** |     0.0 |     0.0 |     0.0 |     0.0 |     0.0 |     0.0 |    2.87 |\n"
      ],
      "text/plain": [
       "|                –- | junta 1 | junta 2 | junta 3 | junta 4 | junta 5 | junta 6 | junta 7 |\n",
       "| -----------------:| -------:| -------:| -------:| -------:| -------:| -------:| -------:|\n",
       "| **Torque máximo** |     0.0 |     0.0 |     0.0 |     0.0 |     0.0 |     0.0 |    0.68 |\n",
       "|  **Torque total** |     0.0 |     0.0 |     0.0 |     0.0 |     0.0 |     0.0 |    2.87 |\n"
      ]
     },
     "execution_count": 13,
     "metadata": {},
     "output_type": "execute_result"
    }
   ],
   "source": [
    "tabela(τ,\"Torque\")"
   ]
  },
  {
   "cell_type": "code",
   "execution_count": null,
   "metadata": {},
   "outputs": [],
   "source": []
  }
 ],
 "metadata": {
  "kernelspec": {
   "display_name": "Julia 0.6.2",
   "language": "julia",
   "name": "julia-0.6"
  },
  "language_info": {
   "file_extension": ".jl",
   "mimetype": "application/julia",
   "name": "julia",
   "version": "0.6.2"
  },
  "notify_time": "5",
  "toc": {
   "nav_menu": {},
   "number_sections": true,
   "sideBar": true,
   "skip_h1_title": false,
   "title_cell": "Table of Contents",
   "title_sidebar": "Contents",
   "toc_cell": false,
   "toc_position": {},
   "toc_section_display": true,
   "toc_window_display": false
  },
  "varInspector": {
   "cols": {
    "lenName": 16,
    "lenType": 16,
    "lenVar": 40
   },
   "kernels_config": {
    "python": {
     "delete_cmd_postfix": "",
     "delete_cmd_prefix": "del ",
     "library": "var_list.py",
     "varRefreshCmd": "print(var_dic_list())"
    },
    "r": {
     "delete_cmd_postfix": ") ",
     "delete_cmd_prefix": "rm(",
     "library": "var_list.r",
     "varRefreshCmd": "cat(var_dic_list()) "
    }
   },
   "types_to_exclude": [
    "module",
    "function",
    "builtin_function_or_method",
    "instance",
    "_Feature"
   ],
   "window_display": false
  }
 },
 "nbformat": 4,
 "nbformat_minor": 2
}
